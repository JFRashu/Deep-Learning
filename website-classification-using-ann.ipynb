{
 "cells": [
  {
   "cell_type": "markdown",
   "id": "292f5709",
   "metadata": {
    "papermill": {
     "duration": 0.006587,
     "end_time": "2025-06-04T12:06:04.583646",
     "exception": false,
     "start_time": "2025-06-04T12:06:04.577059",
     "status": "completed"
    },
    "tags": []
   },
   "source": [
    "# Necessary Imports"
   ]
  },
  {
   "cell_type": "code",
   "execution_count": 1,
   "id": "f4a99311",
   "metadata": {
    "execution": {
     "iopub.execute_input": "2025-06-04T12:06:04.597103Z",
     "iopub.status.busy": "2025-06-04T12:06:04.596677Z",
     "iopub.status.idle": "2025-06-04T12:06:19.101597Z",
     "shell.execute_reply": "2025-06-04T12:06:19.100401Z"
    },
    "papermill": {
     "duration": 14.513081,
     "end_time": "2025-06-04T12:06:19.103130",
     "exception": false,
     "start_time": "2025-06-04T12:06:04.590049",
     "status": "completed"
    },
    "tags": []
   },
   "outputs": [
    {
     "data": {
      "text/html": [
       "\n",
       "            <div>\n",
       "                <ins><a href=\"https://ydata.ai/register\">Upgrade to ydata-sdk</a></ins>\n",
       "                <p>\n",
       "                    Improve your data and profiling with ydata-sdk, featuring data quality scoring, redundancy detection, outlier identification, text validation, and synthetic data generation.\n",
       "                </p>\n",
       "            </div>\n",
       "            "
      ],
      "text/plain": [
       "<IPython.core.display.HTML object>"
      ]
     },
     "metadata": {},
     "output_type": "display_data"
    },
    {
     "name": "stdout",
     "output_type": "stream",
     "text": [
      "Setup Complete\n"
     ]
    }
   ],
   "source": [
    "import pandas as pd\n",
    "import numpy as np\n",
    "import matplotlib.pyplot as plt\n",
    "import seaborn as sns\n",
    "from ydata_profiling import ProfileReport\n",
    "from IPython.display import HTML, IFrame, FileLink\n",
    "from sklearn.model_selection import train_test_split\n",
    "from sklearn.feature_extraction.text import CountVectorizer\n",
    "from sklearn.preprocessing import LabelEncoder\n",
    "from sklearn.metrics import classification_report, confusion_matrix\n",
    "import torch\n",
    "import torch.nn as nn\n",
    "import torch.optim as optim\n",
    "from torch.utils.data import DataLoader, TensorDataset\n",
    "print(\"Setup Complete\")"
   ]
  },
  {
   "cell_type": "markdown",
   "id": "7838853f",
   "metadata": {
    "papermill": {
     "duration": 0.005336,
     "end_time": "2025-06-04T12:06:19.114458",
     "exception": false,
     "start_time": "2025-06-04T12:06:19.109122",
     "status": "completed"
    },
    "tags": []
   },
   "source": [
    "# Connect Dataset"
   ]
  },
  {
   "cell_type": "code",
   "execution_count": 2,
   "id": "e2e6ee07",
   "metadata": {
    "execution": {
     "iopub.execute_input": "2025-06-04T12:06:19.126909Z",
     "iopub.status.busy": "2025-06-04T12:06:19.126333Z",
     "iopub.status.idle": "2025-06-04T12:06:19.415009Z",
     "shell.execute_reply": "2025-06-04T12:06:19.414119Z"
    },
    "papermill": {
     "duration": 0.297159,
     "end_time": "2025-06-04T12:06:19.416989",
     "exception": false,
     "start_time": "2025-06-04T12:06:19.119830",
     "status": "completed"
    },
    "tags": []
   },
   "outputs": [],
   "source": [
    "dataset_path = '/kaggle/input/website-classification/website_classification.csv'\n",
    "dataset = pd.read_csv(dataset_path)"
   ]
  },
  {
   "cell_type": "markdown",
   "id": "e56f40cd",
   "metadata": {
    "papermill": {
     "duration": 0.005694,
     "end_time": "2025-06-04T12:06:19.428457",
     "exception": false,
     "start_time": "2025-06-04T12:06:19.422763",
     "status": "completed"
    },
    "tags": []
   },
   "source": [
    "# Display Basic Info"
   ]
  },
  {
   "cell_type": "code",
   "execution_count": 3,
   "id": "73ff6abb",
   "metadata": {
    "execution": {
     "iopub.execute_input": "2025-06-04T12:06:19.440832Z",
     "iopub.status.busy": "2025-06-04T12:06:19.440509Z",
     "iopub.status.idle": "2025-06-04T12:06:19.454861Z",
     "shell.execute_reply": "2025-06-04T12:06:19.453491Z"
    },
    "papermill": {
     "duration": 0.023055,
     "end_time": "2025-06-04T12:06:19.457097",
     "exception": false,
     "start_time": "2025-06-04T12:06:19.434042",
     "status": "completed"
    },
    "tags": []
   },
   "outputs": [
    {
     "name": "stdout",
     "output_type": "stream",
     "text": [
      "Dataset Shape: (1408, 4)\n",
      "\n",
      "Category Distribution:\n",
      "Category\n",
      "Education                          114\n",
      "Business/Corporate                 109\n",
      "Travel                             107\n",
      "Streaming Services                 105\n",
      "Sports                             104\n",
      "E-Commerce                         102\n",
      "Games                               98\n",
      "News                                96\n",
      "Health and Fitness                  96\n",
      "Photography                         93\n",
      "Computers and Technology            93\n",
      "Food                                92\n",
      "Law and Government                  84\n",
      "Social Networking and Messaging     83\n",
      "Forums                              16\n",
      "Adult                               16\n",
      "Name: count, dtype: int64\n"
     ]
    }
   ],
   "source": [
    "print(\"Dataset Shape:\", dataset.shape)\n",
    "print(\"\\nCategory Distribution:\")\n",
    "print(dataset['Category'].value_counts())"
   ]
  },
  {
   "cell_type": "markdown",
   "id": "26300e87",
   "metadata": {
    "papermill": {
     "duration": 0.005236,
     "end_time": "2025-06-04T12:06:19.468195",
     "exception": false,
     "start_time": "2025-06-04T12:06:19.462959",
     "status": "completed"
    },
    "tags": []
   },
   "source": [
    "# Data Profiling (Optional, for exploration)"
   ]
  },
  {
   "cell_type": "code",
   "execution_count": 4,
   "id": "9e78dd67",
   "metadata": {
    "execution": {
     "iopub.execute_input": "2025-06-04T12:06:19.481524Z",
     "iopub.status.busy": "2025-06-04T12:06:19.480711Z",
     "iopub.status.idle": "2025-06-04T12:06:24.900004Z",
     "shell.execute_reply": "2025-06-04T12:06:24.899023Z"
    },
    "papermill": {
     "duration": 5.427259,
     "end_time": "2025-06-04T12:06:24.901352",
     "exception": false,
     "start_time": "2025-06-04T12:06:19.474093",
     "status": "completed"
    },
    "tags": []
   },
   "outputs": [
    {
     "data": {
      "application/vnd.jupyter.widget-view+json": {
       "model_id": "c0f70845f31f4a1981ace1edb3d0bad7",
       "version_major": 2,
       "version_minor": 0
      },
      "text/plain": [
       "Summarize dataset:   0%|          | 0/5 [00:00<?, ?it/s]"
      ]
     },
     "metadata": {},
     "output_type": "display_data"
    },
    {
     "name": "stderr",
     "output_type": "stream",
     "text": [
      "\n",
      "  0%|          | 0/4 [00:00<?, ?it/s]\u001b[A\n",
      " 50%|█████     | 2/4 [00:00<00:00,  5.96it/s]\u001b[A\n",
      "100%|██████████| 4/4 [00:01<00:00,  2.04it/s]\n"
     ]
    },
    {
     "data": {
      "application/vnd.jupyter.widget-view+json": {
       "model_id": "8a6bf0e2bf3846d18cc83acdc195e063",
       "version_major": 2,
       "version_minor": 0
      },
      "text/plain": [
       "Generate report structure:   0%|          | 0/1 [00:00<?, ?it/s]"
      ]
     },
     "metadata": {},
     "output_type": "display_data"
    },
    {
     "data": {
      "application/vnd.jupyter.widget-view+json": {
       "model_id": "56637ddea66541feb92f300283d7410c",
       "version_major": 2,
       "version_minor": 0
      },
      "text/plain": [
       "Render HTML:   0%|          | 0/1 [00:00<?, ?it/s]"
      ]
     },
     "metadata": {},
     "output_type": "display_data"
    },
    {
     "data": {
      "application/vnd.jupyter.widget-view+json": {
       "model_id": "e5bd5972be4044d783180045aa48ed46",
       "version_major": 2,
       "version_minor": 0
      },
      "text/plain": [
       "Export report to file:   0%|          | 0/1 [00:00<?, ?it/s]"
      ]
     },
     "metadata": {},
     "output_type": "display_data"
    },
    {
     "name": "stdout",
     "output_type": "stream",
     "text": [
      "\n",
      "Profile report generated! View it below or download:\n"
     ]
    },
    {
     "data": {
      "text/html": [
       "\n",
       "        <iframe\n",
       "            width=\"1000\"\n",
       "            height=\"600\"\n",
       "            src=\"website_classification_profile.html\"\n",
       "            frameborder=\"0\"\n",
       "            allowfullscreen\n",
       "            \n",
       "        ></iframe>\n",
       "        "
      ],
      "text/plain": [
       "<IPython.lib.display.IFrame at 0x7e930cef1650>"
      ]
     },
     "metadata": {},
     "output_type": "display_data"
    },
    {
     "data": {
      "text/html": [
       "<a href='website_classification_profile.html' target='_blank'>website_classification_profile.html</a><br>"
      ],
      "text/plain": [
       "/kaggle/working/website_classification_profile.html"
      ]
     },
     "metadata": {},
     "output_type": "display_data"
    }
   ],
   "source": [
    "profile = ProfileReport(dataset, title=\"Website Classification Report\", explorative=True)\n",
    "profile.to_file(\"website_classification_profile.html\")\n",
    "print(\"\\nProfile report generated! View it below or download:\")\n",
    "display(IFrame(src=\"website_classification_profile.html\", width=1000, height=600))\n",
    "display(FileLink('website_classification_profile.html'))"
   ]
  },
  {
   "cell_type": "markdown",
   "id": "8a6f80b6",
   "metadata": {
    "papermill": {
     "duration": 0.006874,
     "end_time": "2025-06-04T12:06:24.915203",
     "exception": false,
     "start_time": "2025-06-04T12:06:24.908329",
     "status": "completed"
    },
    "tags": []
   },
   "source": [
    "# Dataset Preprocessing"
   ]
  },
  {
   "cell_type": "code",
   "execution_count": 5,
   "id": "d4d3f8fb",
   "metadata": {
    "execution": {
     "iopub.execute_input": "2025-06-04T12:06:24.930502Z",
     "iopub.status.busy": "2025-06-04T12:06:24.929764Z",
     "iopub.status.idle": "2025-06-04T12:06:24.956037Z",
     "shell.execute_reply": "2025-06-04T12:06:24.954956Z"
    },
    "papermill": {
     "duration": 0.035189,
     "end_time": "2025-06-04T12:06:24.957370",
     "exception": false,
     "start_time": "2025-06-04T12:06:24.922181",
     "status": "completed"
    },
    "tags": []
   },
   "outputs": [
    {
     "name": "stdout",
     "output_type": "stream",
     "text": [
      "\n",
      "Null Values: Unnamed: 0              0\n",
      "website_url             0\n",
      "cleaned_website_text    0\n",
      "Category                0\n",
      "dtype: int64\n"
     ]
    }
   ],
   "source": [
    "dataset.drop_duplicates(inplace=True)\n",
    "print(\"\\nNull Values:\", dataset.isnull().sum())"
   ]
  },
  {
   "cell_type": "markdown",
   "id": "472b803c",
   "metadata": {
    "papermill": {
     "duration": 0.006394,
     "end_time": "2025-06-04T12:06:24.970582",
     "exception": false,
     "start_time": "2025-06-04T12:06:24.964188",
     "status": "completed"
    },
    "tags": []
   },
   "source": [
    "# Prepare Data for ANN"
   ]
  },
  {
   "cell_type": "code",
   "execution_count": 6,
   "id": "87ab37b2",
   "metadata": {
    "execution": {
     "iopub.execute_input": "2025-06-04T12:06:24.985152Z",
     "iopub.status.busy": "2025-06-04T12:06:24.984805Z",
     "iopub.status.idle": "2025-06-04T12:06:24.989352Z",
     "shell.execute_reply": "2025-06-04T12:06:24.988402Z"
    },
    "papermill": {
     "duration": 0.01369,
     "end_time": "2025-06-04T12:06:24.990913",
     "exception": false,
     "start_time": "2025-06-04T12:06:24.977223",
     "status": "completed"
    },
    "tags": []
   },
   "outputs": [],
   "source": [
    "X = dataset['cleaned_website_text'].values\n",
    "y = dataset['Category'].values"
   ]
  },
  {
   "cell_type": "markdown",
   "id": "f46f1cec",
   "metadata": {
    "papermill": {
     "duration": 0.006693,
     "end_time": "2025-06-04T12:06:25.004651",
     "exception": false,
     "start_time": "2025-06-04T12:06:24.997958",
     "status": "completed"
    },
    "tags": []
   },
   "source": [
    "# Encode categorical labels to numeric"
   ]
  },
  {
   "cell_type": "code",
   "execution_count": 7,
   "id": "796a7dde",
   "metadata": {
    "execution": {
     "iopub.execute_input": "2025-06-04T12:06:25.020453Z",
     "iopub.status.busy": "2025-06-04T12:06:25.019744Z",
     "iopub.status.idle": "2025-06-04T12:06:25.024551Z",
     "shell.execute_reply": "2025-06-04T12:06:25.023813Z"
    },
    "papermill": {
     "duration": 0.013719,
     "end_time": "2025-06-04T12:06:25.025739",
     "exception": false,
     "start_time": "2025-06-04T12:06:25.012020",
     "status": "completed"
    },
    "tags": []
   },
   "outputs": [],
   "source": [
    "le = LabelEncoder()\n",
    "y_encoded = le.fit_transform(y)"
   ]
  },
  {
   "cell_type": "markdown",
   "id": "6386e49d",
   "metadata": {
    "papermill": {
     "duration": 0.006423,
     "end_time": "2025-06-04T12:06:25.039076",
     "exception": false,
     "start_time": "2025-06-04T12:06:25.032653",
     "status": "completed"
    },
    "tags": []
   },
   "source": [
    "# Split data into train and test sets"
   ]
  },
  {
   "cell_type": "code",
   "execution_count": 8,
   "id": "84d918a2",
   "metadata": {
    "execution": {
     "iopub.execute_input": "2025-06-04T12:06:25.054154Z",
     "iopub.status.busy": "2025-06-04T12:06:25.053621Z",
     "iopub.status.idle": "2025-06-04T12:06:25.059804Z",
     "shell.execute_reply": "2025-06-04T12:06:25.058823Z"
    },
    "papermill": {
     "duration": 0.015469,
     "end_time": "2025-06-04T12:06:25.061401",
     "exception": false,
     "start_time": "2025-06-04T12:06:25.045932",
     "status": "completed"
    },
    "tags": []
   },
   "outputs": [],
   "source": [
    "X_train, X_test, y_train, y_test = train_test_split(X, y_encoded, test_size=0.2, random_state=42)"
   ]
  },
  {
   "cell_type": "markdown",
   "id": "088d1f07",
   "metadata": {
    "papermill": {
     "duration": 0.006453,
     "end_time": "2025-06-04T12:06:25.074977",
     "exception": false,
     "start_time": "2025-06-04T12:06:25.068524",
     "status": "completed"
    },
    "tags": []
   },
   "source": [
    "# Convert text to numeric features using CountVectorizer"
   ]
  },
  {
   "cell_type": "code",
   "execution_count": 9,
   "id": "bf4286bf",
   "metadata": {
    "execution": {
     "iopub.execute_input": "2025-06-04T12:06:25.089501Z",
     "iopub.status.busy": "2025-06-04T12:06:25.089194Z",
     "iopub.status.idle": "2025-06-04T12:06:26.049045Z",
     "shell.execute_reply": "2025-06-04T12:06:26.048121Z"
    },
    "papermill": {
     "duration": 0.969221,
     "end_time": "2025-06-04T12:06:26.050854",
     "exception": false,
     "start_time": "2025-06-04T12:06:25.081633",
     "status": "completed"
    },
    "tags": []
   },
   "outputs": [],
   "source": [
    "cv = CountVectorizer(max_features=5000)  # Limit to 5000 features for efficiency\n",
    "X_train_cv = cv.fit_transform(X_train).toarray()\n",
    "X_test_cv = cv.transform(X_test).toarray()"
   ]
  },
  {
   "cell_type": "markdown",
   "id": "ef4a0dde",
   "metadata": {
    "papermill": {
     "duration": 0.00657,
     "end_time": "2025-06-04T12:06:26.064729",
     "exception": false,
     "start_time": "2025-06-04T12:06:26.058159",
     "status": "completed"
    },
    "tags": []
   },
   "source": [
    "# Convert to PyTorch tensors"
   ]
  },
  {
   "cell_type": "code",
   "execution_count": 10,
   "id": "37e52dab",
   "metadata": {
    "execution": {
     "iopub.execute_input": "2025-06-04T12:06:26.079300Z",
     "iopub.status.busy": "2025-06-04T12:06:26.079009Z",
     "iopub.status.idle": "2025-06-04T12:06:26.123710Z",
     "shell.execute_reply": "2025-06-04T12:06:26.122752Z"
    },
    "papermill": {
     "duration": 0.053947,
     "end_time": "2025-06-04T12:06:26.125447",
     "exception": false,
     "start_time": "2025-06-04T12:06:26.071500",
     "status": "completed"
    },
    "tags": []
   },
   "outputs": [],
   "source": [
    "X_train_tensor = torch.FloatTensor(X_train_cv)\n",
    "y_train_tensor = torch.LongTensor(y_train)\n",
    "X_test_tensor = torch.FloatTensor(X_test_cv)\n",
    "y_test_tensor = torch.LongTensor(y_test)"
   ]
  },
  {
   "cell_type": "markdown",
   "id": "e85957fd",
   "metadata": {
    "papermill": {
     "duration": 0.007146,
     "end_time": "2025-06-04T12:06:26.141478",
     "exception": false,
     "start_time": "2025-06-04T12:06:26.134332",
     "status": "completed"
    },
    "tags": []
   },
   "source": [
    "# Create DataLoader for batch processing"
   ]
  },
  {
   "cell_type": "code",
   "execution_count": 11,
   "id": "80d8f1a5",
   "metadata": {
    "execution": {
     "iopub.execute_input": "2025-06-04T12:06:26.156730Z",
     "iopub.status.busy": "2025-06-04T12:06:26.156003Z",
     "iopub.status.idle": "2025-06-04T12:06:26.164083Z",
     "shell.execute_reply": "2025-06-04T12:06:26.163180Z"
    },
    "papermill": {
     "duration": 0.017135,
     "end_time": "2025-06-04T12:06:26.165503",
     "exception": false,
     "start_time": "2025-06-04T12:06:26.148368",
     "status": "completed"
    },
    "tags": []
   },
   "outputs": [],
   "source": [
    "train_dataset = TensorDataset(X_train_tensor, y_train_tensor)\n",
    "test_dataset = TensorDataset(X_test_tensor, y_test_tensor)\n",
    "train_loader = DataLoader(train_dataset, batch_size=32, shuffle=True)\n",
    "test_loader = DataLoader(test_dataset, batch_size=32, shuffle=False)"
   ]
  },
  {
   "cell_type": "markdown",
   "id": "70e3d3d9",
   "metadata": {
    "papermill": {
     "duration": 0.006446,
     "end_time": "2025-06-04T12:06:26.178843",
     "exception": false,
     "start_time": "2025-06-04T12:06:26.172397",
     "status": "completed"
    },
    "tags": []
   },
   "source": [
    "# Define PyTorch ANN Model "
   ]
  },
  {
   "cell_type": "code",
   "execution_count": 12,
   "id": "b1216ef8",
   "metadata": {
    "execution": {
     "iopub.execute_input": "2025-06-04T12:06:26.193567Z",
     "iopub.status.busy": "2025-06-04T12:06:26.193256Z",
     "iopub.status.idle": "2025-06-04T12:06:26.199839Z",
     "shell.execute_reply": "2025-06-04T12:06:26.199140Z"
    },
    "papermill": {
     "duration": 0.015801,
     "end_time": "2025-06-04T12:06:26.201294",
     "exception": false,
     "start_time": "2025-06-04T12:06:26.185493",
     "status": "completed"
    },
    "tags": []
   },
   "outputs": [],
   "source": [
    "class WebsiteClassifier(nn.Module):\n",
    "    def __init__(self, input_size, hidden_size, num_classes):\n",
    "        super(WebsiteClassifier, self).__init__()\n",
    "        self.layer1 = nn.Linear(input_size, 512)\n",
    "        self.relu = nn.ReLU()\n",
    "        self.dropout = nn.Dropout(0.3)  # Added to prevent overfitting\n",
    "        self.layer2 = nn.Linear(512, 256)\n",
    "        self.layer3 = nn.Linear(256, 128)\n",
    "        self.layer4 = nn.Linear(128, 64)\n",
    "        self.layer5 = nn.Linear(64, num_classes)\n",
    "    \n",
    "    def forward(self, x):\n",
    "        x = self.layer1(x)\n",
    "        x = self.relu(x)\n",
    "        x = self.dropout(x)\n",
    "        x = self.layer2(x)\n",
    "        x = self.relu(x)\n",
    "        x = self.dropout(x)\n",
    "        x = self.layer3(x)\n",
    "        x = self.relu(x)\n",
    "        x = self.dropout(x)\n",
    "        x = self.layer4(x)\n",
    "        x = self.relu(x)\n",
    "        x = self.dropout(x)\n",
    "        x = self.layer5(x)\n",
    "        return x"
   ]
  },
  {
   "cell_type": "markdown",
   "id": "b3e40d72",
   "metadata": {
    "papermill": {
     "duration": 0.006492,
     "end_time": "2025-06-04T12:06:26.214644",
     "exception": false,
     "start_time": "2025-06-04T12:06:26.208152",
     "status": "completed"
    },
    "tags": []
   },
   "source": [
    "# Initialize Model"
   ]
  },
  {
   "cell_type": "code",
   "execution_count": 13,
   "id": "4cbb67a1",
   "metadata": {
    "execution": {
     "iopub.execute_input": "2025-06-04T12:06:26.230418Z",
     "iopub.status.busy": "2025-06-04T12:06:26.230041Z",
     "iopub.status.idle": "2025-06-04T12:06:26.270223Z",
     "shell.execute_reply": "2025-06-04T12:06:26.269398Z"
    },
    "papermill": {
     "duration": 0.050579,
     "end_time": "2025-06-04T12:06:26.271797",
     "exception": false,
     "start_time": "2025-06-04T12:06:26.221218",
     "status": "completed"
    },
    "tags": []
   },
   "outputs": [],
   "source": [
    "input_size = X_train_cv.shape[1]  # Number of features from CountVectorizer\n",
    "hidden_size = 256  \n",
    "num_classes = len(le.classes_)  # Number of unique categories (16)\n",
    "model = WebsiteClassifier(input_size, hidden_size, num_classes)"
   ]
  },
  {
   "cell_type": "markdown",
   "id": "fb8b98a7",
   "metadata": {
    "papermill": {
     "duration": 0.006318,
     "end_time": "2025-06-04T12:06:26.285134",
     "exception": false,
     "start_time": "2025-06-04T12:06:26.278816",
     "status": "completed"
    },
    "tags": []
   },
   "source": [
    "# Loss and Optimizer"
   ]
  },
  {
   "cell_type": "code",
   "execution_count": 14,
   "id": "de90eee6",
   "metadata": {
    "execution": {
     "iopub.execute_input": "2025-06-04T12:06:26.299467Z",
     "iopub.status.busy": "2025-06-04T12:06:26.299050Z",
     "iopub.status.idle": "2025-06-04T12:06:32.116368Z",
     "shell.execute_reply": "2025-06-04T12:06:32.115584Z"
    },
    "papermill": {
     "duration": 5.826277,
     "end_time": "2025-06-04T12:06:32.117951",
     "exception": false,
     "start_time": "2025-06-04T12:06:26.291674",
     "status": "completed"
    },
    "tags": []
   },
   "outputs": [],
   "source": [
    "criterion = nn.CrossEntropyLoss()\n",
    "optimizer = optim.SGD(model.parameters(), lr=0.01)  # Adjusted lr for text data"
   ]
  },
  {
   "cell_type": "markdown",
   "id": "d05fd90b",
   "metadata": {
    "papermill": {
     "duration": 0.006564,
     "end_time": "2025-06-04T12:06:32.131643",
     "exception": false,
     "start_time": "2025-06-04T12:06:32.125079",
     "status": "completed"
    },
    "tags": []
   },
   "source": [
    "# Training Loop"
   ]
  },
  {
   "cell_type": "code",
   "execution_count": 15,
   "id": "fdec38b0",
   "metadata": {
    "execution": {
     "iopub.execute_input": "2025-06-04T12:06:32.146373Z",
     "iopub.status.busy": "2025-06-04T12:06:32.145622Z",
     "iopub.status.idle": "2025-06-04T12:06:46.301448Z",
     "shell.execute_reply": "2025-06-04T12:06:46.300198Z"
    },
    "papermill": {
     "duration": 14.164782,
     "end_time": "2025-06-04T12:06:46.303027",
     "exception": false,
     "start_time": "2025-06-04T12:06:32.138245",
     "status": "completed"
    },
    "tags": []
   },
   "outputs": [
    {
     "name": "stdout",
     "output_type": "stream",
     "text": [
      "\n",
      "Training on cpu\n",
      "Epoch [10/50], Loss: 2.7285\n",
      "Epoch [20/50], Loss: 2.4668\n",
      "Epoch [30/50], Loss: 1.7659\n",
      "Epoch [40/50], Loss: 0.9815\n",
      "Epoch [50/50], Loss: 0.5363\n"
     ]
    }
   ],
   "source": [
    "num_epochs = 50\n",
    "device = torch.device('cuda' if torch.cuda.is_available() else 'cpu')\n",
    "model.to(device)\n",
    "print(f\"\\nTraining on {device}\")\n",
    "\n",
    "for epoch in range(num_epochs):\n",
    "    model.train()\n",
    "    total_loss = 0\n",
    "    for data, labels in train_loader:\n",
    "        data, labels = data.to(device), labels.to(device)\n",
    "        optimizer.zero_grad()\n",
    "        outputs = model(data)\n",
    "        loss = criterion(outputs, labels)\n",
    "        loss.backward()\n",
    "        optimizer.step()\n",
    "        total_loss += loss.item()\n",
    "    if (epoch + 1) % 10 == 0:\n",
    "        print(f'Epoch [{epoch+1}/{num_epochs}], Loss: {total_loss/len(train_loader):.4f}')"
   ]
  },
  {
   "cell_type": "markdown",
   "id": "71fb3da1",
   "metadata": {
    "papermill": {
     "duration": 0.006865,
     "end_time": "2025-06-04T12:06:46.317364",
     "exception": false,
     "start_time": "2025-06-04T12:06:46.310499",
     "status": "completed"
    },
    "tags": []
   },
   "source": [
    "# Evaluate Model"
   ]
  },
  {
   "cell_type": "code",
   "execution_count": 16,
   "id": "a80dc57a",
   "metadata": {
    "execution": {
     "iopub.execute_input": "2025-06-04T12:06:46.332721Z",
     "iopub.status.busy": "2025-06-04T12:06:46.332404Z",
     "iopub.status.idle": "2025-06-04T12:06:46.373123Z",
     "shell.execute_reply": "2025-06-04T12:06:46.372063Z"
    },
    "papermill": {
     "duration": 0.050401,
     "end_time": "2025-06-04T12:06:46.374784",
     "exception": false,
     "start_time": "2025-06-04T12:06:46.324383",
     "status": "completed"
    },
    "tags": []
   },
   "outputs": [
    {
     "name": "stdout",
     "output_type": "stream",
     "text": [
      "\n",
      "Test Accuracy: 86.17%\n"
     ]
    }
   ],
   "source": [
    "model.eval()\n",
    "correct = 0\n",
    "total = 0\n",
    "y_pred = []\n",
    "y_true = []\n",
    "with torch.no_grad():\n",
    "    for data, labels in test_loader:\n",
    "        data, labels = data.to(device), labels.to(device)\n",
    "        outputs = model(data)\n",
    "        _, predicted = torch.max(outputs, 1)\n",
    "        total += labels.size(0)\n",
    "        correct += (predicted == labels).sum().item()\n",
    "        y_pred.extend(predicted.cpu().numpy())\n",
    "        y_true.extend(labels.cpu().numpy())\n",
    "\n",
    "accuracy = 100 * correct / total\n",
    "print(f'\\nTest Accuracy: {accuracy:.2f}%')"
   ]
  },
  {
   "cell_type": "markdown",
   "id": "a2062915",
   "metadata": {
    "papermill": {
     "duration": 0.007463,
     "end_time": "2025-06-04T12:06:46.391665",
     "exception": false,
     "start_time": "2025-06-04T12:06:46.384202",
     "status": "completed"
    },
    "tags": []
   },
   "source": [
    "# Classification Report"
   ]
  },
  {
   "cell_type": "code",
   "execution_count": 17,
   "id": "6e2abea5",
   "metadata": {
    "execution": {
     "iopub.execute_input": "2025-06-04T12:06:46.407699Z",
     "iopub.status.busy": "2025-06-04T12:06:46.406748Z",
     "iopub.status.idle": "2025-06-04T12:06:46.423272Z",
     "shell.execute_reply": "2025-06-04T12:06:46.422138Z"
    },
    "papermill": {
     "duration": 0.026447,
     "end_time": "2025-06-04T12:06:46.425108",
     "exception": false,
     "start_time": "2025-06-04T12:06:46.398661",
     "status": "completed"
    },
    "tags": []
   },
   "outputs": [
    {
     "name": "stdout",
     "output_type": "stream",
     "text": [
      "\n",
      "Classification Report:\n",
      "                                 precision    recall  f1-score   support\n",
      "\n",
      "                          Adult       1.00      0.25      0.40         4\n",
      "             Business/Corporate       0.42      0.76      0.54        17\n",
      "       Computers and Technology       0.71      0.79      0.75        19\n",
      "                     E-Commerce       0.95      0.95      0.95        22\n",
      "                      Education       0.90      0.96      0.93        27\n",
      "                           Food       1.00      0.82      0.90        17\n",
      "                         Forums       0.00      0.00      0.00         2\n",
      "                          Games       1.00      0.73      0.84        22\n",
      "             Health and Fitness       1.00      0.92      0.96        13\n",
      "             Law and Government       0.96      0.96      0.96        23\n",
      "                           News       0.85      0.94      0.89        18\n",
      "                    Photography       0.86      0.90      0.88        20\n",
      "Social Networking and Messaging       1.00      0.67      0.80        18\n",
      "                         Sports       0.96      1.00      0.98        23\n",
      "             Streaming Services       0.83      0.83      0.83        18\n",
      "                         Travel       1.00      0.95      0.97        19\n",
      "\n",
      "                       accuracy                           0.86       282\n",
      "                      macro avg       0.84      0.78      0.79       282\n",
      "                   weighted avg       0.89      0.86      0.86       282\n",
      "\n"
     ]
    },
    {
     "name": "stderr",
     "output_type": "stream",
     "text": [
      "/usr/local/lib/python3.11/dist-packages/sklearn/metrics/_classification.py:1344: UndefinedMetricWarning: Precision and F-score are ill-defined and being set to 0.0 in labels with no predicted samples. Use `zero_division` parameter to control this behavior.\n",
      "  _warn_prf(average, modifier, msg_start, len(result))\n",
      "/usr/local/lib/python3.11/dist-packages/sklearn/metrics/_classification.py:1344: UndefinedMetricWarning: Precision and F-score are ill-defined and being set to 0.0 in labels with no predicted samples. Use `zero_division` parameter to control this behavior.\n",
      "  _warn_prf(average, modifier, msg_start, len(result))\n",
      "/usr/local/lib/python3.11/dist-packages/sklearn/metrics/_classification.py:1344: UndefinedMetricWarning: Precision and F-score are ill-defined and being set to 0.0 in labels with no predicted samples. Use `zero_division` parameter to control this behavior.\n",
      "  _warn_prf(average, modifier, msg_start, len(result))\n"
     ]
    }
   ],
   "source": [
    "print(\"\\nClassification Report:\")\n",
    "print(classification_report(y_true, y_pred, target_names=le.classes_))"
   ]
  },
  {
   "cell_type": "markdown",
   "id": "546600e6",
   "metadata": {
    "papermill": {
     "duration": 0.007269,
     "end_time": "2025-06-04T12:06:46.506742",
     "exception": false,
     "start_time": "2025-06-04T12:06:46.499473",
     "status": "completed"
    },
    "tags": []
   },
   "source": [
    "# Confusion Matrix Visualization"
   ]
  },
  {
   "cell_type": "code",
   "execution_count": 18,
   "id": "5ac3a607",
   "metadata": {
    "execution": {
     "iopub.execute_input": "2025-06-04T12:06:46.523481Z",
     "iopub.status.busy": "2025-06-04T12:06:46.522571Z",
     "iopub.status.idle": "2025-06-04T12:06:47.293186Z",
     "shell.execute_reply": "2025-06-04T12:06:47.291801Z"
    },
    "papermill": {
     "duration": 0.780642,
     "end_time": "2025-06-04T12:06:47.294828",
     "exception": false,
     "start_time": "2025-06-04T12:06:46.514186",
     "status": "completed"
    },
    "tags": []
   },
   "outputs": [
    {
     "data": {
      "image/png": "[encoded data removed]",
      "text/plain": [
       "<Figure size 1000x800 with 2 Axes>"
      ]
     },
     "metadata": {},
     "output_type": "display_data"
    }
   ],
   "source": [
    "cm = confusion_matrix(y_true, y_pred)\n",
    "plt.figure(figsize=(10, 8))\n",
    "sns.heatmap(cm, annot=True, fmt='d', cmap='Blues', xticklabels=le.classes_, yticklabels=le.classes_)\n",
    "plt.xlabel('Predicted')\n",
    "plt.ylabel('True')\n",
    "plt.title('Confusion Matrix')\n",
    "plt.show()"
   ]
  },
  {
   "cell_type": "markdown",
   "id": "146e86fc",
   "metadata": {
    "papermill": {
     "duration": 0.008685,
     "end_time": "2025-06-04T12:06:47.313035",
     "exception": false,
     "start_time": "2025-06-04T12:06:47.304350",
     "status": "completed"
    },
    "tags": []
   },
   "source": [
    "# Real-Time Testing"
   ]
  },
  {
   "cell_type": "code",
   "execution_count": 19,
   "id": "b30d12d5",
   "metadata": {
    "execution": {
     "iopub.execute_input": "2025-06-04T12:06:47.332239Z",
     "iopub.status.busy": "2025-06-04T12:06:47.331844Z",
     "iopub.status.idle": "2025-06-04T12:06:47.342401Z",
     "shell.execute_reply": "2025-06-04T12:06:47.341488Z"
    },
    "papermill": {
     "duration": 0.021672,
     "end_time": "2025-06-04T12:06:47.343697",
     "exception": false,
     "start_time": "2025-06-04T12:06:47.322025",
     "status": "completed"
    },
    "tags": []
   },
   "outputs": [
    {
     "name": "stdout",
     "output_type": "stream",
     "text": [
      "\n",
      "Predictions for Test Cases:\n",
      "Text: Bangladesh have been the perennial underdogs in In... \n",
      "Predicted Category: Games\n",
      "\n",
      "Text: Naive Bayes classifiers are supervised machine lea... \n",
      "Predicted Category: Computers and Technology\n",
      "\n",
      "Text: Would you like millions of new customers to enjoy ... \n",
      "Predicted Category: Business/Corporate\n",
      "\n"
     ]
    }
   ],
   "source": [
    "testcase = [\n",
    "    \"Bangladesh have been the perennial underdogs in International cricket, but somehow seem to always compete hard at the upper echelons of the sport. The team have been on a patchy record of late. In their recent tour of the West Indies, they drew the Test series 1-1, then were whitewashed in the three ODI contests, but came back to win the T20I series 3-0.\",\n",
    "    \"Naive Bayes classifiers are supervised machine learning algorithms used for classification tasks, based on Bayes’ Theorem to find probabilities. This article will give you an overview as well as more advanced use and implementation of Naive Bayes in machine learning.\",\n",
    "    \"Would you like millions of new customers to enjoy your amazing food and groceries? So would we! It's simple: we list your menu and product lists online, help you process orders, pick them up, and deliver them to hungry pandas – in a heartbeat! Interested? Let's start our partnership today!\"\n",
    "]\n",
    "testcase_cv = cv.transform(testcase).toarray()\n",
    "testcase_tensor = torch.FloatTensor(testcase_cv).to(device)\n",
    "model.eval()\n",
    "with torch.no_grad():\n",
    "    outputs = model(testcase_tensor)\n",
    "    _, predicted = torch.max(outputs, 1)\n",
    "    predicted_labels = le.inverse_transform(predicted.cpu().numpy())\n",
    "print(\"\\nPredictions for Test Cases:\")\n",
    "for text, label in zip(testcase, predicted_labels):\n",
    "    print(f\"Text: {text[:50]}... \\nPredicted Category: {label}\\n\")"
   ]
  }
 ],
 "metadata": {
  "kaggle": {
   "accelerator": "none",
   "dataSources": [
    {
     "datasetId": 1317934,
     "sourceId": 2194939,
     "sourceType": "datasetVersion"
    }
   ],
   "dockerImageVersionId": 31040,
   "isGpuEnabled": false,
   "isInternetEnabled": true,
   "language": "python",
   "sourceType": "notebook"
  },
  "kernelspec": {
   "display_name": "Python 3",
   "language": "python",
   "name": "python3"
  },
  "language_info": {
   "codemirror_mode": {
    "name": "ipython",
    "version": 3
   },
   "file_extension": ".py",
   "mimetype": "text/x-python",
   "name": "python",
   "nbconvert_exporter": "python",
   "pygments_lexer": "ipython3",
   "version": "3.11.11"
  },
  "papermill": {
   "default_parameters": {},
   "duration": 51.242973,
   "end_time": "2025-06-04T12:06:50.864548",
   "environment_variables": {},
   "exception": null,
   "input_path": "__notebook__.ipynb",
   "output_path": "__notebook__.ipynb",
   "parameters": {},
   "start_time": "2025-06-04T12:05:59.621575",
   "version": "2.6.0"
  },
  "widgets": {
   "application/vnd.jupyter.widget-state+json": {
    "state": {
     "07080e04942640b4adba26926068c5e2": {
      "model_module": "@jupyter-widgets/base",
      "model_module_version": "2.0.0",
      "model_name": "LayoutModel",
      "state": {
       "_model_module": "@jupyter-widgets/base",
       "_model_module_version": "2.0.0",
       "_model_name": "LayoutModel",
       "_view_count": null,
       "_view_module": "@jupyter-widgets/base",
       "_view_module_version": "2.0.0",
       "_view_name": "LayoutView",
       "align_content": null,
       "align_items": null,
       "align_self": null,
       "border_bottom": null,
       "border_left": null,
       "border_right": null,
       "border_top": null,
       "bottom": null,
       "display": null,
       "flex": null,
       "flex_flow": null,
       "grid_area": null,
       "grid_auto_columns": null,
       "grid_auto_flow": null,
       "grid_auto_rows": null,
       "grid_column": null,
       "grid_gap": null,
       "grid_row": null,
       "grid_template_areas": null,
       "grid_template_columns": null,
       "grid_template_rows": null,
       "height": null,
       "justify_content": null,
       "justify_items": null,
       "left": null,
       "margin": null,
       "max_height": null,
       "max_width": null,
       "min_height": null,
       "min_width": null,
       "object_fit": null,
       "object_position": null,
       "order": null,
       "overflow": null,
       "padding": null,
       "right": null,
       "top": null,
       "visibility": null,
       "width": null
      }
     },
     "0ba45659b74b4032b4bc7da54f1cc998": {
      "model_module": "@jupyter-widgets/controls",
      "model_module_version": "2.0.0",
      "model_name": "ProgressStyleModel",
      "state": {
       "_model_module": "@jupyter-widgets/controls",
       "_model_module_version": "2.0.0",
       "_model_name": "ProgressStyleModel",
       "_view_count": null,
       "_view_module": "@jupyter-widgets/base",
       "_view_module_version": "2.0.0",
       "_view_name": "StyleView",
       "bar_color": null,
       "description_width": ""
      }
     },
     "0f72a7e9e4c240668cab858369fd41fb": {
      "model_module": "@jupyter-widgets/controls",
      "model_module_version": "2.0.0",
      "model_name": "HTMLModel",
      "state": {
       "_dom_classes": [],
       "_model_module": "@jupyter-widgets/controls",
       "_model_module_version": "2.0.0",
       "_model_name": "HTMLModel",
       "_view_count": null,
       "_view_module": "@jupyter-widgets/controls",
       "_view_module_version": "2.0.0",
       "_view_name": "HTMLView",
       "description": "",
       "description_allow_html": false,
       "layout": "IPY_MODEL_1a36905befeb49f6935c3e2eb946a17d",
       "placeholder": "​",
       "style": "IPY_MODEL_86bd97ae482f469889a115651beba245",
       "tabbable": null,
       "tooltip": null,
       "value": "Summarize dataset: 100%"
      }
     },
     "10f8814fd8ea4468919b5ff4e69c29ee": {
      "model_module": "@jupyter-widgets/base",
      "model_module_version": "2.0.0",
      "model_name": "LayoutModel",
      "state": {
       "_model_module": "@jupyter-widgets/base",
       "_model_module_version": "2.0.0",
       "_model_name": "LayoutModel",
       "_view_count": null,
       "_view_module": "@jupyter-widgets/base",
       "_view_module_version": "2.0.0",
       "_view_name": "LayoutView",
       "align_content": null,
       "align_items": null,
       "align_self": null,
       "border_bottom": null,
       "border_left": null,
       "border_right": null,
       "border_top": null,
       "bottom": null,
       "display": null,
       "flex": null,
       "flex_flow": null,
       "grid_area": null,
       "grid_auto_columns": null,
       "grid_auto_flow": null,
       "grid_auto_rows": null,
       "grid_column": null,
       "grid_gap": null,
       "grid_row": null,
       "grid_template_areas": null,
       "grid_template_columns": null,
       "grid_template_rows": null,
       "height": null,
       "justify_content": null,
       "justify_items": null,
       "left": null,
       "margin": null,
       "max_height": null,
       "max_width": null,
       "min_height": null,
       "min_width": null,
       "object_fit": null,
       "object_position": null,
       "order": null,
       "overflow": null,
       "padding": null,
       "right": null,
       "top": null,
       "visibility": null,
       "width": null
      }
     },
     "1a36905befeb49f6935c3e2eb946a17d": {
      "model_module": "@jupyter-widgets/base",
      "model_module_version": "2.0.0",
      "model_name": "LayoutModel",
      "state": {
       "_model_module": "@jupyter-widgets/base",
       "_model_module_version": "2.0.0",
       "_model_name": "LayoutModel",
       "_view_count": null,
       "_view_module": "@jupyter-widgets/base",
       "_view_module_version": "2.0.0",
       "_view_name": "LayoutView",
       "align_content": null,
       "align_items": null,
       "align_self": null,
       "border_bottom": null,
       "border_left": null,
       "border_right": null,
       "border_top": null,
       "bottom": null,
       "display": null,
       "flex": null,
       "flex_flow": null,
       "grid_area": null,
       "grid_auto_columns": null,
       "grid_auto_flow": null,
       "grid_auto_rows": null,
       "grid_column": null,
       "grid_gap": null,
       "grid_row": null,
       "grid_template_areas": null,
       "grid_template_columns": null,
       "grid_template_rows": null,
       "height": null,
       "justify_content": null,
       "justify_items": null,
       "left": null,
       "margin": null,
       "max_height": null,
       "max_width": null,
       "min_height": null,
       "min_width": null,
       "object_fit": null,
       "object_position": null,
       "order": null,
       "overflow": null,
       "padding": null,
       "right": null,
       "top": null,
       "visibility": null,
       "width": null
      }
     },
     "1c25e82e3a8344dda8464f7922775651": {
      "model_module": "@jupyter-widgets/base",
      "model_module_version": "2.0.0",
      "model_name": "LayoutModel",
      "state": {
       "_model_module": "@jupyter-widgets/base",
       "_model_module_version": "2.0.0",
       "_model_name": "LayoutModel",
       "_view_count": null,
       "_view_module": "@jupyter-widgets/base",
       "_view_module_version": "2.0.0",
       "_view_name": "LayoutView",
       "align_content": null,
       "align_items": null,
       "align_self": null,
       "border_bottom": null,
       "border_left": null,
       "border_right": null,
       "border_top": null,
       "bottom": null,
       "display": null,
       "flex": null,
       "flex_flow": null,
       "grid_area": null,
       "grid_auto_columns": null,
       "grid_auto_flow": null,
       "grid_auto_rows": null,
       "grid_column": null,
       "grid_gap": null,
       "grid_row": null,
       "grid_template_areas": null,
       "grid_template_columns": null,
       "grid_template_rows": null,
       "height": null,
       "justify_content": null,
       "justify_items": null,
       "left": null,
       "margin": null,
       "max_height": null,
       "max_width": null,
       "min_height": null,
       "min_width": null,
       "object_fit": null,
       "object_position": null,
       "order": null,
       "overflow": null,
       "padding": null,
       "right": null,
       "top": null,
       "visibility": null,
       "width": null
      }
     },
     "260e35b1a32a4a87b0f87602de975787": {
      "model_module": "@jupyter-widgets/controls",
      "model_module_version": "2.0.0",
      "model_name": "ProgressStyleModel",
      "state": {
       "_model_module": "@jupyter-widgets/controls",
       "_model_module_version": "2.0.0",
       "_model_name": "ProgressStyleModel",
       "_view_count": null,
       "_view_module": "@jupyter-widgets/base",
       "_view_module_version": "2.0.0",
       "_view_name": "StyleView",
       "bar_color": null,
       "description_width": ""
      }
     },
     "2789da89881b4e24997fdc45ec3c162e": {
      "model_module": "@jupyter-widgets/controls",
      "model_module_version": "2.0.0",
      "model_name": "HTMLModel",
      "state": {
       "_dom_classes": [],
       "_model_module": "@jupyter-widgets/controls",
       "_model_module_version": "2.0.0",
       "_model_name": "HTMLModel",
       "_view_count": null,
       "_view_module": "@jupyter-widgets/controls",
       "_view_module_version": "2.0.0",
       "_view_name": "HTMLView",
       "description": "",
       "description_allow_html": false,
       "layout": "IPY_MODEL_40750ca6e54e41bfac882142481ce41d",
       "placeholder": "​",
       "style": "IPY_MODEL_b5341a124dbc4d33b07fe22c0199f20f",
       "tabbable": null,
       "tooltip": null,
       "value": "Generate report structure: 100%"
      }
     },
     "29385ad287754206bf109f579155316a": {
      "model_module": "@jupyter-widgets/controls",
      "model_module_version": "2.0.0",
      "model_name": "HTMLStyleModel",
      "state": {
       "_model_module": "@jupyter-widgets/controls",
       "_model_module_version": "2.0.0",
       "_model_name": "HTMLStyleModel",
       "_view_count": null,
       "_view_module": "@jupyter-widgets/base",
       "_view_module_version": "2.0.0",
       "_view_name": "StyleView",
       "background": null,
       "description_width": "",
       "font_size": null,
       "text_color": null
      }
     },
     "2ac8469c695a42168cee1ec4ef7935ee": {
      "model_module": "@jupyter-widgets/controls",
      "model_module_version": "2.0.0",
      "model_name": "HTMLModel",
      "state": {
       "_dom_classes": [],
       "_model_module": "@jupyter-widgets/controls",
       "_model_module_version": "2.0.0",
       "_model_name": "HTMLModel",
       "_view_count": null,
       "_view_module": "@jupyter-widgets/controls",
       "_view_module_version": "2.0.0",
       "_view_name": "HTMLView",
       "description": "",
       "description_allow_html": false,
       "layout": "IPY_MODEL_58a298447edf444bb6302382c39119c9",
       "placeholder": "​",
       "style": "IPY_MODEL_29385ad287754206bf109f579155316a",
       "tabbable": null,
       "tooltip": null,
       "value": " 1/1 [00:01&lt;00:00,  1.90s/it]"
      }
     },
     "3721f97a80194bc583d0b13d1368dfc3": {
      "model_module": "@jupyter-widgets/controls",
      "model_module_version": "2.0.0",
      "model_name": "HTMLStyleModel",
      "state": {
       "_model_module": "@jupyter-widgets/controls",
       "_model_module_version": "2.0.0",
       "_model_name": "HTMLStyleModel",
       "_view_count": null,
       "_view_module": "@jupyter-widgets/base",
       "_view_module_version": "2.0.0",
       "_view_name": "StyleView",
       "background": null,
       "description_width": "",
       "font_size": null,
       "text_color": null
      }
     },
     "40750ca6e54e41bfac882142481ce41d": {
      "model_module": "@jupyter-widgets/base",
      "model_module_version": "2.0.0",
      "model_name": "LayoutModel",
      "state": {
       "_model_module": "@jupyter-widgets/base",
       "_model_module_version": "2.0.0",
       "_model_name": "LayoutModel",
       "_view_count": null,
       "_view_module": "@jupyter-widgets/base",
       "_view_module_version": "2.0.0",
       "_view_name": "LayoutView",
       "align_content": null,
       "align_items": null,
       "align_self": null,
       "border_bottom": null,
       "border_left": null,
       "border_right": null,
       "border_top": null,
       "bottom": null,
       "display": null,
       "flex": null,
       "flex_flow": null,
       "grid_area": null,
       "grid_auto_columns": null,
       "grid_auto_flow": null,
       "grid_auto_rows": null,
       "grid_column": null,
       "grid_gap": null,
       "grid_row": null,
       "grid_template_areas": null,
       "grid_template_columns": null,
       "grid_template_rows": null,
       "height": null,
       "justify_content": null,
       "justify_items": null,
       "left": null,
       "margin": null,
       "max_height": null,
       "max_width": null,
       "min_height": null,
       "min_width": null,
       "object_fit": null,
       "object_position": null,
       "order": null,
       "overflow": null,
       "padding": null,
       "right": null,
       "top": null,
       "visibility": null,
       "width": null
      }
     },
     "53d84aee98d94d70b6ec386e15932d0b": {
      "model_module": "@jupyter-widgets/controls",
      "model_module_version": "2.0.0",
      "model_name": "FloatProgressModel",
      "state": {
       "_dom_classes": [],
       "_model_module": "@jupyter-widgets/controls",
       "_model_module_version": "2.0.0",
       "_model_name": "FloatProgressModel",
       "_view_count": null,
       "_view_module": "@jupyter-widgets/controls",
       "_view_module_version": "2.0.0",
       "_view_name": "ProgressView",
       "bar_style": "success",
       "description": "",
       "description_allow_html": false,
       "layout": "IPY_MODEL_cbf7895a64134263a076b5958417d0c0",
       "max": 1.0,
       "min": 0.0,
       "orientation": "horizontal",
       "style": "IPY_MODEL_260e35b1a32a4a87b0f87602de975787",
       "tabbable": null,
       "tooltip": null,
       "value": 1.0
      }
     },
     "56637ddea66541feb92f300283d7410c": {
      "model_module": "@jupyter-widgets/controls",
      "model_module_version": "2.0.0",
      "model_name": "HBoxModel",
      "state": {
       "_dom_classes": [],
       "_model_module": "@jupyter-widgets/controls",
       "_model_module_version": "2.0.0",
       "_model_name": "HBoxModel",
       "_view_count": null,
       "_view_module": "@jupyter-widgets/controls",
       "_view_module_version": "2.0.0",
       "_view_name": "HBoxView",
       "box_style": "",
       "children": [
        "IPY_MODEL_fd1de021c3544efbb5c84cdc67d5b305",
        "IPY_MODEL_aa4e131bb0ae461b93482d31096b78ac",
        "IPY_MODEL_c2e5232413994e99b5af0c151470a8c9"
       ],
       "layout": "IPY_MODEL_5a2c71dff1f04bab9832aba709e1d562",
       "tabbable": null,
       "tooltip": null
      }
     },
     "56d9893405dc421e83a3a6f88bb56df5": {
      "model_module": "@jupyter-widgets/controls",
      "model_module_version": "2.0.0",
      "model_name": "HTMLStyleModel",
      "state": {
       "_model_module": "@jupyter-widgets/controls",
       "_model_module_version": "2.0.0",
       "_model_name": "HTMLStyleModel",
       "_view_count": null,
       "_view_module": "@jupyter-widgets/base",
       "_view_module_version": "2.0.0",
       "_view_name": "StyleView",
       "background": null,
       "description_width": "",
       "font_size": null,
       "text_color": null
      }
     },
     "58a298447edf444bb6302382c39119c9": {
      "model_module": "@jupyter-widgets/base",
      "model_module_version": "2.0.0",
      "model_name": "LayoutModel",
      "state": {
       "_model_module": "@jupyter-widgets/base",
       "_model_module_version": "2.0.0",
       "_model_name": "LayoutModel",
       "_view_count": null,
       "_view_module": "@jupyter-widgets/base",
       "_view_module_version": "2.0.0",
       "_view_name": "LayoutView",
       "align_content": null,
       "align_items": null,
       "align_self": null,
       "border_bottom": null,
       "border_left": null,
       "border_right": null,
       "border_top": null,
       "bottom": null,
       "display": null,
       "flex": null,
       "flex_flow": null,
       "grid_area": null,
       "grid_auto_columns": null,
       "grid_auto_flow": null,
       "grid_auto_rows": null,
       "grid_column": null,
       "grid_gap": null,
       "grid_row": null,
       "grid_template_areas": null,
       "grid_template_columns": null,
       "grid_template_rows": null,
       "height": null,
       "justify_content": null,
       "justify_items": null,
       "left": null,
       "margin": null,
       "max_height": null,
       "max_width": null,
       "min_height": null,
       "min_width": null,
       "object_fit": null,
       "object_position": null,
       "order": null,
       "overflow": null,
       "padding": null,
       "right": null,
       "top": null,
       "visibility": null,
       "width": null
      }
     },
     "5a2c71dff1f04bab9832aba709e1d562": {
      "model_module": "@jupyter-widgets/base",
      "model_module_version": "2.0.0",
      "model_name": "LayoutModel",
      "state": {
       "_model_module": "@jupyter-widgets/base",
       "_model_module_version": "2.0.0",
       "_model_name": "LayoutModel",
       "_view_count": null,
       "_view_module": "@jupyter-widgets/base",
       "_view_module_version": "2.0.0",
       "_view_name": "LayoutView",
       "align_content": null,
       "align_items": null,
       "align_self": null,
       "border_bottom": null,
       "border_left": null,
       "border_right": null,
       "border_top": null,
       "bottom": null,
       "display": null,
       "flex": null,
       "flex_flow": null,
       "grid_area": null,
       "grid_auto_columns": null,
       "grid_auto_flow": null,
       "grid_auto_rows": null,
       "grid_column": null,
       "grid_gap": null,
       "grid_row": null,
       "grid_template_areas": null,
       "grid_template_columns": null,
       "grid_template_rows": null,
       "height": null,
       "justify_content": null,
       "justify_items": null,
       "left": null,
       "margin": null,
       "max_height": null,
       "max_width": null,
       "min_height": null,
       "min_width": null,
       "object_fit": null,
       "object_position": null,
       "order": null,
       "overflow": null,
       "padding": null,
       "right": null,
       "top": null,
       "visibility": null,
       "width": null
      }
     },
     "6d31c47d8077455f837a9274f776f202": {
      "model_module": "@jupyter-widgets/base",
      "model_module_version": "2.0.0",
      "model_name": "LayoutModel",
      "state": {
       "_model_module": "@jupyter-widgets/base",
       "_model_module_version": "2.0.0",
       "_model_name": "LayoutModel",
       "_view_count": null,
       "_view_module": "@jupyter-widgets/base",
       "_view_module_version": "2.0.0",
       "_view_name": "LayoutView",
       "align_content": null,
       "align_items": null,
       "align_self": null,
       "border_bottom": null,
       "border_left": null,
       "border_right": null,
       "border_top": null,
       "bottom": null,
       "display": null,
       "flex": null,
       "flex_flow": null,
       "grid_area": null,
       "grid_auto_columns": null,
       "grid_auto_flow": null,
       "grid_auto_rows": null,
       "grid_column": null,
       "grid_gap": null,
       "grid_row": null,
       "grid_template_areas": null,
       "grid_template_columns": null,
       "grid_template_rows": null,
       "height": null,
       "justify_content": null,
       "justify_items": null,
       "left": null,
       "margin": null,
       "max_height": null,
       "max_width": null,
       "min_height": null,
       "min_width": null,
       "object_fit": null,
       "object_position": null,
       "order": null,
       "overflow": null,
       "padding": null,
       "right": null,
       "top": null,
       "visibility": null,
       "width": null
      }
     },
     "711dd83897e54ff2a859fe0215d9288a": {
      "model_module": "@jupyter-widgets/base",
      "model_module_version": "2.0.0",
      "model_name": "LayoutModel",
      "state": {
       "_model_module": "@jupyter-widgets/base",
       "_model_module_version": "2.0.0",
       "_model_name": "LayoutModel",
       "_view_count": null,
       "_view_module": "@jupyter-widgets/base",
       "_view_module_version": "2.0.0",
       "_view_name": "LayoutView",
       "align_content": null,
       "align_items": null,
       "align_self": null,
       "border_bottom": null,
       "border_left": null,
       "border_right": null,
       "border_top": null,
       "bottom": null,
       "display": null,
       "flex": null,
       "flex_flow": null,
       "grid_area": null,
       "grid_auto_columns": null,
       "grid_auto_flow": null,
       "grid_auto_rows": null,
       "grid_column": null,
       "grid_gap": null,
       "grid_row": null,
       "grid_template_areas": null,
       "grid_template_columns": null,
       "grid_template_rows": null,
       "height": null,
       "justify_content": null,
       "justify_items": null,
       "left": null,
       "margin": null,
       "max_height": null,
       "max_width": null,
       "min_height": null,
       "min_width": null,
       "object_fit": null,
       "object_position": null,
       "order": null,
       "overflow": null,
       "padding": null,
       "right": null,
       "top": null,
       "visibility": null,
       "width": null
      }
     },
     "82725f5bd5fb47c3aa6e8b8961ccd77c": {
      "model_module": "@jupyter-widgets/base",
      "model_module_version": "2.0.0",
      "model_name": "LayoutModel",
      "state": {
       "_model_module": "@jupyter-widgets/base",
       "_model_module_version": "2.0.0",
       "_model_name": "LayoutModel",
       "_view_count": null,
       "_view_module": "@jupyter-widgets/base",
       "_view_module_version": "2.0.0",
       "_view_name": "LayoutView",
       "align_content": null,
       "align_items": null,
       "align_self": null,
       "border_bottom": null,
       "border_left": null,
       "border_right": null,
       "border_top": null,
       "bottom": null,
       "display": null,
       "flex": null,
       "flex_flow": null,
       "grid_area": null,
       "grid_auto_columns": null,
       "grid_auto_flow": null,
       "grid_auto_rows": null,
       "grid_column": null,
       "grid_gap": null,
       "grid_row": null,
       "grid_template_areas": null,
       "grid_template_columns": null,
       "grid_template_rows": null,
       "height": null,
       "justify_content": null,
       "justify_items": null,
       "left": null,
       "margin": null,
       "max_height": null,
       "max_width": null,
       "min_height": null,
       "min_width": null,
       "object_fit": null,
       "object_position": null,
       "order": null,
       "overflow": null,
       "padding": null,
       "right": null,
       "top": null,
       "visibility": null,
       "width": null
      }
     },
     "86bd97ae482f469889a115651beba245": {
      "model_module": "@jupyter-widgets/controls",
      "model_module_version": "2.0.0",
      "model_name": "HTMLStyleModel",
      "state": {
       "_model_module": "@jupyter-widgets/controls",
       "_model_module_version": "2.0.0",
       "_model_name": "HTMLStyleModel",
       "_view_count": null,
       "_view_module": "@jupyter-widgets/base",
       "_view_module_version": "2.0.0",
       "_view_name": "StyleView",
       "background": null,
       "description_width": "",
       "font_size": null,
       "text_color": null
      }
     },
     "8a6bf0e2bf3846d18cc83acdc195e063": {
      "model_module": "@jupyter-widgets/controls",
      "model_module_version": "2.0.0",
      "model_name": "HBoxModel",
      "state": {
       "_dom_classes": [],
       "_model_module": "@jupyter-widgets/controls",
       "_model_module_version": "2.0.0",
       "_model_name": "HBoxModel",
       "_view_count": null,
       "_view_module": "@jupyter-widgets/controls",
       "_view_module_version": "2.0.0",
       "_view_name": "HBoxView",
       "box_style": "",
       "children": [
        "IPY_MODEL_2789da89881b4e24997fdc45ec3c162e",
        "IPY_MODEL_9de0e6c543d742c2a1b836235756acef",
        "IPY_MODEL_2ac8469c695a42168cee1ec4ef7935ee"
       ],
       "layout": "IPY_MODEL_1c25e82e3a8344dda8464f7922775651",
       "tabbable": null,
       "tooltip": null
      }
     },
     "8b3880fc6f754329a0647421d9cfbc5c": {
      "model_module": "@jupyter-widgets/controls",
      "model_module_version": "2.0.0",
      "model_name": "HTMLStyleModel",
      "state": {
       "_model_module": "@jupyter-widgets/controls",
       "_model_module_version": "2.0.0",
       "_model_name": "HTMLStyleModel",
       "_view_count": null,
       "_view_module": "@jupyter-widgets/base",
       "_view_module_version": "2.0.0",
       "_view_name": "StyleView",
       "background": null,
       "description_width": "",
       "font_size": null,
       "text_color": null
      }
     },
     "8ba73b0e675446dda328ddcea6adf4f9": {
      "model_module": "@jupyter-widgets/controls",
      "model_module_version": "2.0.0",
      "model_name": "HTMLModel",
      "state": {
       "_dom_classes": [],
       "_model_module": "@jupyter-widgets/controls",
       "_model_module_version": "2.0.0",
       "_model_name": "HTMLModel",
       "_view_count": null,
       "_view_module": "@jupyter-widgets/controls",
       "_view_module_version": "2.0.0",
       "_view_name": "HTMLView",
       "description": "",
       "description_allow_html": false,
       "layout": "IPY_MODEL_fd3e972d41324aabad98e790bd17ba72",
       "placeholder": "​",
       "style": "IPY_MODEL_a8a7abaec74a46b2be9011db95e71112",
       "tabbable": null,
       "tooltip": null,
       "value": " 1/1 [00:00&lt;00:00, 76.98it/s]"
      }
     },
     "930fcee8aa504c458e001b9d6ddc5511": {
      "model_module": "@jupyter-widgets/controls",
      "model_module_version": "2.0.0",
      "model_name": "HTMLStyleModel",
      "state": {
       "_model_module": "@jupyter-widgets/controls",
       "_model_module_version": "2.0.0",
       "_model_name": "HTMLStyleModel",
       "_view_count": null,
       "_view_module": "@jupyter-widgets/base",
       "_view_module_version": "2.0.0",
       "_view_name": "StyleView",
       "background": null,
       "description_width": "",
       "font_size": null,
       "text_color": null
      }
     },
     "9682f661b8ab4ef8a4e2563b6a825fea": {
      "model_module": "@jupyter-widgets/controls",
      "model_module_version": "2.0.0",
      "model_name": "HTMLModel",
      "state": {
       "_dom_classes": [],
       "_model_module": "@jupyter-widgets/controls",
       "_model_module_version": "2.0.0",
       "_model_name": "HTMLModel",
       "_view_count": null,
       "_view_module": "@jupyter-widgets/controls",
       "_view_module_version": "2.0.0",
       "_view_name": "HTMLView",
       "description": "",
       "description_allow_html": false,
       "layout": "IPY_MODEL_10f8814fd8ea4468919b5ff4e69c29ee",
       "placeholder": "​",
       "style": "IPY_MODEL_56d9893405dc421e83a3a6f88bb56df5",
       "tabbable": null,
       "tooltip": null,
       "value": " 14/14 [00:02&lt;00:00,  3.86it/s, Completed]"
      }
     },
     "984dfce7c81b47e0950aa2cf40fec0ba": {
      "model_module": "@jupyter-widgets/controls",
      "model_module_version": "2.0.0",
      "model_name": "FloatProgressModel",
      "state": {
       "_dom_classes": [],
       "_model_module": "@jupyter-widgets/controls",
       "_model_module_version": "2.0.0",
       "_model_name": "FloatProgressModel",
       "_view_count": null,
       "_view_module": "@jupyter-widgets/controls",
       "_view_module_version": "2.0.0",
       "_view_name": "ProgressView",
       "bar_style": "success",
       "description": "",
       "description_allow_html": false,
       "layout": "IPY_MODEL_eea6ca9485854fe1a94cb098b221dd3f",
       "max": 5.0,
       "min": 0.0,
       "orientation": "horizontal",
       "style": "IPY_MODEL_db41edb352a74463bc7239275c70147c",
       "tabbable": null,
       "tooltip": null,
       "value": 5.0
      }
     },
     "9de0e6c543d742c2a1b836235756acef": {
      "model_module": "@jupyter-widgets/controls",
      "model_module_version": "2.0.0",
      "model_name": "FloatProgressModel",
      "state": {
       "_dom_classes": [],
       "_model_module": "@jupyter-widgets/controls",
       "_model_module_version": "2.0.0",
       "_model_name": "FloatProgressModel",
       "_view_count": null,
       "_view_module": "@jupyter-widgets/controls",
       "_view_module_version": "2.0.0",
       "_view_name": "ProgressView",
       "bar_style": "success",
       "description": "",
       "description_allow_html": false,
       "layout": "IPY_MODEL_a24641203f264009b8b70b6b69f8bc75",
       "max": 1.0,
       "min": 0.0,
       "orientation": "horizontal",
       "style": "IPY_MODEL_ed812a08d67a47509047e8c3a2842f4a",
       "tabbable": null,
       "tooltip": null,
       "value": 1.0
      }
     },
     "a24641203f264009b8b70b6b69f8bc75": {
      "model_module": "@jupyter-widgets/base",
      "model_module_version": "2.0.0",
      "model_name": "LayoutModel",
      "state": {
       "_model_module": "@jupyter-widgets/base",
       "_model_module_version": "2.0.0",
       "_model_name": "LayoutModel",
       "_view_count": null,
       "_view_module": "@jupyter-widgets/base",
       "_view_module_version": "2.0.0",
       "_view_name": "LayoutView",
       "align_content": null,
       "align_items": null,
       "align_self": null,
       "border_bottom": null,
       "border_left": null,
       "border_right": null,
       "border_top": null,
       "bottom": null,
       "display": null,
       "flex": null,
       "flex_flow": null,
       "grid_area": null,
       "grid_auto_columns": null,
       "grid_auto_flow": null,
       "grid_auto_rows": null,
       "grid_column": null,
       "grid_gap": null,
       "grid_row": null,
       "grid_template_areas": null,
       "grid_template_columns": null,
       "grid_template_rows": null,
       "height": null,
       "justify_content": null,
       "justify_items": null,
       "left": null,
       "margin": null,
       "max_height": null,
       "max_width": null,
       "min_height": null,
       "min_width": null,
       "object_fit": null,
       "object_position": null,
       "order": null,
       "overflow": null,
       "padding": null,
       "right": null,
       "top": null,
       "visibility": null,
       "width": null
      }
     },
     "a8a7abaec74a46b2be9011db95e71112": {
      "model_module": "@jupyter-widgets/controls",
      "model_module_version": "2.0.0",
      "model_name": "HTMLStyleModel",
      "state": {
       "_model_module": "@jupyter-widgets/controls",
       "_model_module_version": "2.0.0",
       "_model_name": "HTMLStyleModel",
       "_view_count": null,
       "_view_module": "@jupyter-widgets/base",
       "_view_module_version": "2.0.0",
       "_view_name": "StyleView",
       "background": null,
       "description_width": "",
       "font_size": null,
       "text_color": null
      }
     },
     "aa4e131bb0ae461b93482d31096b78ac": {
      "model_module": "@jupyter-widgets/controls",
      "model_module_version": "2.0.0",
      "model_name": "FloatProgressModel",
      "state": {
       "_dom_classes": [],
       "_model_module": "@jupyter-widgets/controls",
       "_model_module_version": "2.0.0",
       "_model_name": "FloatProgressModel",
       "_view_count": null,
       "_view_module": "@jupyter-widgets/controls",
       "_view_module_version": "2.0.0",
       "_view_name": "ProgressView",
       "bar_style": "success",
       "description": "",
       "description_allow_html": false,
       "layout": "IPY_MODEL_07080e04942640b4adba26926068c5e2",
       "max": 1.0,
       "min": 0.0,
       "orientation": "horizontal",
       "style": "IPY_MODEL_0ba45659b74b4032b4bc7da54f1cc998",
       "tabbable": null,
       "tooltip": null,
       "value": 1.0
      }
     },
     "ab83cefb68654e7c9479c8e54d00d798": {
      "model_module": "@jupyter-widgets/base",
      "model_module_version": "2.0.0",
      "model_name": "LayoutModel",
      "state": {
       "_model_module": "@jupyter-widgets/base",
       "_model_module_version": "2.0.0",
       "_model_name": "LayoutModel",
       "_view_count": null,
       "_view_module": "@jupyter-widgets/base",
       "_view_module_version": "2.0.0",
       "_view_name": "LayoutView",
       "align_content": null,
       "align_items": null,
       "align_self": null,
       "border_bottom": null,
       "border_left": null,
       "border_right": null,
       "border_top": null,
       "bottom": null,
       "display": null,
       "flex": null,
       "flex_flow": null,
       "grid_area": null,
       "grid_auto_columns": null,
       "grid_auto_flow": null,
       "grid_auto_rows": null,
       "grid_column": null,
       "grid_gap": null,
       "grid_row": null,
       "grid_template_areas": null,
       "grid_template_columns": null,
       "grid_template_rows": null,
       "height": null,
       "justify_content": null,
       "justify_items": null,
       "left": null,
       "margin": null,
       "max_height": null,
       "max_width": null,
       "min_height": null,
       "min_width": null,
       "object_fit": null,
       "object_position": null,
       "order": null,
       "overflow": null,
       "padding": null,
       "right": null,
       "top": null,
       "visibility": null,
       "width": null
      }
     },
     "b5341a124dbc4d33b07fe22c0199f20f": {
      "model_module": "@jupyter-widgets/controls",
      "model_module_version": "2.0.0",
      "model_name": "HTMLStyleModel",
      "state": {
       "_model_module": "@jupyter-widgets/controls",
       "_model_module_version": "2.0.0",
       "_model_name": "HTMLStyleModel",
       "_view_count": null,
       "_view_module": "@jupyter-widgets/base",
       "_view_module_version": "2.0.0",
       "_view_name": "StyleView",
       "background": null,
       "description_width": "",
       "font_size": null,
       "text_color": null
      }
     },
     "b5b9d9cef58442098f3304a95fc70629": {
      "model_module": "@jupyter-widgets/base",
      "model_module_version": "2.0.0",
      "model_name": "LayoutModel",
      "state": {
       "_model_module": "@jupyter-widgets/base",
       "_model_module_version": "2.0.0",
       "_model_name": "LayoutModel",
       "_view_count": null,
       "_view_module": "@jupyter-widgets/base",
       "_view_module_version": "2.0.0",
       "_view_name": "LayoutView",
       "align_content": null,
       "align_items": null,
       "align_self": null,
       "border_bottom": null,
       "border_left": null,
       "border_right": null,
       "border_top": null,
       "bottom": null,
       "display": null,
       "flex": null,
       "flex_flow": null,
       "grid_area": null,
       "grid_auto_columns": null,
       "grid_auto_flow": null,
       "grid_auto_rows": null,
       "grid_column": null,
       "grid_gap": null,
       "grid_row": null,
       "grid_template_areas": null,
       "grid_template_columns": null,
       "grid_template_rows": null,
       "height": null,
       "justify_content": null,
       "justify_items": null,
       "left": null,
       "margin": null,
       "max_height": null,
       "max_width": null,
       "min_height": null,
       "min_width": null,
       "object_fit": null,
       "object_position": null,
       "order": null,
       "overflow": null,
       "padding": null,
       "right": null,
       "top": null,
       "visibility": null,
       "width": null
      }
     },
     "bc75ad9e22d04812b3a60454c478235f": {
      "model_module": "@jupyter-widgets/controls",
      "model_module_version": "2.0.0",
      "model_name": "HTMLModel",
      "state": {
       "_dom_classes": [],
       "_model_module": "@jupyter-widgets/controls",
       "_model_module_version": "2.0.0",
       "_model_name": "HTMLModel",
       "_view_count": null,
       "_view_module": "@jupyter-widgets/controls",
       "_view_module_version": "2.0.0",
       "_view_name": "HTMLView",
       "description": "",
       "description_allow_html": false,
       "layout": "IPY_MODEL_711dd83897e54ff2a859fe0215d9288a",
       "placeholder": "​",
       "style": "IPY_MODEL_930fcee8aa504c458e001b9d6ddc5511",
       "tabbable": null,
       "tooltip": null,
       "value": "Export report to file: 100%"
      }
     },
     "c0f70845f31f4a1981ace1edb3d0bad7": {
      "model_module": "@jupyter-widgets/controls",
      "model_module_version": "2.0.0",
      "model_name": "HBoxModel",
      "state": {
       "_dom_classes": [],
       "_model_module": "@jupyter-widgets/controls",
       "_model_module_version": "2.0.0",
       "_model_name": "HBoxModel",
       "_view_count": null,
       "_view_module": "@jupyter-widgets/controls",
       "_view_module_version": "2.0.0",
       "_view_name": "HBoxView",
       "box_style": "",
       "children": [
        "IPY_MODEL_0f72a7e9e4c240668cab858369fd41fb",
        "IPY_MODEL_984dfce7c81b47e0950aa2cf40fec0ba",
        "IPY_MODEL_9682f661b8ab4ef8a4e2563b6a825fea"
       ],
       "layout": "IPY_MODEL_82725f5bd5fb47c3aa6e8b8961ccd77c",
       "tabbable": null,
       "tooltip": null
      }
     },
     "c2e5232413994e99b5af0c151470a8c9": {
      "model_module": "@jupyter-widgets/controls",
      "model_module_version": "2.0.0",
      "model_name": "HTMLModel",
      "state": {
       "_dom_classes": [],
       "_model_module": "@jupyter-widgets/controls",
       "_model_module_version": "2.0.0",
       "_model_name": "HTMLModel",
       "_view_count": null,
       "_view_module": "@jupyter-widgets/controls",
       "_view_module_version": "2.0.0",
       "_view_name": "HTMLView",
       "description": "",
       "description_allow_html": false,
       "layout": "IPY_MODEL_6d31c47d8077455f837a9274f776f202",
       "placeholder": "​",
       "style": "IPY_MODEL_3721f97a80194bc583d0b13d1368dfc3",
       "tabbable": null,
       "tooltip": null,
       "value": " 1/1 [00:00&lt;00:00,  2.68it/s]"
      }
     },
     "cbf7895a64134263a076b5958417d0c0": {
      "model_module": "@jupyter-widgets/base",
      "model_module_version": "2.0.0",
      "model_name": "LayoutModel",
      "state": {
       "_model_module": "@jupyter-widgets/base",
       "_model_module_version": "2.0.0",
       "_model_name": "LayoutModel",
       "_view_count": null,
       "_view_module": "@jupyter-widgets/base",
       "_view_module_version": "2.0.0",
       "_view_name": "LayoutView",
       "align_content": null,
       "align_items": null,
       "align_self": null,
       "border_bottom": null,
       "border_left": null,
       "border_right": null,
       "border_top": null,
       "bottom": null,
       "display": null,
       "flex": null,
       "flex_flow": null,
       "grid_area": null,
       "grid_auto_columns": null,
       "grid_auto_flow": null,
       "grid_auto_rows": null,
       "grid_column": null,
       "grid_gap": null,
       "grid_row": null,
       "grid_template_areas": null,
       "grid_template_columns": null,
       "grid_template_rows": null,
       "height": null,
       "justify_content": null,
       "justify_items": null,
       "left": null,
       "margin": null,
       "max_height": null,
       "max_width": null,
       "min_height": null,
       "min_width": null,
       "object_fit": null,
       "object_position": null,
       "order": null,
       "overflow": null,
       "padding": null,
       "right": null,
       "top": null,
       "visibility": null,
       "width": null
      }
     },
     "db41edb352a74463bc7239275c70147c": {
      "model_module": "@jupyter-widgets/controls",
      "model_module_version": "2.0.0",
      "model_name": "ProgressStyleModel",
      "state": {
       "_model_module": "@jupyter-widgets/controls",
       "_model_module_version": "2.0.0",
       "_model_name": "ProgressStyleModel",
       "_view_count": null,
       "_view_module": "@jupyter-widgets/base",
       "_view_module_version": "2.0.0",
       "_view_name": "StyleView",
       "bar_color": null,
       "description_width": ""
      }
     },
     "e5bd5972be4044d783180045aa48ed46": {
      "model_module": "@jupyter-widgets/controls",
      "model_module_version": "2.0.0",
      "model_name": "HBoxModel",
      "state": {
       "_dom_classes": [],
       "_model_module": "@jupyter-widgets/controls",
       "_model_module_version": "2.0.0",
       "_model_name": "HBoxModel",
       "_view_count": null,
       "_view_module": "@jupyter-widgets/controls",
       "_view_module_version": "2.0.0",
       "_view_name": "HBoxView",
       "box_style": "",
       "children": [
        "IPY_MODEL_bc75ad9e22d04812b3a60454c478235f",
        "IPY_MODEL_53d84aee98d94d70b6ec386e15932d0b",
        "IPY_MODEL_8ba73b0e675446dda328ddcea6adf4f9"
       ],
       "layout": "IPY_MODEL_b5b9d9cef58442098f3304a95fc70629",
       "tabbable": null,
       "tooltip": null
      }
     },
     "ed812a08d67a47509047e8c3a2842f4a": {
      "model_module": "@jupyter-widgets/controls",
      "model_module_version": "2.0.0",
      "model_name": "ProgressStyleModel",
      "state": {
       "_model_module": "@jupyter-widgets/controls",
       "_model_module_version": "2.0.0",
       "_model_name": "ProgressStyleModel",
       "_view_count": null,
       "_view_module": "@jupyter-widgets/base",
       "_view_module_version": "2.0.0",
       "_view_name": "StyleView",
       "bar_color": null,
       "description_width": ""
      }
     },
     "eea6ca9485854fe1a94cb098b221dd3f": {
      "model_module": "@jupyter-widgets/base",
      "model_module_version": "2.0.0",
      "model_name": "LayoutModel",
      "state": {
       "_model_module": "@jupyter-widgets/base",
       "_model_module_version": "2.0.0",
       "_model_name": "LayoutModel",
       "_view_count": null,
       "_view_module": "@jupyter-widgets/base",
       "_view_module_version": "2.0.0",
       "_view_name": "LayoutView",
       "align_content": null,
       "align_items": null,
       "align_self": null,
       "border_bottom": null,
       "border_left": null,
       "border_right": null,
       "border_top": null,
       "bottom": null,
       "display": null,
       "flex": null,
       "flex_flow": null,
       "grid_area": null,
       "grid_auto_columns": null,
       "grid_auto_flow": null,
       "grid_auto_rows": null,
       "grid_column": null,
       "grid_gap": null,
       "grid_row": null,
       "grid_template_areas": null,
       "grid_template_columns": null,
       "grid_template_rows": null,
       "height": null,
       "justify_content": null,
       "justify_items": null,
       "left": null,
       "margin": null,
       "max_height": null,
       "max_width": null,
       "min_height": null,
       "min_width": null,
       "object_fit": null,
       "object_position": null,
       "order": null,
       "overflow": null,
       "padding": null,
       "right": null,
       "top": null,
       "visibility": null,
       "width": null
      }
     },
     "fd1de021c3544efbb5c84cdc67d5b305": {
      "model_module": "@jupyter-widgets/controls",
      "model_module_version": "2.0.0",
      "model_name": "HTMLModel",
      "state": {
       "_dom_classes": [],
       "_model_module": "@jupyter-widgets/controls",
       "_model_module_version": "2.0.0",
       "_model_name": "HTMLModel",
       "_view_count": null,
       "_view_module": "@jupyter-widgets/controls",
       "_view_module_version": "2.0.0",
       "_view_name": "HTMLView",
       "description": "",
       "description_allow_html": false,
       "layout": "IPY_MODEL_ab83cefb68654e7c9479c8e54d00d798",
       "placeholder": "​",
       "style": "IPY_MODEL_8b3880fc6f754329a0647421d9cfbc5c",
       "tabbable": null,
       "tooltip": null,
       "value": "Render HTML: 100%"
      }
     },
     "fd3e972d41324aabad98e790bd17ba72": {
      "model_module": "@jupyter-widgets/base",
      "model_module_version": "2.0.0",
      "model_name": "LayoutModel",
      "state": {
       "_model_module": "@jupyter-widgets/base",
       "_model_module_version": "2.0.0",
       "_model_name": "LayoutModel",
       "_view_count": null,
       "_view_module": "@jupyter-widgets/base",
       "_view_module_version": "2.0.0",
       "_view_name": "LayoutView",
       "align_content": null,
       "align_items": null,
       "align_self": null,
       "border_bottom": null,
       "border_left": null,
       "border_right": null,
       "border_top": null,
       "bottom": null,
       "display": null,
       "flex": null,
       "flex_flow": null,
       "grid_area": null,
       "grid_auto_columns": null,
       "grid_auto_flow": null,
       "grid_auto_rows": null,
       "grid_column": null,
       "grid_gap": null,
       "grid_row": null,
       "grid_template_areas": null,
       "grid_template_columns": null,
       "grid_template_rows": null,
       "height": null,
       "justify_content": null,
       "justify_items": null,
       "left": null,
       "margin": null,
       "max_height": null,
       "max_width": null,
       "min_height": null,
       "min_width": null,
       "object_fit": null,
       "object_position": null,
       "order": null,
       "overflow": null,
       "padding": null,
       "right": null,
       "top": null,
       "visibility": null,
       "width": null
      }
     }
    },
    "version_major": 2,
    "version_minor": 0
   }
  }
 },
 "nbformat": 4,
 "nbformat_minor": 5
}
