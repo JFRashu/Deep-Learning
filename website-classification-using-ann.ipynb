{
 "cells": [
  {
   "cell_type": "markdown",
   "id": "da4887e5",
   "metadata": {
    "papermill": {
     "duration": 0.004854,
     "end_time": "2025-06-05T15:14:25.019685",
     "exception": false,
     "start_time": "2025-06-05T15:14:25.014831",
     "status": "completed"
    },
    "tags": []
   },
   "source": [
    "# Necessary Imports"
   ]
  },
  {
   "cell_type": "code",
   "execution_count": 1,
   "id": "0f743735",
   "metadata": {
    "execution": {
     "iopub.execute_input": "2025-06-05T15:14:25.028221Z",
     "iopub.status.busy": "2025-06-05T15:14:25.027913Z",
     "iopub.status.idle": "2025-06-05T15:14:37.615662Z",
     "shell.execute_reply": "2025-06-05T15:14:37.614693Z"
    },
    "papermill": {
     "duration": 12.593284,
     "end_time": "2025-06-05T15:14:37.616727",
     "exception": false,
     "start_time": "2025-06-05T15:14:25.023443",
     "status": "completed"
    },
    "tags": []
   },
   "outputs": [
    {
     "data": {
      "text/html": [
       "\n",
       "            <div>\n",
       "                <ins><a href=\"https://ydata.ai/register\">Upgrade to ydata-sdk</a></ins>\n",
       "                <p>\n",
       "                    Improve your data and profiling with ydata-sdk, featuring data quality scoring, redundancy detection, outlier identification, text validation, and synthetic data generation.\n",
       "                </p>\n",
       "            </div>\n",
       "            "
      ],
      "text/plain": [
       "<IPython.core.display.HTML object>"
      ]
     },
     "metadata": {},
     "output_type": "display_data"
    },
    {
     "name": "stdout",
     "output_type": "stream",
     "text": [
      "Setup Complete\n"
     ]
    }
   ],
   "source": [
    "import pandas as pd\n",
    "import numpy as np\n",
    "import matplotlib.pyplot as plt\n",
    "import seaborn as sns\n",
    "from ydata_profiling import ProfileReport\n",
    "from IPython.display import HTML, IFrame, FileLink\n",
    "from sklearn.model_selection import train_test_split\n",
    "from sklearn.feature_extraction.text import CountVectorizer\n",
    "from sklearn.preprocessing import LabelEncoder\n",
    "from sklearn.metrics import classification_report, confusion_matrix\n",
    "import torch\n",
    "import torch.nn as nn\n",
    "import torch.optim as optim\n",
    "from torch.utils.data import DataLoader, TensorDataset\n",
    "print(\"Setup Complete\")"
   ]
  },
  {
   "cell_type": "markdown",
   "id": "fd58141f",
   "metadata": {
    "papermill": {
     "duration": 0.004477,
     "end_time": "2025-06-05T15:14:37.625833",
     "exception": false,
     "start_time": "2025-06-05T15:14:37.621356",
     "status": "completed"
    },
    "tags": []
   },
   "source": [
    "# Connect Dataset"
   ]
  },
  {
   "cell_type": "code",
   "execution_count": 2,
   "id": "767e5c1f",
   "metadata": {
    "execution": {
     "iopub.execute_input": "2025-06-05T15:14:37.635679Z",
     "iopub.status.busy": "2025-06-05T15:14:37.635070Z",
     "iopub.status.idle": "2025-06-05T15:14:37.827621Z",
     "shell.execute_reply": "2025-06-05T15:14:37.826903Z"
    },
    "papermill": {
     "duration": 0.199101,
     "end_time": "2025-06-05T15:14:37.829053",
     "exception": false,
     "start_time": "2025-06-05T15:14:37.629952",
     "status": "completed"
    },
    "tags": []
   },
   "outputs": [],
   "source": [
    "dataset_path = '/kaggle/input/website-classification/website_classification.csv'\n",
    "dataset = pd.read_csv(dataset_path)"
   ]
  },
  {
   "cell_type": "markdown",
   "id": "75b4c82f",
   "metadata": {
    "papermill": {
     "duration": 0.003868,
     "end_time": "2025-06-05T15:14:37.837449",
     "exception": false,
     "start_time": "2025-06-05T15:14:37.833581",
     "status": "completed"
    },
    "tags": []
   },
   "source": [
    "# Display Basic Info"
   ]
  },
  {
   "cell_type": "code",
   "execution_count": 3,
   "id": "0e6f885e",
   "metadata": {
    "execution": {
     "iopub.execute_input": "2025-06-05T15:14:37.847360Z",
     "iopub.status.busy": "2025-06-05T15:14:37.847064Z",
     "iopub.status.idle": "2025-06-05T15:14:37.860893Z",
     "shell.execute_reply": "2025-06-05T15:14:37.859677Z"
    },
    "papermill": {
     "duration": 0.020751,
     "end_time": "2025-06-05T15:14:37.862259",
     "exception": false,
     "start_time": "2025-06-05T15:14:37.841508",
     "status": "completed"
    },
    "tags": []
   },
   "outputs": [
    {
     "name": "stdout",
     "output_type": "stream",
     "text": [
      "Dataset Shape: (1408, 4)\n",
      "\n",
      "Category Distribution:\n",
      "Category\n",
      "Education                          114\n",
      "Business/Corporate                 109\n",
      "Travel                             107\n",
      "Streaming Services                 105\n",
      "Sports                             104\n",
      "E-Commerce                         102\n",
      "Games                               98\n",
      "News                                96\n",
      "Health and Fitness                  96\n",
      "Photography                         93\n",
      "Computers and Technology            93\n",
      "Food                                92\n",
      "Law and Government                  84\n",
      "Social Networking and Messaging     83\n",
      "Forums                              16\n",
      "Adult                               16\n",
      "Name: count, dtype: int64\n"
     ]
    }
   ],
   "source": [
    "print(\"Dataset Shape:\", dataset.shape)\n",
    "print(\"\\nCategory Distribution:\")\n",
    "print(dataset['Category'].value_counts())"
   ]
  },
  {
   "cell_type": "markdown",
   "id": "3edeb31d",
   "metadata": {
    "papermill": {
     "duration": 0.003785,
     "end_time": "2025-06-05T15:14:37.870522",
     "exception": false,
     "start_time": "2025-06-05T15:14:37.866737",
     "status": "completed"
    },
    "tags": []
   },
   "source": [
    "# Data Profiling (Optional, for exploration)"
   ]
  },
  {
   "cell_type": "code",
   "execution_count": 4,
   "id": "9e648f16",
   "metadata": {
    "execution": {
     "iopub.execute_input": "2025-06-05T15:14:37.879861Z",
     "iopub.status.busy": "2025-06-05T15:14:37.879585Z",
     "iopub.status.idle": "2025-06-05T15:14:41.805801Z",
     "shell.execute_reply": "2025-06-05T15:14:41.805004Z"
    },
    "papermill": {
     "duration": 3.932563,
     "end_time": "2025-06-05T15:14:41.807141",
     "exception": false,
     "start_time": "2025-06-05T15:14:37.874578",
     "status": "completed"
    },
    "tags": []
   },
   "outputs": [
    {
     "data": {
      "application/vnd.jupyter.widget-view+json": {
       "model_id": "065617589bb445f19157e4078db6900c",
       "version_major": 2,
       "version_minor": 0
      },
      "text/plain": [
       "Summarize dataset:   0%|          | 0/5 [00:00<?, ?it/s]"
      ]
     },
     "metadata": {},
     "output_type": "display_data"
    },
    {
     "name": "stderr",
     "output_type": "stream",
     "text": [
      "\n",
      "  0%|          | 0/4 [00:00<?, ?it/s]\u001b[A\n",
      "100%|██████████| 4/4 [00:01<00:00,  3.11it/s]\n"
     ]
    },
    {
     "data": {
      "application/vnd.jupyter.widget-view+json": {
       "model_id": "0aa6da42555f4853b67c322884d7d56a",
       "version_major": 2,
       "version_minor": 0
      },
      "text/plain": [
       "Generate report structure:   0%|          | 0/1 [00:00<?, ?it/s]"
      ]
     },
     "metadata": {},
     "output_type": "display_data"
    },
    {
     "data": {
      "application/vnd.jupyter.widget-view+json": {
       "model_id": "4c8b5c1e50f64a1487807a915858f154",
       "version_major": 2,
       "version_minor": 0
      },
      "text/plain": [
       "Render HTML:   0%|          | 0/1 [00:00<?, ?it/s]"
      ]
     },
     "metadata": {},
     "output_type": "display_data"
    },
    {
     "data": {
      "application/vnd.jupyter.widget-view+json": {
       "model_id": "324eabdabb90477cad0b00bd97165ee0",
       "version_major": 2,
       "version_minor": 0
      },
      "text/plain": [
       "Export report to file:   0%|          | 0/1 [00:00<?, ?it/s]"
      ]
     },
     "metadata": {},
     "output_type": "display_data"
    },
    {
     "name": "stdout",
     "output_type": "stream",
     "text": [
      "\n",
      "Profile report generated! View it below or download:\n"
     ]
    },
    {
     "data": {
      "text/html": [
       "\n",
       "        <iframe\n",
       "            width=\"1000\"\n",
       "            height=\"600\"\n",
       "            src=\"website_classification_profile.html\"\n",
       "            frameborder=\"0\"\n",
       "            allowfullscreen\n",
       "            \n",
       "        ></iframe>\n",
       "        "
      ],
      "text/plain": [
       "<IPython.lib.display.IFrame at 0x7c976fa0c290>"
      ]
     },
     "metadata": {},
     "output_type": "display_data"
    },
    {
     "data": {
      "text/html": [
       "<a href='website_classification_profile.html' target='_blank'>website_classification_profile.html</a><br>"
      ],
      "text/plain": [
       "/kaggle/working/website_classification_profile.html"
      ]
     },
     "metadata": {},
     "output_type": "display_data"
    }
   ],
   "source": [
    "profile = ProfileReport(dataset, title=\"Website Classification Report\", explorative=True)\n",
    "profile.to_file(\"website_classification_profile.html\")\n",
    "print(\"\\nProfile report generated! View it below or download:\")\n",
    "display(IFrame(src=\"website_classification_profile.html\", width=1000, height=600))\n",
    "display(FileLink('website_classification_profile.html'))"
   ]
  },
  {
   "cell_type": "markdown",
   "id": "b24d4296",
   "metadata": {
    "papermill": {
     "duration": 0.004454,
     "end_time": "2025-06-05T15:14:41.816903",
     "exception": false,
     "start_time": "2025-06-05T15:14:41.812449",
     "status": "completed"
    },
    "tags": []
   },
   "source": [
    "# Dataset Preprocessing"
   ]
  },
  {
   "cell_type": "code",
   "execution_count": 5,
   "id": "3db78f4e",
   "metadata": {
    "execution": {
     "iopub.execute_input": "2025-06-05T15:14:41.827715Z",
     "iopub.status.busy": "2025-06-05T15:14:41.827403Z",
     "iopub.status.idle": "2025-06-05T15:14:41.849819Z",
     "shell.execute_reply": "2025-06-05T15:14:41.848781Z"
    },
    "papermill": {
     "duration": 0.029615,
     "end_time": "2025-06-05T15:14:41.851491",
     "exception": false,
     "start_time": "2025-06-05T15:14:41.821876",
     "status": "completed"
    },
    "tags": []
   },
   "outputs": [
    {
     "name": "stdout",
     "output_type": "stream",
     "text": [
      "\n",
      "Null Values: Unnamed: 0              0\n",
      "website_url             0\n",
      "cleaned_website_text    0\n",
      "Category                0\n",
      "dtype: int64\n"
     ]
    }
   ],
   "source": [
    "dataset.drop_duplicates(inplace=True)\n",
    "print(\"\\nNull Values:\", dataset.isnull().sum())"
   ]
  },
  {
   "cell_type": "markdown",
   "id": "46a4f53e",
   "metadata": {
    "papermill": {
     "duration": 0.00464,
     "end_time": "2025-06-05T15:14:41.862797",
     "exception": false,
     "start_time": "2025-06-05T15:14:41.858157",
     "status": "completed"
    },
    "tags": []
   },
   "source": [
    "# Prepare Data for ANN"
   ]
  },
  {
   "cell_type": "code",
   "execution_count": 6,
   "id": "03f64425",
   "metadata": {
    "execution": {
     "iopub.execute_input": "2025-06-05T15:14:41.873178Z",
     "iopub.status.busy": "2025-06-05T15:14:41.872903Z",
     "iopub.status.idle": "2025-06-05T15:14:41.877046Z",
     "shell.execute_reply": "2025-06-05T15:14:41.876051Z"
    },
    "papermill": {
     "duration": 0.010966,
     "end_time": "2025-06-05T15:14:41.878517",
     "exception": false,
     "start_time": "2025-06-05T15:14:41.867551",
     "status": "completed"
    },
    "tags": []
   },
   "outputs": [],
   "source": [
    "X = dataset['cleaned_website_text'].values\n",
    "y = dataset['Category'].values"
   ]
  },
  {
   "cell_type": "markdown",
   "id": "7b178dfa",
   "metadata": {
    "papermill": {
     "duration": 0.004538,
     "end_time": "2025-06-05T15:14:41.888498",
     "exception": false,
     "start_time": "2025-06-05T15:14:41.883960",
     "status": "completed"
    },
    "tags": []
   },
   "source": [
    "# Encode categorical labels to numeric"
   ]
  },
  {
   "cell_type": "code",
   "execution_count": 7,
   "id": "d7276dfb",
   "metadata": {
    "execution": {
     "iopub.execute_input": "2025-06-05T15:14:41.899034Z",
     "iopub.status.busy": "2025-06-05T15:14:41.898734Z",
     "iopub.status.idle": "2025-06-05T15:14:41.903379Z",
     "shell.execute_reply": "2025-06-05T15:14:41.902592Z"
    },
    "papermill": {
     "duration": 0.011335,
     "end_time": "2025-06-05T15:14:41.904552",
     "exception": false,
     "start_time": "2025-06-05T15:14:41.893217",
     "status": "completed"
    },
    "tags": []
   },
   "outputs": [],
   "source": [
    "le = LabelEncoder()\n",
    "y_encoded = le.fit_transform(y)"
   ]
  },
  {
   "cell_type": "markdown",
   "id": "92c07676",
   "metadata": {
    "papermill": {
     "duration": 0.004457,
     "end_time": "2025-06-05T15:14:41.914057",
     "exception": false,
     "start_time": "2025-06-05T15:14:41.909600",
     "status": "completed"
    },
    "tags": []
   },
   "source": [
    "# Split data into train and test sets"
   ]
  },
  {
   "cell_type": "code",
   "execution_count": 8,
   "id": "5e9e7c79",
   "metadata": {
    "execution": {
     "iopub.execute_input": "2025-06-05T15:14:41.925101Z",
     "iopub.status.busy": "2025-06-05T15:14:41.924749Z",
     "iopub.status.idle": "2025-06-05T15:14:41.930153Z",
     "shell.execute_reply": "2025-06-05T15:14:41.929226Z"
    },
    "papermill": {
     "duration": 0.012934,
     "end_time": "2025-06-05T15:14:41.931715",
     "exception": false,
     "start_time": "2025-06-05T15:14:41.918781",
     "status": "completed"
    },
    "tags": []
   },
   "outputs": [],
   "source": [
    "X_train, X_test, y_train, y_test = train_test_split(X, y_encoded, test_size=0.2, random_state=42)"
   ]
  },
  {
   "cell_type": "markdown",
   "id": "dbc2a91f",
   "metadata": {
    "papermill": {
     "duration": 0.004652,
     "end_time": "2025-06-05T15:14:41.941835",
     "exception": false,
     "start_time": "2025-06-05T15:14:41.937183",
     "status": "completed"
    },
    "tags": []
   },
   "source": [
    "# Convert text to numeric features using CountVectorizer"
   ]
  },
  {
   "cell_type": "code",
   "execution_count": 9,
   "id": "fdd0809e",
   "metadata": {
    "execution": {
     "iopub.execute_input": "2025-06-05T15:14:41.953650Z",
     "iopub.status.busy": "2025-06-05T15:14:41.953367Z",
     "iopub.status.idle": "2025-06-05T15:14:42.576484Z",
     "shell.execute_reply": "2025-06-05T15:14:42.575698Z"
    },
    "papermill": {
     "duration": 0.630169,
     "end_time": "2025-06-05T15:14:42.577823",
     "exception": false,
     "start_time": "2025-06-05T15:14:41.947654",
     "status": "completed"
    },
    "tags": []
   },
   "outputs": [],
   "source": [
    "cv = CountVectorizer(max_features=5000)  # Limit to 5000 features for efficiency\n",
    "X_train_cv = cv.fit_transform(X_train).toarray()\n",
    "X_test_cv = cv.transform(X_test).toarray()"
   ]
  },
  {
   "cell_type": "markdown",
   "id": "9c052b5e",
   "metadata": {
    "papermill": {
     "duration": 0.00467,
     "end_time": "2025-06-05T15:14:42.587883",
     "exception": false,
     "start_time": "2025-06-05T15:14:42.583213",
     "status": "completed"
    },
    "tags": []
   },
   "source": [
    "# Convert to PyTorch tensors"
   ]
  },
  {
   "cell_type": "code",
   "execution_count": 10,
   "id": "f8a13f05",
   "metadata": {
    "execution": {
     "iopub.execute_input": "2025-06-05T15:14:42.598354Z",
     "iopub.status.busy": "2025-06-05T15:14:42.598105Z",
     "iopub.status.idle": "2025-06-05T15:14:42.639744Z",
     "shell.execute_reply": "2025-06-05T15:14:42.638685Z"
    },
    "papermill": {
     "duration": 0.048926,
     "end_time": "2025-06-05T15:14:42.641519",
     "exception": false,
     "start_time": "2025-06-05T15:14:42.592593",
     "status": "completed"
    },
    "tags": []
   },
   "outputs": [],
   "source": [
    "X_train_tensor = torch.FloatTensor(X_train_cv)\n",
    "y_train_tensor = torch.LongTensor(y_train)\n",
    "X_test_tensor = torch.FloatTensor(X_test_cv)\n",
    "y_test_tensor = torch.LongTensor(y_test)"
   ]
  },
  {
   "cell_type": "markdown",
   "id": "a00c2ebf",
   "metadata": {
    "papermill": {
     "duration": 0.005734,
     "end_time": "2025-06-05T15:14:42.653583",
     "exception": false,
     "start_time": "2025-06-05T15:14:42.647849",
     "status": "completed"
    },
    "tags": []
   },
   "source": [
    "# Create DataLoader for batch processing"
   ]
  },
  {
   "cell_type": "code",
   "execution_count": 11,
   "id": "3746cc3e",
   "metadata": {
    "execution": {
     "iopub.execute_input": "2025-06-05T15:14:42.664396Z",
     "iopub.status.busy": "2025-06-05T15:14:42.664119Z",
     "iopub.status.idle": "2025-06-05T15:14:42.671843Z",
     "shell.execute_reply": "2025-06-05T15:14:42.671141Z"
    },
    "papermill": {
     "duration": 0.014977,
     "end_time": "2025-06-05T15:14:42.673531",
     "exception": false,
     "start_time": "2025-06-05T15:14:42.658554",
     "status": "completed"
    },
    "tags": []
   },
   "outputs": [],
   "source": [
    "train_dataset = TensorDataset(X_train_tensor, y_train_tensor)\n",
    "test_dataset = TensorDataset(X_test_tensor, y_test_tensor)\n",
    "train_loader = DataLoader(train_dataset, batch_size=32, shuffle=True)\n",
    "test_loader = DataLoader(test_dataset, batch_size=32, shuffle=False)"
   ]
  },
  {
   "cell_type": "markdown",
   "id": "cea172ae",
   "metadata": {
    "papermill": {
     "duration": 0.004467,
     "end_time": "2025-06-05T15:14:42.683331",
     "exception": false,
     "start_time": "2025-06-05T15:14:42.678864",
     "status": "completed"
    },
    "tags": []
   },
   "source": [
    "# Define PyTorch ANN Model "
   ]
  },
  {
   "cell_type": "code",
   "execution_count": 12,
   "id": "ee506916",
   "metadata": {
    "execution": {
     "iopub.execute_input": "2025-06-05T15:14:42.693899Z",
     "iopub.status.busy": "2025-06-05T15:14:42.693605Z",
     "iopub.status.idle": "2025-06-05T15:14:42.699657Z",
     "shell.execute_reply": "2025-06-05T15:14:42.698562Z"
    },
    "papermill": {
     "duration": 0.013452,
     "end_time": "2025-06-05T15:14:42.701386",
     "exception": false,
     "start_time": "2025-06-05T15:14:42.687934",
     "status": "completed"
    },
    "tags": []
   },
   "outputs": [],
   "source": [
    "import torch.nn as nn\n",
    "\n",
    "class WebsiteClassifier(nn.Module):\n",
    "    def __init__(self, input_size, hidden_size, num_classes):\n",
    "        super(WebsiteClassifier, self).__init__()\n",
    "        self.layer1 = nn.Linear(input_size, 512)\n",
    "        self.bn1 = nn.BatchNorm1d(512)\n",
    "        self.leaky_relu = nn.LeakyReLU(negative_slope=0.01)  # Default slope is 0.01\n",
    "        self.dropout = nn.Dropout(0.2)\n",
    "        self.layer2 = nn.Linear(512, 64)\n",
    "        self.bn2 = nn.BatchNorm1d(64)\n",
    "        self.layer3 = nn.Linear(64, num_classes)\n",
    "    \n",
    "    def forward(self, x):\n",
    "        x = self.layer1(x)\n",
    "        x = self.bn1(x)\n",
    "        x = self.leaky_relu(x)\n",
    "        x = self.dropout(x)\n",
    "        x = self.layer2(x)\n",
    "        x = self.bn2(x)\n",
    "        x = self.leaky_relu(x)\n",
    "        x = self.dropout(x)\n",
    "        x = self.layer3(x)\n",
    "        return x"
   ]
  },
  {
   "cell_type": "markdown",
   "id": "f684b597",
   "metadata": {
    "papermill": {
     "duration": 0.00465,
     "end_time": "2025-06-05T15:14:42.711483",
     "exception": false,
     "start_time": "2025-06-05T15:14:42.706833",
     "status": "completed"
    },
    "tags": []
   },
   "source": [
    "# Initialize Model"
   ]
  },
  {
   "cell_type": "code",
   "execution_count": 13,
   "id": "d42d41ad",
   "metadata": {
    "execution": {
     "iopub.execute_input": "2025-06-05T15:14:42.722174Z",
     "iopub.status.busy": "2025-06-05T15:14:42.721867Z",
     "iopub.status.idle": "2025-06-05T15:14:42.768267Z",
     "shell.execute_reply": "2025-06-05T15:14:42.767306Z"
    },
    "papermill": {
     "duration": 0.053311,
     "end_time": "2025-06-05T15:14:42.769617",
     "exception": false,
     "start_time": "2025-06-05T15:14:42.716306",
     "status": "completed"
    },
    "tags": []
   },
   "outputs": [],
   "source": [
    "input_size = X_train_cv.shape[1]  # Number of features from CountVectorizer\n",
    "hidden_size = 256  \n",
    "num_classes = len(le.classes_)  # Number of unique categories (16)\n",
    "model = WebsiteClassifier(input_size, hidden_size, num_classes)"
   ]
  },
  {
   "cell_type": "markdown",
   "id": "d1c7c008",
   "metadata": {
    "papermill": {
     "duration": 0.004532,
     "end_time": "2025-06-05T15:14:42.779348",
     "exception": false,
     "start_time": "2025-06-05T15:14:42.774816",
     "status": "completed"
    },
    "tags": []
   },
   "source": [
    "# Loss and Optimizer"
   ]
  },
  {
   "cell_type": "code",
   "execution_count": 14,
   "id": "237d8e35",
   "metadata": {
    "execution": {
     "iopub.execute_input": "2025-06-05T15:14:42.789731Z",
     "iopub.status.busy": "2025-06-05T15:14:42.789462Z",
     "iopub.status.idle": "2025-06-05T15:14:47.889064Z",
     "shell.execute_reply": "2025-06-05T15:14:47.888387Z"
    },
    "papermill": {
     "duration": 5.106557,
     "end_time": "2025-06-05T15:14:47.890573",
     "exception": false,
     "start_time": "2025-06-05T15:14:42.784016",
     "status": "completed"
    },
    "tags": []
   },
   "outputs": [],
   "source": [
    "criterion = nn.CrossEntropyLoss()\n",
    "optimizer = optim.SGD(model.parameters(), lr=0.01)  # Adjusted lr for text data"
   ]
  },
  {
   "cell_type": "markdown",
   "id": "4f8395a2",
   "metadata": {
    "papermill": {
     "duration": 0.005076,
     "end_time": "2025-06-05T15:14:47.901290",
     "exception": false,
     "start_time": "2025-06-05T15:14:47.896214",
     "status": "completed"
    },
    "tags": []
   },
   "source": [
    "# Training Loop"
   ]
  },
  {
   "cell_type": "code",
   "execution_count": 15,
   "id": "c45ecf10",
   "metadata": {
    "execution": {
     "iopub.execute_input": "2025-06-05T15:14:47.912607Z",
     "iopub.status.busy": "2025-06-05T15:14:47.911964Z",
     "iopub.status.idle": "2025-06-05T15:15:00.616771Z",
     "shell.execute_reply": "2025-06-05T15:15:00.616067Z"
    },
    "papermill": {
     "duration": 12.711214,
     "end_time": "2025-06-05T15:15:00.617725",
     "exception": false,
     "start_time": "2025-06-05T15:14:47.906511",
     "status": "completed"
    },
    "tags": []
   },
   "outputs": [
    {
     "name": "stdout",
     "output_type": "stream",
     "text": [
      "\n",
      "Training on cpu\n",
      "Epoch [10/50], Loss: 0.8427\n",
      "Epoch [20/50], Loss: 0.4278\n",
      "Epoch [30/50], Loss: 0.3000\n",
      "Epoch [40/50], Loss: 0.2083\n",
      "Epoch [50/50], Loss: 0.1678\n"
     ]
    }
   ],
   "source": [
    "num_epochs = 50\n",
    "device = torch.device('cuda' if torch.cuda.is_available() else 'cpu')\n",
    "model.to(device)\n",
    "print(f\"\\nTraining on {device}\")\n",
    "\n",
    "for epoch in range(num_epochs):\n",
    "    model.train()\n",
    "    total_loss = 0\n",
    "    for data, labels in train_loader:\n",
    "        data, labels = data.to(device), labels.to(device)\n",
    "        optimizer.zero_grad()\n",
    "        outputs = model(data)\n",
    "        loss = criterion(outputs, labels)\n",
    "        loss.backward()\n",
    "        optimizer.step()\n",
    "        total_loss += loss.item()\n",
    "    if (epoch + 1) % 10 == 0:\n",
    "        print(f'Epoch [{epoch+1}/{num_epochs}], Loss: {total_loss/len(train_loader):.4f}')"
   ]
  },
  {
   "cell_type": "markdown",
   "id": "ba210948",
   "metadata": {
    "papermill": {
     "duration": 0.004599,
     "end_time": "2025-06-05T15:15:00.628128",
     "exception": false,
     "start_time": "2025-06-05T15:15:00.623529",
     "status": "completed"
    },
    "tags": []
   },
   "source": [
    "# Evaluate Model"
   ]
  },
  {
   "cell_type": "code",
   "execution_count": 16,
   "id": "c0f32c77",
   "metadata": {
    "execution": {
     "iopub.execute_input": "2025-06-05T15:15:00.638720Z",
     "iopub.status.busy": "2025-06-05T15:15:00.638474Z",
     "iopub.status.idle": "2025-06-05T15:15:00.676455Z",
     "shell.execute_reply": "2025-06-05T15:15:00.675262Z"
    },
    "papermill": {
     "duration": 0.044897,
     "end_time": "2025-06-05T15:15:00.677776",
     "exception": false,
     "start_time": "2025-06-05T15:15:00.632879",
     "status": "completed"
    },
    "tags": []
   },
   "outputs": [
    {
     "name": "stdout",
     "output_type": "stream",
     "text": [
      "\n",
      "Test Accuracy: 84.40%\n"
     ]
    }
   ],
   "source": [
    "model.eval()\n",
    "correct = 0\n",
    "total = 0\n",
    "y_pred = []\n",
    "y_true = []\n",
    "with torch.no_grad():\n",
    "    for data, labels in test_loader:\n",
    "        data, labels = data.to(device), labels.to(device)\n",
    "        outputs = model(data)\n",
    "        _, predicted = torch.max(outputs, 1)\n",
    "        total += labels.size(0)\n",
    "        correct += (predicted == labels).sum().item()\n",
    "        y_pred.extend(predicted.cpu().numpy())\n",
    "        y_true.extend(labels.cpu().numpy())\n",
    "\n",
    "accuracy = 100 * correct / total\n",
    "print(f'\\nTest Accuracy: {accuracy:.2f}%')"
   ]
  },
  {
   "cell_type": "markdown",
   "id": "063a889e",
   "metadata": {
    "papermill": {
     "duration": 0.004681,
     "end_time": "2025-06-05T15:15:00.687983",
     "exception": false,
     "start_time": "2025-06-05T15:15:00.683302",
     "status": "completed"
    },
    "tags": []
   },
   "source": [
    "# Classification Report"
   ]
  },
  {
   "cell_type": "code",
   "execution_count": 17,
   "id": "eb7ec912",
   "metadata": {
    "execution": {
     "iopub.execute_input": "2025-06-05T15:15:00.698966Z",
     "iopub.status.busy": "2025-06-05T15:15:00.698645Z",
     "iopub.status.idle": "2025-06-05T15:15:00.712784Z",
     "shell.execute_reply": "2025-06-05T15:15:00.711633Z"
    },
    "papermill": {
     "duration": 0.021061,
     "end_time": "2025-06-05T15:15:00.713900",
     "exception": false,
     "start_time": "2025-06-05T15:15:00.692839",
     "status": "completed"
    },
    "tags": []
   },
   "outputs": [
    {
     "name": "stdout",
     "output_type": "stream",
     "text": [
      "\n",
      "Classification Report:\n",
      "                                 precision    recall  f1-score   support\n",
      "\n",
      "                          Adult       0.00      0.00      0.00         4\n",
      "             Business/Corporate       0.61      0.82      0.70        17\n",
      "       Computers and Technology       0.87      0.68      0.76        19\n",
      "                     E-Commerce       0.90      0.86      0.88        22\n",
      "                      Education       1.00      0.81      0.90        27\n",
      "                           Food       0.94      0.88      0.91        17\n",
      "                         Forums       1.00      0.50      0.67         2\n",
      "                          Games       0.89      0.77      0.83        22\n",
      "             Health and Fitness       1.00      0.85      0.92        13\n",
      "             Law and Government       1.00      0.96      0.98        23\n",
      "                           News       0.85      0.94      0.89        18\n",
      "                    Photography       0.86      0.90      0.88        20\n",
      "Social Networking and Messaging       0.93      0.72      0.81        18\n",
      "                         Sports       0.95      0.87      0.91        23\n",
      "             Streaming Services       0.49      1.00      0.65        18\n",
      "                         Travel       0.95      0.95      0.95        19\n",
      "\n",
      "                       accuracy                           0.84       282\n",
      "                      macro avg       0.83      0.78      0.79       282\n",
      "                   weighted avg       0.87      0.84      0.85       282\n",
      "\n"
     ]
    },
    {
     "name": "stderr",
     "output_type": "stream",
     "text": [
      "/usr/local/lib/python3.11/dist-packages/sklearn/metrics/_classification.py:1344: UndefinedMetricWarning: Precision and F-score are ill-defined and being set to 0.0 in labels with no predicted samples. Use `zero_division` parameter to control this behavior.\n",
      "  _warn_prf(average, modifier, msg_start, len(result))\n",
      "/usr/local/lib/python3.11/dist-packages/sklearn/metrics/_classification.py:1344: UndefinedMetricWarning: Precision and F-score are ill-defined and being set to 0.0 in labels with no predicted samples. Use `zero_division` parameter to control this behavior.\n",
      "  _warn_prf(average, modifier, msg_start, len(result))\n",
      "/usr/local/lib/python3.11/dist-packages/sklearn/metrics/_classification.py:1344: UndefinedMetricWarning: Precision and F-score are ill-defined and being set to 0.0 in labels with no predicted samples. Use `zero_division` parameter to control this behavior.\n",
      "  _warn_prf(average, modifier, msg_start, len(result))\n"
     ]
    }
   ],
   "source": [
    "print(\"\\nClassification Report:\")\n",
    "print(classification_report(y_true, y_pred, target_names=le.classes_))"
   ]
  },
  {
   "cell_type": "markdown",
   "id": "9b6b8593",
   "metadata": {
    "papermill": {
     "duration": 0.005051,
     "end_time": "2025-06-05T15:15:00.785660",
     "exception": false,
     "start_time": "2025-06-05T15:15:00.780609",
     "status": "completed"
    },
    "tags": []
   },
   "source": [
    "# Confusion Matrix Visualization"
   ]
  },
  {
   "cell_type": "code",
   "execution_count": 18,
   "id": "7f7999a5",
   "metadata": {
    "execution": {
     "iopub.execute_input": "2025-06-05T15:15:00.797459Z",
     "iopub.status.busy": "2025-06-05T15:15:00.796652Z",
     "iopub.status.idle": "2025-06-05T15:15:01.339956Z",
     "shell.execute_reply": "2025-06-05T15:15:01.339241Z"
    },
    "papermill": {
     "duration": 0.550388,
     "end_time": "2025-06-05T15:15:01.341054",
     "exception": false,
     "start_time": "2025-06-05T15:15:00.790666",
     "status": "completed"
    },
    "tags": []
   },
   "outputs": [
    {
     "data": {
      "image/png": "[encoded data removed]",
      "text/plain": [
       "<Figure size 1000x800 with 2 Axes>"
      ]
     },
     "metadata": {},
     "output_type": "display_data"
    }
   ],
   "source": [
    "cm = confusion_matrix(y_true, y_pred)\n",
    "plt.figure(figsize=(10, 8))\n",
    "sns.heatmap(cm, annot=True, fmt='d', cmap='Blues', xticklabels=le.classes_, yticklabels=le.classes_)\n",
    "plt.xlabel('Predicted')\n",
    "plt.ylabel('True')\n",
    "plt.title('Confusion Matrix')\n",
    "plt.show()"
   ]
  },
  {
   "cell_type": "markdown",
   "id": "8daac75f",
   "metadata": {
    "papermill": {
     "duration": 0.006385,
     "end_time": "2025-06-05T15:15:01.354511",
     "exception": false,
     "start_time": "2025-06-05T15:15:01.348126",
     "status": "completed"
    },
    "tags": []
   },
   "source": [
    "# Real-Time Testing"
   ]
  },
  {
   "cell_type": "code",
   "execution_count": 19,
   "id": "c43b7ca0",
   "metadata": {
    "execution": {
     "iopub.execute_input": "2025-06-05T15:15:01.368633Z",
     "iopub.status.busy": "2025-06-05T15:15:01.368331Z",
     "iopub.status.idle": "2025-06-05T15:15:01.377176Z",
     "shell.execute_reply": "2025-06-05T15:15:01.376253Z"
    },
    "papermill": {
     "duration": 0.017287,
     "end_time": "2025-06-05T15:15:01.378194",
     "exception": false,
     "start_time": "2025-06-05T15:15:01.360907",
     "status": "completed"
    },
    "tags": []
   },
   "outputs": [
    {
     "name": "stdout",
     "output_type": "stream",
     "text": [
      "\n",
      "Predictions for Test Cases:\n",
      "Text: Bangladesh have been the perennial underdogs in In... \n",
      "Predicted Category: Streaming Services\n",
      "\n",
      "Text: Naive Bayes classifiers are supervised machine lea... \n",
      "Predicted Category: Streaming Services\n",
      "\n",
      "Text: Would you like millions of new customers to enjoy ... \n",
      "Predicted Category: Streaming Services\n",
      "\n"
     ]
    }
   ],
   "source": [
    "testcase = [\n",
    "    \"Bangladesh have been the perennial underdogs in International cricket, but somehow seem to always compete hard at the upper echelons of the sport. The team have been on a patchy record of late. In their recent tour of the West Indies, they drew the Test series 1-1, then were whitewashed in the three ODI contests, but came back to win the T20I series 3-0.\",\n",
    "    \"Naive Bayes classifiers are supervised machine learning algorithms used for classification tasks, based on Bayes’ Theorem to find probabilities. This article will give you an overview as well as more advanced use and implementation of Naive Bayes in machine learning.\",\n",
    "    \"Would you like millions of new customers to enjoy your amazing food and groceries? So would we! It's simple: we list your menu and product lists online, help you process orders, pick them up, and deliver them to hungry pandas – in a heartbeat! Interested? Let's start our partnership today!\"\n",
    "]\n",
    "testcase_cv = cv.transform(testcase).toarray()\n",
    "testcase_tensor = torch.FloatTensor(testcase_cv).to(device)\n",
    "model.eval()\n",
    "with torch.no_grad():\n",
    "    outputs = model(testcase_tensor)\n",
    "    _, predicted = torch.max(outputs, 1)\n",
    "    predicted_labels = le.inverse_transform(predicted.cpu().numpy())\n",
    "print(\"\\nPredictions for Test Cases:\")\n",
    "for text, label in zip(testcase, predicted_labels):\n",
    "    print(f\"Text: {text[:50]}... \\nPredicted Category: {label}\\n\")"
   ]
  }
 ],
 "metadata": {
  "kaggle": {
   "accelerator": "none",
   "dataSources": [
    {
     "datasetId": 1317934,
     "sourceId": 2194939,
     "sourceType": "datasetVersion"
    }
   ],
   "dockerImageVersionId": 31040,
   "isGpuEnabled": false,
   "isInternetEnabled": true,
   "language": "python",
   "sourceType": "notebook"
  },
  "kernelspec": {
   "display_name": "Python 3",
   "language": "python",
   "name": "python3"
  },
  "language_info": {
   "codemirror_mode": {
    "name": "ipython",
    "version": 3
   },
   "file_extension": ".py",
   "mimetype": "text/x-python",
   "name": "python",
   "nbconvert_exporter": "python",
   "pygments_lexer": "ipython3",
   "version": "3.11.11"
  },
  "papermill": {
   "default_parameters": {},
   "duration": 43.938947,
   "end_time": "2025-06-05T15:15:05.020293",
   "environment_variables": {},
   "exception": null,
   "input_path": "__notebook__.ipynb",
   "output_path": "__notebook__.ipynb",
   "parameters": {},
   "start_time": "2025-06-05T15:14:21.081346",
   "version": "2.6.0"
  },
  "widgets": {
   "application/vnd.jupyter.widget-state+json": {
    "state": {
     "020acbc358f9495a8d0afc7e2505818a": {
      "model_module": "@jupyter-widgets/controls",
      "model_module_version": "2.0.0",
      "model_name": "HTMLStyleModel",
      "state": {
       "_model_module": "@jupyter-widgets/controls",
       "_model_module_version": "2.0.0",
       "_model_name": "HTMLStyleModel",
       "_view_count": null,
       "_view_module": "@jupyter-widgets/base",
       "_view_module_version": "2.0.0",
       "_view_name": "StyleView",
       "background": null,
       "description_width": "",
       "font_size": null,
       "text_color": null
      }
     },
     "065617589bb445f19157e4078db6900c": {
      "model_module": "@jupyter-widgets/controls",
      "model_module_version": "2.0.0",
      "model_name": "HBoxModel",
      "state": {
       "_dom_classes": [],
       "_model_module": "@jupyter-widgets/controls",
       "_model_module_version": "2.0.0",
       "_model_name": "HBoxModel",
       "_view_count": null,
       "_view_module": "@jupyter-widgets/controls",
       "_view_module_version": "2.0.0",
       "_view_name": "HBoxView",
       "box_style": "",
       "children": [
        "IPY_MODEL_f226f85b58d94fde8496f5fdcfe3badd",
        "IPY_MODEL_fc79978d5b65495fa779098f6d63dbf9",
        "IPY_MODEL_67f74a74e82342fdbcfb723b3a55532b"
       ],
       "layout": "IPY_MODEL_be63ecbff0e047d2b58b83232f0a8476",
       "tabbable": null,
       "tooltip": null
      }
     },
     "0aa6da42555f4853b67c322884d7d56a": {
      "model_module": "@jupyter-widgets/controls",
      "model_module_version": "2.0.0",
      "model_name": "HBoxModel",
      "state": {
       "_dom_classes": [],
       "_model_module": "@jupyter-widgets/controls",
       "_model_module_version": "2.0.0",
       "_model_name": "HBoxModel",
       "_view_count": null,
       "_view_module": "@jupyter-widgets/controls",
       "_view_module_version": "2.0.0",
       "_view_name": "HBoxView",
       "box_style": "",
       "children": [
        "IPY_MODEL_ffde85f4436848bd94f341db4371405e",
        "IPY_MODEL_90c3c7ed920f449b8fdf1839e5282d5d",
        "IPY_MODEL_a203e0f84a974636a48cb0f6068e162d"
       ],
       "layout": "IPY_MODEL_47f52ee1c33e4195a2cd9cb30b10b332",
       "tabbable": null,
       "tooltip": null
      }
     },
     "0f1e5054cc7848c2972d325c7ad56183": {
      "model_module": "@jupyter-widgets/controls",
      "model_module_version": "2.0.0",
      "model_name": "ProgressStyleModel",
      "state": {
       "_model_module": "@jupyter-widgets/controls",
       "_model_module_version": "2.0.0",
       "_model_name": "ProgressStyleModel",
       "_view_count": null,
       "_view_module": "@jupyter-widgets/base",
       "_view_module_version": "2.0.0",
       "_view_name": "StyleView",
       "bar_color": null,
       "description_width": ""
      }
     },
     "0f28bf5a23d949378f737c172beb8328": {
      "model_module": "@jupyter-widgets/base",
      "model_module_version": "2.0.0",
      "model_name": "LayoutModel",
      "state": {
       "_model_module": "@jupyter-widgets/base",
       "_model_module_version": "2.0.0",
       "_model_name": "LayoutModel",
       "_view_count": null,
       "_view_module": "@jupyter-widgets/base",
       "_view_module_version": "2.0.0",
       "_view_name": "LayoutView",
       "align_content": null,
       "align_items": null,
       "align_self": null,
       "border_bottom": null,
       "border_left": null,
       "border_right": null,
       "border_top": null,
       "bottom": null,
       "display": null,
       "flex": null,
       "flex_flow": null,
       "grid_area": null,
       "grid_auto_columns": null,
       "grid_auto_flow": null,
       "grid_auto_rows": null,
       "grid_column": null,
       "grid_gap": null,
       "grid_row": null,
       "grid_template_areas": null,
       "grid_template_columns": null,
       "grid_template_rows": null,
       "height": null,
       "justify_content": null,
       "justify_items": null,
       "left": null,
       "margin": null,
       "max_height": null,
       "max_width": null,
       "min_height": null,
       "min_width": null,
       "object_fit": null,
       "object_position": null,
       "order": null,
       "overflow": null,
       "padding": null,
       "right": null,
       "top": null,
       "visibility": null,
       "width": null
      }
     },
     "1d213787902d415bbc358594e963737f": {
      "model_module": "@jupyter-widgets/controls",
      "model_module_version": "2.0.0",
      "model_name": "ProgressStyleModel",
      "state": {
       "_model_module": "@jupyter-widgets/controls",
       "_model_module_version": "2.0.0",
       "_model_name": "ProgressStyleModel",
       "_view_count": null,
       "_view_module": "@jupyter-widgets/base",
       "_view_module_version": "2.0.0",
       "_view_name": "StyleView",
       "bar_color": null,
       "description_width": ""
      }
     },
     "1df85ef2a700496094072f33e9eec607": {
      "model_module": "@jupyter-widgets/controls",
      "model_module_version": "2.0.0",
      "model_name": "HTMLStyleModel",
      "state": {
       "_model_module": "@jupyter-widgets/controls",
       "_model_module_version": "2.0.0",
       "_model_name": "HTMLStyleModel",
       "_view_count": null,
       "_view_module": "@jupyter-widgets/base",
       "_view_module_version": "2.0.0",
       "_view_name": "StyleView",
       "background": null,
       "description_width": "",
       "font_size": null,
       "text_color": null
      }
     },
     "1f27840c9f4345f186665872a3f822f8": {
      "model_module": "@jupyter-widgets/base",
      "model_module_version": "2.0.0",
      "model_name": "LayoutModel",
      "state": {
       "_model_module": "@jupyter-widgets/base",
       "_model_module_version": "2.0.0",
       "_model_name": "LayoutModel",
       "_view_count": null,
       "_view_module": "@jupyter-widgets/base",
       "_view_module_version": "2.0.0",
       "_view_name": "LayoutView",
       "align_content": null,
       "align_items": null,
       "align_self": null,
       "border_bottom": null,
       "border_left": null,
       "border_right": null,
       "border_top": null,
       "bottom": null,
       "display": null,
       "flex": null,
       "flex_flow": null,
       "grid_area": null,
       "grid_auto_columns": null,
       "grid_auto_flow": null,
       "grid_auto_rows": null,
       "grid_column": null,
       "grid_gap": null,
       "grid_row": null,
       "grid_template_areas": null,
       "grid_template_columns": null,
       "grid_template_rows": null,
       "height": null,
       "justify_content": null,
       "justify_items": null,
       "left": null,
       "margin": null,
       "max_height": null,
       "max_width": null,
       "min_height": null,
       "min_width": null,
       "object_fit": null,
       "object_position": null,
       "order": null,
       "overflow": null,
       "padding": null,
       "right": null,
       "top": null,
       "visibility": null,
       "width": null
      }
     },
     "236531ec5e224322bf451f1e567e2144": {
      "model_module": "@jupyter-widgets/controls",
      "model_module_version": "2.0.0",
      "model_name": "FloatProgressModel",
      "state": {
       "_dom_classes": [],
       "_model_module": "@jupyter-widgets/controls",
       "_model_module_version": "2.0.0",
       "_model_name": "FloatProgressModel",
       "_view_count": null,
       "_view_module": "@jupyter-widgets/controls",
       "_view_module_version": "2.0.0",
       "_view_name": "ProgressView",
       "bar_style": "success",
       "description": "",
       "description_allow_html": false,
       "layout": "IPY_MODEL_9e9a5a9f26f7411490a8c48a3f267e3d",
       "max": 1.0,
       "min": 0.0,
       "orientation": "horizontal",
       "style": "IPY_MODEL_dd46362b3fac42c593062d6b635c2972",
       "tabbable": null,
       "tooltip": null,
       "value": 1.0
      }
     },
     "324eabdabb90477cad0b00bd97165ee0": {
      "model_module": "@jupyter-widgets/controls",
      "model_module_version": "2.0.0",
      "model_name": "HBoxModel",
      "state": {
       "_dom_classes": [],
       "_model_module": "@jupyter-widgets/controls",
       "_model_module_version": "2.0.0",
       "_model_name": "HBoxModel",
       "_view_count": null,
       "_view_module": "@jupyter-widgets/controls",
       "_view_module_version": "2.0.0",
       "_view_name": "HBoxView",
       "box_style": "",
       "children": [
        "IPY_MODEL_bb3070d71daa4752b386a17e3f006cdd",
        "IPY_MODEL_236531ec5e224322bf451f1e567e2144",
        "IPY_MODEL_6486a00b2a5145279f2d71c8657d64ae"
       ],
       "layout": "IPY_MODEL_66cf8cb04f454fc4ae8bb911415dc824",
       "tabbable": null,
       "tooltip": null
      }
     },
     "3db4f4545e154bf5b7113c80e8c8cf38": {
      "model_module": "@jupyter-widgets/base",
      "model_module_version": "2.0.0",
      "model_name": "LayoutModel",
      "state": {
       "_model_module": "@jupyter-widgets/base",
       "_model_module_version": "2.0.0",
       "_model_name": "LayoutModel",
       "_view_count": null,
       "_view_module": "@jupyter-widgets/base",
       "_view_module_version": "2.0.0",
       "_view_name": "LayoutView",
       "align_content": null,
       "align_items": null,
       "align_self": null,
       "border_bottom": null,
       "border_left": null,
       "border_right": null,
       "border_top": null,
       "bottom": null,
       "display": null,
       "flex": null,
       "flex_flow": null,
       "grid_area": null,
       "grid_auto_columns": null,
       "grid_auto_flow": null,
       "grid_auto_rows": null,
       "grid_column": null,
       "grid_gap": null,
       "grid_row": null,
       "grid_template_areas": null,
       "grid_template_columns": null,
       "grid_template_rows": null,
       "height": null,
       "justify_content": null,
       "justify_items": null,
       "left": null,
       "margin": null,
       "max_height": null,
       "max_width": null,
       "min_height": null,
       "min_width": null,
       "object_fit": null,
       "object_position": null,
       "order": null,
       "overflow": null,
       "padding": null,
       "right": null,
       "top": null,
       "visibility": null,
       "width": null
      }
     },
     "47f52ee1c33e4195a2cd9cb30b10b332": {
      "model_module": "@jupyter-widgets/base",
      "model_module_version": "2.0.0",
      "model_name": "LayoutModel",
      "state": {
       "_model_module": "@jupyter-widgets/base",
       "_model_module_version": "2.0.0",
       "_model_name": "LayoutModel",
       "_view_count": null,
       "_view_module": "@jupyter-widgets/base",
       "_view_module_version": "2.0.0",
       "_view_name": "LayoutView",
       "align_content": null,
       "align_items": null,
       "align_self": null,
       "border_bottom": null,
       "border_left": null,
       "border_right": null,
       "border_top": null,
       "bottom": null,
       "display": null,
       "flex": null,
       "flex_flow": null,
       "grid_area": null,
       "grid_auto_columns": null,
       "grid_auto_flow": null,
       "grid_auto_rows": null,
       "grid_column": null,
       "grid_gap": null,
       "grid_row": null,
       "grid_template_areas": null,
       "grid_template_columns": null,
       "grid_template_rows": null,
       "height": null,
       "justify_content": null,
       "justify_items": null,
       "left": null,
       "margin": null,
       "max_height": null,
       "max_width": null,
       "min_height": null,
       "min_width": null,
       "object_fit": null,
       "object_position": null,
       "order": null,
       "overflow": null,
       "padding": null,
       "right": null,
       "top": null,
       "visibility": null,
       "width": null
      }
     },
     "4c8b5c1e50f64a1487807a915858f154": {
      "model_module": "@jupyter-widgets/controls",
      "model_module_version": "2.0.0",
      "model_name": "HBoxModel",
      "state": {
       "_dom_classes": [],
       "_model_module": "@jupyter-widgets/controls",
       "_model_module_version": "2.0.0",
       "_model_name": "HBoxModel",
       "_view_count": null,
       "_view_module": "@jupyter-widgets/controls",
       "_view_module_version": "2.0.0",
       "_view_name": "HBoxView",
       "box_style": "",
       "children": [
        "IPY_MODEL_9de5672a91634c9f81a9e59c0962e30a",
        "IPY_MODEL_b0be86bfdb014ffba3cd292aad213de4",
        "IPY_MODEL_62885f219e3e45a9b767c5c2af6b2908"
       ],
       "layout": "IPY_MODEL_0f28bf5a23d949378f737c172beb8328",
       "tabbable": null,
       "tooltip": null
      }
     },
     "4ce1a742506440a1858b8eb314c6eaea": {
      "model_module": "@jupyter-widgets/controls",
      "model_module_version": "2.0.0",
      "model_name": "HTMLStyleModel",
      "state": {
       "_model_module": "@jupyter-widgets/controls",
       "_model_module_version": "2.0.0",
       "_model_name": "HTMLStyleModel",
       "_view_count": null,
       "_view_module": "@jupyter-widgets/base",
       "_view_module_version": "2.0.0",
       "_view_name": "StyleView",
       "background": null,
       "description_width": "",
       "font_size": null,
       "text_color": null
      }
     },
     "4fbee7efbc3f4295b43540f40e8d5d06": {
      "model_module": "@jupyter-widgets/base",
      "model_module_version": "2.0.0",
      "model_name": "LayoutModel",
      "state": {
       "_model_module": "@jupyter-widgets/base",
       "_model_module_version": "2.0.0",
       "_model_name": "LayoutModel",
       "_view_count": null,
       "_view_module": "@jupyter-widgets/base",
       "_view_module_version": "2.0.0",
       "_view_name": "LayoutView",
       "align_content": null,
       "align_items": null,
       "align_self": null,
       "border_bottom": null,
       "border_left": null,
       "border_right": null,
       "border_top": null,
       "bottom": null,
       "display": null,
       "flex": null,
       "flex_flow": null,
       "grid_area": null,
       "grid_auto_columns": null,
       "grid_auto_flow": null,
       "grid_auto_rows": null,
       "grid_column": null,
       "grid_gap": null,
       "grid_row": null,
       "grid_template_areas": null,
       "grid_template_columns": null,
       "grid_template_rows": null,
       "height": null,
       "justify_content": null,
       "justify_items": null,
       "left": null,
       "margin": null,
       "max_height": null,
       "max_width": null,
       "min_height": null,
       "min_width": null,
       "object_fit": null,
       "object_position": null,
       "order": null,
       "overflow": null,
       "padding": null,
       "right": null,
       "top": null,
       "visibility": null,
       "width": null
      }
     },
     "5373a93424454ce6835b8dae357e0553": {
      "model_module": "@jupyter-widgets/controls",
      "model_module_version": "2.0.0",
      "model_name": "ProgressStyleModel",
      "state": {
       "_model_module": "@jupyter-widgets/controls",
       "_model_module_version": "2.0.0",
       "_model_name": "ProgressStyleModel",
       "_view_count": null,
       "_view_module": "@jupyter-widgets/base",
       "_view_module_version": "2.0.0",
       "_view_name": "StyleView",
       "bar_color": null,
       "description_width": ""
      }
     },
     "56f6a253cbdc41c0807455d2ed7f185c": {
      "model_module": "@jupyter-widgets/controls",
      "model_module_version": "2.0.0",
      "model_name": "HTMLStyleModel",
      "state": {
       "_model_module": "@jupyter-widgets/controls",
       "_model_module_version": "2.0.0",
       "_model_name": "HTMLStyleModel",
       "_view_count": null,
       "_view_module": "@jupyter-widgets/base",
       "_view_module_version": "2.0.0",
       "_view_name": "StyleView",
       "background": null,
       "description_width": "",
       "font_size": null,
       "text_color": null
      }
     },
     "62885f219e3e45a9b767c5c2af6b2908": {
      "model_module": "@jupyter-widgets/controls",
      "model_module_version": "2.0.0",
      "model_name": "HTMLModel",
      "state": {
       "_dom_classes": [],
       "_model_module": "@jupyter-widgets/controls",
       "_model_module_version": "2.0.0",
       "_model_name": "HTMLModel",
       "_view_count": null,
       "_view_module": "@jupyter-widgets/controls",
       "_view_module_version": "2.0.0",
       "_view_name": "HTMLView",
       "description": "",
       "description_allow_html": false,
       "layout": "IPY_MODEL_644360288fb14613a1c39527bd885264",
       "placeholder": "​",
       "style": "IPY_MODEL_1df85ef2a700496094072f33e9eec607",
       "tabbable": null,
       "tooltip": null,
       "value": " 1/1 [00:00&lt;00:00,  3.34it/s]"
      }
     },
     "644360288fb14613a1c39527bd885264": {
      "model_module": "@jupyter-widgets/base",
      "model_module_version": "2.0.0",
      "model_name": "LayoutModel",
      "state": {
       "_model_module": "@jupyter-widgets/base",
       "_model_module_version": "2.0.0",
       "_model_name": "LayoutModel",
       "_view_count": null,
       "_view_module": "@jupyter-widgets/base",
       "_view_module_version": "2.0.0",
       "_view_name": "LayoutView",
       "align_content": null,
       "align_items": null,
       "align_self": null,
       "border_bottom": null,
       "border_left": null,
       "border_right": null,
       "border_top": null,
       "bottom": null,
       "display": null,
       "flex": null,
       "flex_flow": null,
       "grid_area": null,
       "grid_auto_columns": null,
       "grid_auto_flow": null,
       "grid_auto_rows": null,
       "grid_column": null,
       "grid_gap": null,
       "grid_row": null,
       "grid_template_areas": null,
       "grid_template_columns": null,
       "grid_template_rows": null,
       "height": null,
       "justify_content": null,
       "justify_items": null,
       "left": null,
       "margin": null,
       "max_height": null,
       "max_width": null,
       "min_height": null,
       "min_width": null,
       "object_fit": null,
       "object_position": null,
       "order": null,
       "overflow": null,
       "padding": null,
       "right": null,
       "top": null,
       "visibility": null,
       "width": null
      }
     },
     "6486a00b2a5145279f2d71c8657d64ae": {
      "model_module": "@jupyter-widgets/controls",
      "model_module_version": "2.0.0",
      "model_name": "HTMLModel",
      "state": {
       "_dom_classes": [],
       "_model_module": "@jupyter-widgets/controls",
       "_model_module_version": "2.0.0",
       "_model_name": "HTMLModel",
       "_view_count": null,
       "_view_module": "@jupyter-widgets/controls",
       "_view_module_version": "2.0.0",
       "_view_name": "HTMLView",
       "description": "",
       "description_allow_html": false,
       "layout": "IPY_MODEL_ffc68817ac544fa9baf1a89a542c4eaf",
       "placeholder": "​",
       "style": "IPY_MODEL_e5aca66bcb2f45feb819ba8d958b6cfe",
       "tabbable": null,
       "tooltip": null,
       "value": " 1/1 [00:00&lt;00:00, 103.34it/s]"
      }
     },
     "65e785c08b8c48b08edc8583ca1527bf": {
      "model_module": "@jupyter-widgets/controls",
      "model_module_version": "2.0.0",
      "model_name": "HTMLStyleModel",
      "state": {
       "_model_module": "@jupyter-widgets/controls",
       "_model_module_version": "2.0.0",
       "_model_name": "HTMLStyleModel",
       "_view_count": null,
       "_view_module": "@jupyter-widgets/base",
       "_view_module_version": "2.0.0",
       "_view_name": "StyleView",
       "background": null,
       "description_width": "",
       "font_size": null,
       "text_color": null
      }
     },
     "66cf8cb04f454fc4ae8bb911415dc824": {
      "model_module": "@jupyter-widgets/base",
      "model_module_version": "2.0.0",
      "model_name": "LayoutModel",
      "state": {
       "_model_module": "@jupyter-widgets/base",
       "_model_module_version": "2.0.0",
       "_model_name": "LayoutModel",
       "_view_count": null,
       "_view_module": "@jupyter-widgets/base",
       "_view_module_version": "2.0.0",
       "_view_name": "LayoutView",
       "align_content": null,
       "align_items": null,
       "align_self": null,
       "border_bottom": null,
       "border_left": null,
       "border_right": null,
       "border_top": null,
       "bottom": null,
       "display": null,
       "flex": null,
       "flex_flow": null,
       "grid_area": null,
       "grid_auto_columns": null,
       "grid_auto_flow": null,
       "grid_auto_rows": null,
       "grid_column": null,
       "grid_gap": null,
       "grid_row": null,
       "grid_template_areas": null,
       "grid_template_columns": null,
       "grid_template_rows": null,
       "height": null,
       "justify_content": null,
       "justify_items": null,
       "left": null,
       "margin": null,
       "max_height": null,
       "max_width": null,
       "min_height": null,
       "min_width": null,
       "object_fit": null,
       "object_position": null,
       "order": null,
       "overflow": null,
       "padding": null,
       "right": null,
       "top": null,
       "visibility": null,
       "width": null
      }
     },
     "67f74a74e82342fdbcfb723b3a55532b": {
      "model_module": "@jupyter-widgets/controls",
      "model_module_version": "2.0.0",
      "model_name": "HTMLModel",
      "state": {
       "_dom_classes": [],
       "_model_module": "@jupyter-widgets/controls",
       "_model_module_version": "2.0.0",
       "_model_name": "HTMLModel",
       "_view_count": null,
       "_view_module": "@jupyter-widgets/controls",
       "_view_module_version": "2.0.0",
       "_view_name": "HTMLView",
       "description": "",
       "description_allow_html": false,
       "layout": "IPY_MODEL_3db4f4545e154bf5b7113c80e8c8cf38",
       "placeholder": "​",
       "style": "IPY_MODEL_4ce1a742506440a1858b8eb314c6eaea",
       "tabbable": null,
       "tooltip": null,
       "value": " 14/14 [00:01&lt;00:00,  6.33it/s, Completed]"
      }
     },
     "7cecdd0f936d4eff96c484206e79f455": {
      "model_module": "@jupyter-widgets/base",
      "model_module_version": "2.0.0",
      "model_name": "LayoutModel",
      "state": {
       "_model_module": "@jupyter-widgets/base",
       "_model_module_version": "2.0.0",
       "_model_name": "LayoutModel",
       "_view_count": null,
       "_view_module": "@jupyter-widgets/base",
       "_view_module_version": "2.0.0",
       "_view_name": "LayoutView",
       "align_content": null,
       "align_items": null,
       "align_self": null,
       "border_bottom": null,
       "border_left": null,
       "border_right": null,
       "border_top": null,
       "bottom": null,
       "display": null,
       "flex": null,
       "flex_flow": null,
       "grid_area": null,
       "grid_auto_columns": null,
       "grid_auto_flow": null,
       "grid_auto_rows": null,
       "grid_column": null,
       "grid_gap": null,
       "grid_row": null,
       "grid_template_areas": null,
       "grid_template_columns": null,
       "grid_template_rows": null,
       "height": null,
       "justify_content": null,
       "justify_items": null,
       "left": null,
       "margin": null,
       "max_height": null,
       "max_width": null,
       "min_height": null,
       "min_width": null,
       "object_fit": null,
       "object_position": null,
       "order": null,
       "overflow": null,
       "padding": null,
       "right": null,
       "top": null,
       "visibility": null,
       "width": null
      }
     },
     "90c3c7ed920f449b8fdf1839e5282d5d": {
      "model_module": "@jupyter-widgets/controls",
      "model_module_version": "2.0.0",
      "model_name": "FloatProgressModel",
      "state": {
       "_dom_classes": [],
       "_model_module": "@jupyter-widgets/controls",
       "_model_module_version": "2.0.0",
       "_model_name": "FloatProgressModel",
       "_view_count": null,
       "_view_module": "@jupyter-widgets/controls",
       "_view_module_version": "2.0.0",
       "_view_name": "ProgressView",
       "bar_style": "success",
       "description": "",
       "description_allow_html": false,
       "layout": "IPY_MODEL_ebb2577d2dd0493a821c9a47ec67ffda",
       "max": 1.0,
       "min": 0.0,
       "orientation": "horizontal",
       "style": "IPY_MODEL_5373a93424454ce6835b8dae357e0553",
       "tabbable": null,
       "tooltip": null,
       "value": 1.0
      }
     },
     "9de5672a91634c9f81a9e59c0962e30a": {
      "model_module": "@jupyter-widgets/controls",
      "model_module_version": "2.0.0",
      "model_name": "HTMLModel",
      "state": {
       "_dom_classes": [],
       "_model_module": "@jupyter-widgets/controls",
       "_model_module_version": "2.0.0",
       "_model_name": "HTMLModel",
       "_view_count": null,
       "_view_module": "@jupyter-widgets/controls",
       "_view_module_version": "2.0.0",
       "_view_name": "HTMLView",
       "description": "",
       "description_allow_html": false,
       "layout": "IPY_MODEL_4fbee7efbc3f4295b43540f40e8d5d06",
       "placeholder": "​",
       "style": "IPY_MODEL_56f6a253cbdc41c0807455d2ed7f185c",
       "tabbable": null,
       "tooltip": null,
       "value": "Render HTML: 100%"
      }
     },
     "9e9a5a9f26f7411490a8c48a3f267e3d": {
      "model_module": "@jupyter-widgets/base",
      "model_module_version": "2.0.0",
      "model_name": "LayoutModel",
      "state": {
       "_model_module": "@jupyter-widgets/base",
       "_model_module_version": "2.0.0",
       "_model_name": "LayoutModel",
       "_view_count": null,
       "_view_module": "@jupyter-widgets/base",
       "_view_module_version": "2.0.0",
       "_view_name": "LayoutView",
       "align_content": null,
       "align_items": null,
       "align_self": null,
       "border_bottom": null,
       "border_left": null,
       "border_right": null,
       "border_top": null,
       "bottom": null,
       "display": null,
       "flex": null,
       "flex_flow": null,
       "grid_area": null,
       "grid_auto_columns": null,
       "grid_auto_flow": null,
       "grid_auto_rows": null,
       "grid_column": null,
       "grid_gap": null,
       "grid_row": null,
       "grid_template_areas": null,
       "grid_template_columns": null,
       "grid_template_rows": null,
       "height": null,
       "justify_content": null,
       "justify_items": null,
       "left": null,
       "margin": null,
       "max_height": null,
       "max_width": null,
       "min_height": null,
       "min_width": null,
       "object_fit": null,
       "object_position": null,
       "order": null,
       "overflow": null,
       "padding": null,
       "right": null,
       "top": null,
       "visibility": null,
       "width": null
      }
     },
     "a203e0f84a974636a48cb0f6068e162d": {
      "model_module": "@jupyter-widgets/controls",
      "model_module_version": "2.0.0",
      "model_name": "HTMLModel",
      "state": {
       "_dom_classes": [],
       "_model_module": "@jupyter-widgets/controls",
       "_model_module_version": "2.0.0",
       "_model_name": "HTMLModel",
       "_view_count": null,
       "_view_module": "@jupyter-widgets/controls",
       "_view_module_version": "2.0.0",
       "_view_name": "HTMLView",
       "description": "",
       "description_allow_html": false,
       "layout": "IPY_MODEL_af6d12d6d3044f6a92d992e5a193adc1",
       "placeholder": "​",
       "style": "IPY_MODEL_f148525a370e435c902039cdb43c550b",
       "tabbable": null,
       "tooltip": null,
       "value": " 1/1 [00:01&lt;00:00,  1.59s/it]"
      }
     },
     "af6d12d6d3044f6a92d992e5a193adc1": {
      "model_module": "@jupyter-widgets/base",
      "model_module_version": "2.0.0",
      "model_name": "LayoutModel",
      "state": {
       "_model_module": "@jupyter-widgets/base",
       "_model_module_version": "2.0.0",
       "_model_name": "LayoutModel",
       "_view_count": null,
       "_view_module": "@jupyter-widgets/base",
       "_view_module_version": "2.0.0",
       "_view_name": "LayoutView",
       "align_content": null,
       "align_items": null,
       "align_self": null,
       "border_bottom": null,
       "border_left": null,
       "border_right": null,
       "border_top": null,
       "bottom": null,
       "display": null,
       "flex": null,
       "flex_flow": null,
       "grid_area": null,
       "grid_auto_columns": null,
       "grid_auto_flow": null,
       "grid_auto_rows": null,
       "grid_column": null,
       "grid_gap": null,
       "grid_row": null,
       "grid_template_areas": null,
       "grid_template_columns": null,
       "grid_template_rows": null,
       "height": null,
       "justify_content": null,
       "justify_items": null,
       "left": null,
       "margin": null,
       "max_height": null,
       "max_width": null,
       "min_height": null,
       "min_width": null,
       "object_fit": null,
       "object_position": null,
       "order": null,
       "overflow": null,
       "padding": null,
       "right": null,
       "top": null,
       "visibility": null,
       "width": null
      }
     },
     "b0be86bfdb014ffba3cd292aad213de4": {
      "model_module": "@jupyter-widgets/controls",
      "model_module_version": "2.0.0",
      "model_name": "FloatProgressModel",
      "state": {
       "_dom_classes": [],
       "_model_module": "@jupyter-widgets/controls",
       "_model_module_version": "2.0.0",
       "_model_name": "FloatProgressModel",
       "_view_count": null,
       "_view_module": "@jupyter-widgets/controls",
       "_view_module_version": "2.0.0",
       "_view_name": "ProgressView",
       "bar_style": "success",
       "description": "",
       "description_allow_html": false,
       "layout": "IPY_MODEL_e817b5c151c9471f9cf4a1990ef0a830",
       "max": 1.0,
       "min": 0.0,
       "orientation": "horizontal",
       "style": "IPY_MODEL_1d213787902d415bbc358594e963737f",
       "tabbable": null,
       "tooltip": null,
       "value": 1.0
      }
     },
     "b6f7a82c056c4635a2ab9c534002432f": {
      "model_module": "@jupyter-widgets/controls",
      "model_module_version": "2.0.0",
      "model_name": "HTMLStyleModel",
      "state": {
       "_model_module": "@jupyter-widgets/controls",
       "_model_module_version": "2.0.0",
       "_model_name": "HTMLStyleModel",
       "_view_count": null,
       "_view_module": "@jupyter-widgets/base",
       "_view_module_version": "2.0.0",
       "_view_name": "StyleView",
       "background": null,
       "description_width": "",
       "font_size": null,
       "text_color": null
      }
     },
     "bb3070d71daa4752b386a17e3f006cdd": {
      "model_module": "@jupyter-widgets/controls",
      "model_module_version": "2.0.0",
      "model_name": "HTMLModel",
      "state": {
       "_dom_classes": [],
       "_model_module": "@jupyter-widgets/controls",
       "_model_module_version": "2.0.0",
       "_model_name": "HTMLModel",
       "_view_count": null,
       "_view_module": "@jupyter-widgets/controls",
       "_view_module_version": "2.0.0",
       "_view_name": "HTMLView",
       "description": "",
       "description_allow_html": false,
       "layout": "IPY_MODEL_7cecdd0f936d4eff96c484206e79f455",
       "placeholder": "​",
       "style": "IPY_MODEL_b6f7a82c056c4635a2ab9c534002432f",
       "tabbable": null,
       "tooltip": null,
       "value": "Export report to file: 100%"
      }
     },
     "be63ecbff0e047d2b58b83232f0a8476": {
      "model_module": "@jupyter-widgets/base",
      "model_module_version": "2.0.0",
      "model_name": "LayoutModel",
      "state": {
       "_model_module": "@jupyter-widgets/base",
       "_model_module_version": "2.0.0",
       "_model_name": "LayoutModel",
       "_view_count": null,
       "_view_module": "@jupyter-widgets/base",
       "_view_module_version": "2.0.0",
       "_view_name": "LayoutView",
       "align_content": null,
       "align_items": null,
       "align_self": null,
       "border_bottom": null,
       "border_left": null,
       "border_right": null,
       "border_top": null,
       "bottom": null,
       "display": null,
       "flex": null,
       "flex_flow": null,
       "grid_area": null,
       "grid_auto_columns": null,
       "grid_auto_flow": null,
       "grid_auto_rows": null,
       "grid_column": null,
       "grid_gap": null,
       "grid_row": null,
       "grid_template_areas": null,
       "grid_template_columns": null,
       "grid_template_rows": null,
       "height": null,
       "justify_content": null,
       "justify_items": null,
       "left": null,
       "margin": null,
       "max_height": null,
       "max_width": null,
       "min_height": null,
       "min_width": null,
       "object_fit": null,
       "object_position": null,
       "order": null,
       "overflow": null,
       "padding": null,
       "right": null,
       "top": null,
       "visibility": null,
       "width": null
      }
     },
     "dd46362b3fac42c593062d6b635c2972": {
      "model_module": "@jupyter-widgets/controls",
      "model_module_version": "2.0.0",
      "model_name": "ProgressStyleModel",
      "state": {
       "_model_module": "@jupyter-widgets/controls",
       "_model_module_version": "2.0.0",
       "_model_name": "ProgressStyleModel",
       "_view_count": null,
       "_view_module": "@jupyter-widgets/base",
       "_view_module_version": "2.0.0",
       "_view_name": "StyleView",
       "bar_color": null,
       "description_width": ""
      }
     },
     "de930a51ae5c4fbfaf2fc7510ed5ad80": {
      "model_module": "@jupyter-widgets/base",
      "model_module_version": "2.0.0",
      "model_name": "LayoutModel",
      "state": {
       "_model_module": "@jupyter-widgets/base",
       "_model_module_version": "2.0.0",
       "_model_name": "LayoutModel",
       "_view_count": null,
       "_view_module": "@jupyter-widgets/base",
       "_view_module_version": "2.0.0",
       "_view_name": "LayoutView",
       "align_content": null,
       "align_items": null,
       "align_self": null,
       "border_bottom": null,
       "border_left": null,
       "border_right": null,
       "border_top": null,
       "bottom": null,
       "display": null,
       "flex": null,
       "flex_flow": null,
       "grid_area": null,
       "grid_auto_columns": null,
       "grid_auto_flow": null,
       "grid_auto_rows": null,
       "grid_column": null,
       "grid_gap": null,
       "grid_row": null,
       "grid_template_areas": null,
       "grid_template_columns": null,
       "grid_template_rows": null,
       "height": null,
       "justify_content": null,
       "justify_items": null,
       "left": null,
       "margin": null,
       "max_height": null,
       "max_width": null,
       "min_height": null,
       "min_width": null,
       "object_fit": null,
       "object_position": null,
       "order": null,
       "overflow": null,
       "padding": null,
       "right": null,
       "top": null,
       "visibility": null,
       "width": null
      }
     },
     "e5aca66bcb2f45feb819ba8d958b6cfe": {
      "model_module": "@jupyter-widgets/controls",
      "model_module_version": "2.0.0",
      "model_name": "HTMLStyleModel",
      "state": {
       "_model_module": "@jupyter-widgets/controls",
       "_model_module_version": "2.0.0",
       "_model_name": "HTMLStyleModel",
       "_view_count": null,
       "_view_module": "@jupyter-widgets/base",
       "_view_module_version": "2.0.0",
       "_view_name": "StyleView",
       "background": null,
       "description_width": "",
       "font_size": null,
       "text_color": null
      }
     },
     "e817b5c151c9471f9cf4a1990ef0a830": {
      "model_module": "@jupyter-widgets/base",
      "model_module_version": "2.0.0",
      "model_name": "LayoutModel",
      "state": {
       "_model_module": "@jupyter-widgets/base",
       "_model_module_version": "2.0.0",
       "_model_name": "LayoutModel",
       "_view_count": null,
       "_view_module": "@jupyter-widgets/base",
       "_view_module_version": "2.0.0",
       "_view_name": "LayoutView",
       "align_content": null,
       "align_items": null,
       "align_self": null,
       "border_bottom": null,
       "border_left": null,
       "border_right": null,
       "border_top": null,
       "bottom": null,
       "display": null,
       "flex": null,
       "flex_flow": null,
       "grid_area": null,
       "grid_auto_columns": null,
       "grid_auto_flow": null,
       "grid_auto_rows": null,
       "grid_column": null,
       "grid_gap": null,
       "grid_row": null,
       "grid_template_areas": null,
       "grid_template_columns": null,
       "grid_template_rows": null,
       "height": null,
       "justify_content": null,
       "justify_items": null,
       "left": null,
       "margin": null,
       "max_height": null,
       "max_width": null,
       "min_height": null,
       "min_width": null,
       "object_fit": null,
       "object_position": null,
       "order": null,
       "overflow": null,
       "padding": null,
       "right": null,
       "top": null,
       "visibility": null,
       "width": null
      }
     },
     "ebb2577d2dd0493a821c9a47ec67ffda": {
      "model_module": "@jupyter-widgets/base",
      "model_module_version": "2.0.0",
      "model_name": "LayoutModel",
      "state": {
       "_model_module": "@jupyter-widgets/base",
       "_model_module_version": "2.0.0",
       "_model_name": "LayoutModel",
       "_view_count": null,
       "_view_module": "@jupyter-widgets/base",
       "_view_module_version": "2.0.0",
       "_view_name": "LayoutView",
       "align_content": null,
       "align_items": null,
       "align_self": null,
       "border_bottom": null,
       "border_left": null,
       "border_right": null,
       "border_top": null,
       "bottom": null,
       "display": null,
       "flex": null,
       "flex_flow": null,
       "grid_area": null,
       "grid_auto_columns": null,
       "grid_auto_flow": null,
       "grid_auto_rows": null,
       "grid_column": null,
       "grid_gap": null,
       "grid_row": null,
       "grid_template_areas": null,
       "grid_template_columns": null,
       "grid_template_rows": null,
       "height": null,
       "justify_content": null,
       "justify_items": null,
       "left": null,
       "margin": null,
       "max_height": null,
       "max_width": null,
       "min_height": null,
       "min_width": null,
       "object_fit": null,
       "object_position": null,
       "order": null,
       "overflow": null,
       "padding": null,
       "right": null,
       "top": null,
       "visibility": null,
       "width": null
      }
     },
     "f148525a370e435c902039cdb43c550b": {
      "model_module": "@jupyter-widgets/controls",
      "model_module_version": "2.0.0",
      "model_name": "HTMLStyleModel",
      "state": {
       "_model_module": "@jupyter-widgets/controls",
       "_model_module_version": "2.0.0",
       "_model_name": "HTMLStyleModel",
       "_view_count": null,
       "_view_module": "@jupyter-widgets/base",
       "_view_module_version": "2.0.0",
       "_view_name": "StyleView",
       "background": null,
       "description_width": "",
       "font_size": null,
       "text_color": null
      }
     },
     "f226f85b58d94fde8496f5fdcfe3badd": {
      "model_module": "@jupyter-widgets/controls",
      "model_module_version": "2.0.0",
      "model_name": "HTMLModel",
      "state": {
       "_dom_classes": [],
       "_model_module": "@jupyter-widgets/controls",
       "_model_module_version": "2.0.0",
       "_model_name": "HTMLModel",
       "_view_count": null,
       "_view_module": "@jupyter-widgets/controls",
       "_view_module_version": "2.0.0",
       "_view_name": "HTMLView",
       "description": "",
       "description_allow_html": false,
       "layout": "IPY_MODEL_f285754ebe8942e2be1af50a8e0eb8b3",
       "placeholder": "​",
       "style": "IPY_MODEL_020acbc358f9495a8d0afc7e2505818a",
       "tabbable": null,
       "tooltip": null,
       "value": "Summarize dataset: 100%"
      }
     },
     "f285754ebe8942e2be1af50a8e0eb8b3": {
      "model_module": "@jupyter-widgets/base",
      "model_module_version": "2.0.0",
      "model_name": "LayoutModel",
      "state": {
       "_model_module": "@jupyter-widgets/base",
       "_model_module_version": "2.0.0",
       "_model_name": "LayoutModel",
       "_view_count": null,
       "_view_module": "@jupyter-widgets/base",
       "_view_module_version": "2.0.0",
       "_view_name": "LayoutView",
       "align_content": null,
       "align_items": null,
       "align_self": null,
       "border_bottom": null,
       "border_left": null,
       "border_right": null,
       "border_top": null,
       "bottom": null,
       "display": null,
       "flex": null,
       "flex_flow": null,
       "grid_area": null,
       "grid_auto_columns": null,
       "grid_auto_flow": null,
       "grid_auto_rows": null,
       "grid_column": null,
       "grid_gap": null,
       "grid_row": null,
       "grid_template_areas": null,
       "grid_template_columns": null,
       "grid_template_rows": null,
       "height": null,
       "justify_content": null,
       "justify_items": null,
       "left": null,
       "margin": null,
       "max_height": null,
       "max_width": null,
       "min_height": null,
       "min_width": null,
       "object_fit": null,
       "object_position": null,
       "order": null,
       "overflow": null,
       "padding": null,
       "right": null,
       "top": null,
       "visibility": null,
       "width": null
      }
     },
     "fc79978d5b65495fa779098f6d63dbf9": {
      "model_module": "@jupyter-widgets/controls",
      "model_module_version": "2.0.0",
      "model_name": "FloatProgressModel",
      "state": {
       "_dom_classes": [],
       "_model_module": "@jupyter-widgets/controls",
       "_model_module_version": "2.0.0",
       "_model_name": "FloatProgressModel",
       "_view_count": null,
       "_view_module": "@jupyter-widgets/controls",
       "_view_module_version": "2.0.0",
       "_view_name": "ProgressView",
       "bar_style": "success",
       "description": "",
       "description_allow_html": false,
       "layout": "IPY_MODEL_1f27840c9f4345f186665872a3f822f8",
       "max": 5.0,
       "min": 0.0,
       "orientation": "horizontal",
       "style": "IPY_MODEL_0f1e5054cc7848c2972d325c7ad56183",
       "tabbable": null,
       "tooltip": null,
       "value": 5.0
      }
     },
     "ffc68817ac544fa9baf1a89a542c4eaf": {
      "model_module": "@jupyter-widgets/base",
      "model_module_version": "2.0.0",
      "model_name": "LayoutModel",
      "state": {
       "_model_module": "@jupyter-widgets/base",
       "_model_module_version": "2.0.0",
       "_model_name": "LayoutModel",
       "_view_count": null,
       "_view_module": "@jupyter-widgets/base",
       "_view_module_version": "2.0.0",
       "_view_name": "LayoutView",
       "align_content": null,
       "align_items": null,
       "align_self": null,
       "border_bottom": null,
       "border_left": null,
       "border_right": null,
       "border_top": null,
       "bottom": null,
       "display": null,
       "flex": null,
       "flex_flow": null,
       "grid_area": null,
       "grid_auto_columns": null,
       "grid_auto_flow": null,
       "grid_auto_rows": null,
       "grid_column": null,
       "grid_gap": null,
       "grid_row": null,
       "grid_template_areas": null,
       "grid_template_columns": null,
       "grid_template_rows": null,
       "height": null,
       "justify_content": null,
       "justify_items": null,
       "left": null,
       "margin": null,
       "max_height": null,
       "max_width": null,
       "min_height": null,
       "min_width": null,
       "object_fit": null,
       "object_position": null,
       "order": null,
       "overflow": null,
       "padding": null,
       "right": null,
       "top": null,
       "visibility": null,
       "width": null
      }
     },
     "ffde85f4436848bd94f341db4371405e": {
      "model_module": "@jupyter-widgets/controls",
      "model_module_version": "2.0.0",
      "model_name": "HTMLModel",
      "state": {
       "_dom_classes": [],
       "_model_module": "@jupyter-widgets/controls",
       "_model_module_version": "2.0.0",
       "_model_name": "HTMLModel",
       "_view_count": null,
       "_view_module": "@jupyter-widgets/controls",
       "_view_module_version": "2.0.0",
       "_view_name": "HTMLView",
       "description": "",
       "description_allow_html": false,
       "layout": "IPY_MODEL_de930a51ae5c4fbfaf2fc7510ed5ad80",
       "placeholder": "​",
       "style": "IPY_MODEL_65e785c08b8c48b08edc8583ca1527bf",
       "tabbable": null,
       "tooltip": null,
       "value": "Generate report structure: 100%"
      }
     }
    },
    "version_major": 2,
    "version_minor": 0
   }
  }
 },
 "nbformat": 4,
 "nbformat_minor": 5
}
