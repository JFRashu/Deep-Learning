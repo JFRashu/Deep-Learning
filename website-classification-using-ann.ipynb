{
 "cells": [
  {
   "cell_type": "markdown",
   "id": "f30df56c",
   "metadata": {
    "papermill": {
     "duration": 0.006333,
     "end_time": "2025-06-05T15:42:30.651010",
     "exception": false,
     "start_time": "2025-06-05T15:42:30.644677",
     "status": "completed"
    },
    "tags": []
   },
   "source": [
    "# Necessary Imports"
   ]
  },
  {
   "cell_type": "code",
   "execution_count": 1,
   "id": "e9f4397f",
   "metadata": {
    "execution": {
     "iopub.execute_input": "2025-06-05T15:42:30.663020Z",
     "iopub.status.busy": "2025-06-05T15:42:30.662731Z",
     "iopub.status.idle": "2025-06-05T15:42:44.553003Z",
     "shell.execute_reply": "2025-06-05T15:42:44.551897Z"
    },
    "papermill": {
     "duration": 13.898037,
     "end_time": "2025-06-05T15:42:44.554636",
     "exception": false,
     "start_time": "2025-06-05T15:42:30.656599",
     "status": "completed"
    },
    "tags": []
   },
   "outputs": [
    {
     "data": {
      "text/html": [
       "\n",
       "            <div>\n",
       "                <ins><a href=\"https://ydata.ai/register\">Upgrade to ydata-sdk</a></ins>\n",
       "                <p>\n",
       "                    Improve your data and profiling with ydata-sdk, featuring data quality scoring, redundancy detection, outlier identification, text validation, and synthetic data generation.\n",
       "                </p>\n",
       "            </div>\n",
       "            "
      ],
      "text/plain": [
       "<IPython.core.display.HTML object>"
      ]
     },
     "metadata": {},
     "output_type": "display_data"
    },
    {
     "name": "stdout",
     "output_type": "stream",
     "text": [
      "Setup Complete\n"
     ]
    }
   ],
   "source": [
    "import pandas as pd\n",
    "import numpy as np\n",
    "import matplotlib.pyplot as plt\n",
    "import seaborn as sns\n",
    "from ydata_profiling import ProfileReport\n",
    "from IPython.display import HTML, IFrame, FileLink\n",
    "from sklearn.model_selection import train_test_split\n",
    "from sklearn.feature_extraction.text import CountVectorizer\n",
    "from sklearn.preprocessing import LabelEncoder\n",
    "from sklearn.metrics import classification_report, confusion_matrix\n",
    "import torch\n",
    "import torch.nn as nn\n",
    "import torch.optim as optim\n",
    "from torch.utils.data import DataLoader, TensorDataset\n",
    "print(\"Setup Complete\")"
   ]
  },
  {
   "cell_type": "markdown",
   "id": "83b36d97",
   "metadata": {
    "papermill": {
     "duration": 0.005293,
     "end_time": "2025-06-05T15:42:44.565799",
     "exception": false,
     "start_time": "2025-06-05T15:42:44.560506",
     "status": "completed"
    },
    "tags": []
   },
   "source": [
    "# Connect Dataset"
   ]
  },
  {
   "cell_type": "code",
   "execution_count": 2,
   "id": "a0889bd8",
   "metadata": {
    "execution": {
     "iopub.execute_input": "2025-06-05T15:42:44.579110Z",
     "iopub.status.busy": "2025-06-05T15:42:44.577890Z",
     "iopub.status.idle": "2025-06-05T15:42:44.828061Z",
     "shell.execute_reply": "2025-06-05T15:42:44.827394Z"
    },
    "papermill": {
     "duration": 0.258423,
     "end_time": "2025-06-05T15:42:44.829762",
     "exception": false,
     "start_time": "2025-06-05T15:42:44.571339",
     "status": "completed"
    },
    "tags": []
   },
   "outputs": [],
   "source": [
    "dataset_path = '/kaggle/input/website-classification/website_classification.csv'\n",
    "dataset = pd.read_csv(dataset_path)"
   ]
  },
  {
   "cell_type": "markdown",
   "id": "18203a44",
   "metadata": {
    "papermill": {
     "duration": 0.005161,
     "end_time": "2025-06-05T15:42:44.840598",
     "exception": false,
     "start_time": "2025-06-05T15:42:44.835437",
     "status": "completed"
    },
    "tags": []
   },
   "source": [
    "# Display Basic Info"
   ]
  },
  {
   "cell_type": "code",
   "execution_count": 3,
   "id": "66e257dc",
   "metadata": {
    "execution": {
     "iopub.execute_input": "2025-06-05T15:42:44.852724Z",
     "iopub.status.busy": "2025-06-05T15:42:44.852391Z",
     "iopub.status.idle": "2025-06-05T15:42:44.865365Z",
     "shell.execute_reply": "2025-06-05T15:42:44.864430Z"
    },
    "papermill": {
     "duration": 0.020769,
     "end_time": "2025-06-05T15:42:44.866737",
     "exception": false,
     "start_time": "2025-06-05T15:42:44.845968",
     "status": "completed"
    },
    "tags": []
   },
   "outputs": [
    {
     "name": "stdout",
     "output_type": "stream",
     "text": [
      "Dataset Shape: (1408, 4)\n",
      "\n",
      "Category Distribution:\n",
      "Category\n",
      "Education                          114\n",
      "Business/Corporate                 109\n",
      "Travel                             107\n",
      "Streaming Services                 105\n",
      "Sports                             104\n",
      "E-Commerce                         102\n",
      "Games                               98\n",
      "News                                96\n",
      "Health and Fitness                  96\n",
      "Photography                         93\n",
      "Computers and Technology            93\n",
      "Food                                92\n",
      "Law and Government                  84\n",
      "Social Networking and Messaging     83\n",
      "Forums                              16\n",
      "Adult                               16\n",
      "Name: count, dtype: int64\n"
     ]
    }
   ],
   "source": [
    "print(\"Dataset Shape:\", dataset.shape)\n",
    "print(\"\\nCategory Distribution:\")\n",
    "print(dataset['Category'].value_counts())"
   ]
  },
  {
   "cell_type": "markdown",
   "id": "4755b41a",
   "metadata": {
    "papermill": {
     "duration": 0.005114,
     "end_time": "2025-06-05T15:42:44.877538",
     "exception": false,
     "start_time": "2025-06-05T15:42:44.872424",
     "status": "completed"
    },
    "tags": []
   },
   "source": [
    "# Data Profiling (Optional, for exploration)"
   ]
  },
  {
   "cell_type": "code",
   "execution_count": 4,
   "id": "7a87253b",
   "metadata": {
    "execution": {
     "iopub.execute_input": "2025-06-05T15:42:44.889642Z",
     "iopub.status.busy": "2025-06-05T15:42:44.889046Z",
     "iopub.status.idle": "2025-06-05T15:42:50.224676Z",
     "shell.execute_reply": "2025-06-05T15:42:50.223883Z"
    },
    "papermill": {
     "duration": 5.343067,
     "end_time": "2025-06-05T15:42:50.225933",
     "exception": false,
     "start_time": "2025-06-05T15:42:44.882866",
     "status": "completed"
    },
    "tags": []
   },
   "outputs": [
    {
     "data": {
      "application/vnd.jupyter.widget-view+json": {
       "model_id": "821b2e1d041c40d7b0cf5d3b6985beeb",
       "version_major": 2,
       "version_minor": 0
      },
      "text/plain": [
       "Summarize dataset:   0%|          | 0/5 [00:00<?, ?it/s]"
      ]
     },
     "metadata": {},
     "output_type": "display_data"
    },
    {
     "name": "stderr",
     "output_type": "stream",
     "text": [
      "\n",
      "  0%|          | 0/4 [00:00<?, ?it/s]\u001b[A\n",
      " 25%|██▌       | 1/4 [00:00<00:00,  9.09it/s]\u001b[A\n",
      " 50%|█████     | 2/4 [00:00<00:00,  4.44it/s]\u001b[A\n",
      "100%|██████████| 4/4 [00:01<00:00,  2.06it/s]\n"
     ]
    },
    {
     "data": {
      "application/vnd.jupyter.widget-view+json": {
       "model_id": "fc730acb85aa47028a412495375e0fdb",
       "version_major": 2,
       "version_minor": 0
      },
      "text/plain": [
       "Generate report structure:   0%|          | 0/1 [00:00<?, ?it/s]"
      ]
     },
     "metadata": {},
     "output_type": "display_data"
    },
    {
     "data": {
      "application/vnd.jupyter.widget-view+json": {
       "model_id": "6c790650951f4e20b02c8fff4112199c",
       "version_major": 2,
       "version_minor": 0
      },
      "text/plain": [
       "Render HTML:   0%|          | 0/1 [00:00<?, ?it/s]"
      ]
     },
     "metadata": {},
     "output_type": "display_data"
    },
    {
     "data": {
      "application/vnd.jupyter.widget-view+json": {
       "model_id": "5c12124227e84828810db7af4e7033e2",
       "version_major": 2,
       "version_minor": 0
      },
      "text/plain": [
       "Export report to file:   0%|          | 0/1 [00:00<?, ?it/s]"
      ]
     },
     "metadata": {},
     "output_type": "display_data"
    },
    {
     "name": "stdout",
     "output_type": "stream",
     "text": [
      "\n",
      "Profile report generated! View it below or download:\n"
     ]
    },
    {
     "data": {
      "text/html": [
       "\n",
       "        <iframe\n",
       "            width=\"1000\"\n",
       "            height=\"600\"\n",
       "            src=\"website_classification_profile.html\"\n",
       "            frameborder=\"0\"\n",
       "            allowfullscreen\n",
       "            \n",
       "        ></iframe>\n",
       "        "
      ],
      "text/plain": [
       "<IPython.lib.display.IFrame at 0x7831cebed210>"
      ]
     },
     "metadata": {},
     "output_type": "display_data"
    },
    {
     "data": {
      "text/html": [
       "<a href='website_classification_profile.html' target='_blank'>website_classification_profile.html</a><br>"
      ],
      "text/plain": [
       "/kaggle/working/website_classification_profile.html"
      ]
     },
     "metadata": {},
     "output_type": "display_data"
    }
   ],
   "source": [
    "profile = ProfileReport(dataset, title=\"Website Classification Report\", explorative=True)\n",
    "profile.to_file(\"website_classification_profile.html\")\n",
    "print(\"\\nProfile report generated! View it below or download:\")\n",
    "display(IFrame(src=\"website_classification_profile.html\", width=1000, height=600))\n",
    "display(FileLink('website_classification_profile.html'))"
   ]
  },
  {
   "cell_type": "markdown",
   "id": "7af89b81",
   "metadata": {
    "papermill": {
     "duration": 0.006479,
     "end_time": "2025-06-05T15:42:50.239827",
     "exception": false,
     "start_time": "2025-06-05T15:42:50.233348",
     "status": "completed"
    },
    "tags": []
   },
   "source": [
    "# Dataset Preprocessing"
   ]
  },
  {
   "cell_type": "code",
   "execution_count": 5,
   "id": "4e9d6c26",
   "metadata": {
    "execution": {
     "iopub.execute_input": "2025-06-05T15:42:50.255165Z",
     "iopub.status.busy": "2025-06-05T15:42:50.254544Z",
     "iopub.status.idle": "2025-06-05T15:42:50.279812Z",
     "shell.execute_reply": "2025-06-05T15:42:50.278846Z"
    },
    "papermill": {
     "duration": 0.034184,
     "end_time": "2025-06-05T15:42:50.281239",
     "exception": false,
     "start_time": "2025-06-05T15:42:50.247055",
     "status": "completed"
    },
    "tags": []
   },
   "outputs": [
    {
     "name": "stdout",
     "output_type": "stream",
     "text": [
      "\n",
      "Null Values: Unnamed: 0              0\n",
      "website_url             0\n",
      "cleaned_website_text    0\n",
      "Category                0\n",
      "dtype: int64\n"
     ]
    }
   ],
   "source": [
    "dataset.drop_duplicates(inplace=True)\n",
    "print(\"\\nNull Values:\", dataset.isnull().sum())"
   ]
  },
  {
   "cell_type": "markdown",
   "id": "1b3f9a8e",
   "metadata": {
    "papermill": {
     "duration": 0.006472,
     "end_time": "2025-06-05T15:42:50.294793",
     "exception": false,
     "start_time": "2025-06-05T15:42:50.288321",
     "status": "completed"
    },
    "tags": []
   },
   "source": [
    "# Prepare Data for ANN"
   ]
  },
  {
   "cell_type": "code",
   "execution_count": 6,
   "id": "339b650a",
   "metadata": {
    "execution": {
     "iopub.execute_input": "2025-06-05T15:42:50.309755Z",
     "iopub.status.busy": "2025-06-05T15:42:50.309116Z",
     "iopub.status.idle": "2025-06-05T15:42:50.313403Z",
     "shell.execute_reply": "2025-06-05T15:42:50.312677Z"
    },
    "papermill": {
     "duration": 0.013101,
     "end_time": "2025-06-05T15:42:50.314655",
     "exception": false,
     "start_time": "2025-06-05T15:42:50.301554",
     "status": "completed"
    },
    "tags": []
   },
   "outputs": [],
   "source": [
    "X = dataset['cleaned_website_text'].values\n",
    "y = dataset['Category'].values"
   ]
  },
  {
   "cell_type": "markdown",
   "id": "0245b50e",
   "metadata": {
    "papermill": {
     "duration": 0.007132,
     "end_time": "2025-06-05T15:42:50.328789",
     "exception": false,
     "start_time": "2025-06-05T15:42:50.321657",
     "status": "completed"
    },
    "tags": []
   },
   "source": [
    "# Encode categorical labels to numeric"
   ]
  },
  {
   "cell_type": "code",
   "execution_count": 7,
   "id": "77f3e63a",
   "metadata": {
    "execution": {
     "iopub.execute_input": "2025-06-05T15:42:50.343815Z",
     "iopub.status.busy": "2025-06-05T15:42:50.343077Z",
     "iopub.status.idle": "2025-06-05T15:42:50.347418Z",
     "shell.execute_reply": "2025-06-05T15:42:50.346722Z"
    },
    "papermill": {
     "duration": 0.013085,
     "end_time": "2025-06-05T15:42:50.348671",
     "exception": false,
     "start_time": "2025-06-05T15:42:50.335586",
     "status": "completed"
    },
    "tags": []
   },
   "outputs": [],
   "source": [
    "le = LabelEncoder()\n",
    "y_encoded = le.fit_transform(y)"
   ]
  },
  {
   "cell_type": "markdown",
   "id": "b1e91279",
   "metadata": {
    "papermill": {
     "duration": 0.006456,
     "end_time": "2025-06-05T15:42:50.362078",
     "exception": false,
     "start_time": "2025-06-05T15:42:50.355622",
     "status": "completed"
    },
    "tags": []
   },
   "source": [
    "# Split data into train and test sets"
   ]
  },
  {
   "cell_type": "code",
   "execution_count": 8,
   "id": "4d869fb3",
   "metadata": {
    "execution": {
     "iopub.execute_input": "2025-06-05T15:42:50.378296Z",
     "iopub.status.busy": "2025-06-05T15:42:50.377643Z",
     "iopub.status.idle": "2025-06-05T15:42:50.382551Z",
     "shell.execute_reply": "2025-06-05T15:42:50.381857Z"
    },
    "papermill": {
     "duration": 0.013765,
     "end_time": "2025-06-05T15:42:50.383790",
     "exception": false,
     "start_time": "2025-06-05T15:42:50.370025",
     "status": "completed"
    },
    "tags": []
   },
   "outputs": [],
   "source": [
    "X_train, X_test, y_train, y_test = train_test_split(X, y_encoded, test_size=0.2, random_state=42)"
   ]
  },
  {
   "cell_type": "markdown",
   "id": "a74167ce",
   "metadata": {
    "papermill": {
     "duration": 0.006585,
     "end_time": "2025-06-05T15:42:50.397296",
     "exception": false,
     "start_time": "2025-06-05T15:42:50.390711",
     "status": "completed"
    },
    "tags": []
   },
   "source": [
    "# Convert text to numeric features using CountVectorizer"
   ]
  },
  {
   "cell_type": "code",
   "execution_count": 9,
   "id": "2ade08e7",
   "metadata": {
    "execution": {
     "iopub.execute_input": "2025-06-05T15:42:50.412402Z",
     "iopub.status.busy": "2025-06-05T15:42:50.411747Z",
     "iopub.status.idle": "2025-06-05T15:42:51.323209Z",
     "shell.execute_reply": "2025-06-05T15:42:51.322402Z"
    },
    "papermill": {
     "duration": 0.920496,
     "end_time": "2025-06-05T15:42:51.324718",
     "exception": false,
     "start_time": "2025-06-05T15:42:50.404222",
     "status": "completed"
    },
    "tags": []
   },
   "outputs": [],
   "source": [
    "cv = CountVectorizer(max_features=5000)  # Limit to 5000 features for efficiency\n",
    "X_train_cv = cv.fit_transform(X_train).toarray()\n",
    "X_test_cv = cv.transform(X_test).toarray()"
   ]
  },
  {
   "cell_type": "markdown",
   "id": "9302c309",
   "metadata": {
    "papermill": {
     "duration": 0.00678,
     "end_time": "2025-06-05T15:42:51.338838",
     "exception": false,
     "start_time": "2025-06-05T15:42:51.332058",
     "status": "completed"
    },
    "tags": []
   },
   "source": [
    "# Convert to PyTorch tensors"
   ]
  },
  {
   "cell_type": "code",
   "execution_count": 10,
   "id": "2165b2b1",
   "metadata": {
    "execution": {
     "iopub.execute_input": "2025-06-05T15:42:51.354081Z",
     "iopub.status.busy": "2025-06-05T15:42:51.353454Z",
     "iopub.status.idle": "2025-06-05T15:42:51.399019Z",
     "shell.execute_reply": "2025-06-05T15:42:51.398244Z"
    },
    "papermill": {
     "duration": 0.054871,
     "end_time": "2025-06-05T15:42:51.400605",
     "exception": false,
     "start_time": "2025-06-05T15:42:51.345734",
     "status": "completed"
    },
    "tags": []
   },
   "outputs": [],
   "source": [
    "X_train_tensor = torch.FloatTensor(X_train_cv)\n",
    "y_train_tensor = torch.LongTensor(y_train)\n",
    "X_test_tensor = torch.FloatTensor(X_test_cv)\n",
    "y_test_tensor = torch.LongTensor(y_test)"
   ]
  },
  {
   "cell_type": "markdown",
   "id": "77a0a341",
   "metadata": {
    "papermill": {
     "duration": 0.006714,
     "end_time": "2025-06-05T15:42:51.414481",
     "exception": false,
     "start_time": "2025-06-05T15:42:51.407767",
     "status": "completed"
    },
    "tags": []
   },
   "source": [
    "# Create DataLoader for batch processing"
   ]
  },
  {
   "cell_type": "code",
   "execution_count": 11,
   "id": "35a92ae7",
   "metadata": {
    "execution": {
     "iopub.execute_input": "2025-06-05T15:42:51.429709Z",
     "iopub.status.busy": "2025-06-05T15:42:51.429408Z",
     "iopub.status.idle": "2025-06-05T15:42:51.436748Z",
     "shell.execute_reply": "2025-06-05T15:42:51.436105Z"
    },
    "papermill": {
     "duration": 0.016402,
     "end_time": "2025-06-05T15:42:51.438126",
     "exception": false,
     "start_time": "2025-06-05T15:42:51.421724",
     "status": "completed"
    },
    "tags": []
   },
   "outputs": [],
   "source": [
    "train_dataset = TensorDataset(X_train_tensor, y_train_tensor)\n",
    "test_dataset = TensorDataset(X_test_tensor, y_test_tensor)\n",
    "train_loader = DataLoader(train_dataset, batch_size=32, shuffle=True)\n",
    "test_loader = DataLoader(test_dataset, batch_size=32, shuffle=False)"
   ]
  },
  {
   "cell_type": "markdown",
   "id": "d62ac0d9",
   "metadata": {
    "papermill": {
     "duration": 0.00664,
     "end_time": "2025-06-05T15:42:51.451656",
     "exception": false,
     "start_time": "2025-06-05T15:42:51.445016",
     "status": "completed"
    },
    "tags": []
   },
   "source": [
    "# Define PyTorch ANN Model "
   ]
  },
  {
   "cell_type": "code",
   "execution_count": 12,
   "id": "27510058",
   "metadata": {
    "execution": {
     "iopub.execute_input": "2025-06-05T15:42:51.466572Z",
     "iopub.status.busy": "2025-06-05T15:42:51.466278Z",
     "iopub.status.idle": "2025-06-05T15:42:51.472964Z",
     "shell.execute_reply": "2025-06-05T15:42:51.472139Z"
    },
    "papermill": {
     "duration": 0.015973,
     "end_time": "2025-06-05T15:42:51.474411",
     "exception": false,
     "start_time": "2025-06-05T15:42:51.458438",
     "status": "completed"
    },
    "tags": []
   },
   "outputs": [],
   "source": [
    "import torch.nn as nn\n",
    "\n",
    "class WebsiteClassifier(nn.Module):\n",
    "    def __init__(self, input_size, hidden_size, num_classes):\n",
    "        super(WebsiteClassifier, self).__init__()\n",
    "        self.layer1 = nn.Linear(input_size, 1024)\n",
    "        self.bn1 = nn.BatchNorm1d(1024)\n",
    "        self.leaky_relu = nn.LeakyReLU(negative_slope=0.01)  # Default slope is 0.01\n",
    "        self.dropout = nn.Dropout(0.2)\n",
    "        self.layer2 = nn.Linear(1024, 256)\n",
    "        self.bn2 = nn.BatchNorm1d(256)\n",
    "        self.layer3 = nn.Linear(256, num_classes)\n",
    "    \n",
    "    def forward(self, x):\n",
    "        x = self.layer1(x)\n",
    "        x = self.bn1(x)\n",
    "        x = self.leaky_relu(x)\n",
    "        x = self.dropout(x)\n",
    "        x = self.layer2(x)\n",
    "        x = self.bn2(x)\n",
    "        x = self.leaky_relu(x)\n",
    "        x = self.dropout(x)\n",
    "        x = self.layer3(x)\n",
    "        return x"
   ]
  },
  {
   "cell_type": "markdown",
   "id": "22d9c859",
   "metadata": {
    "papermill": {
     "duration": 0.006471,
     "end_time": "2025-06-05T15:42:51.487800",
     "exception": false,
     "start_time": "2025-06-05T15:42:51.481329",
     "status": "completed"
    },
    "tags": []
   },
   "source": [
    "# Initialize Model"
   ]
  },
  {
   "cell_type": "code",
   "execution_count": 13,
   "id": "1f2398f4",
   "metadata": {
    "execution": {
     "iopub.execute_input": "2025-06-05T15:42:51.502425Z",
     "iopub.status.busy": "2025-06-05T15:42:51.502118Z",
     "iopub.status.idle": "2025-06-05T15:42:51.581523Z",
     "shell.execute_reply": "2025-06-05T15:42:51.580683Z"
    },
    "papermill": {
     "duration": 0.088484,
     "end_time": "2025-06-05T15:42:51.583018",
     "exception": false,
     "start_time": "2025-06-05T15:42:51.494534",
     "status": "completed"
    },
    "tags": []
   },
   "outputs": [],
   "source": [
    "input_size = X_train_cv.shape[1]  # Number of features from CountVectorizer\n",
    "hidden_size = 512 \n",
    "num_classes = len(le.classes_)  # Number of unique categories (16)\n",
    "model = WebsiteClassifier(input_size, hidden_size, num_classes)"
   ]
  },
  {
   "cell_type": "markdown",
   "id": "9f4e442e",
   "metadata": {
    "papermill": {
     "duration": 0.00665,
     "end_time": "2025-06-05T15:42:51.596853",
     "exception": false,
     "start_time": "2025-06-05T15:42:51.590203",
     "status": "completed"
    },
    "tags": []
   },
   "source": [
    "# Loss and Optimizer"
   ]
  },
  {
   "cell_type": "code",
   "execution_count": 14,
   "id": "6ea5c064",
   "metadata": {
    "execution": {
     "iopub.execute_input": "2025-06-05T15:42:51.612095Z",
     "iopub.status.busy": "2025-06-05T15:42:51.611372Z",
     "iopub.status.idle": "2025-06-05T15:42:57.183341Z",
     "shell.execute_reply": "2025-06-05T15:42:57.182611Z"
    },
    "papermill": {
     "duration": 5.581167,
     "end_time": "2025-06-05T15:42:57.184846",
     "exception": false,
     "start_time": "2025-06-05T15:42:51.603679",
     "status": "completed"
    },
    "tags": []
   },
   "outputs": [],
   "source": [
    "criterion = nn.CrossEntropyLoss()\n",
    "optimizer = optim.SGD(model.parameters(), lr=0.01)  # Adjusted lr for text data"
   ]
  },
  {
   "cell_type": "markdown",
   "id": "d6335f5e",
   "metadata": {
    "papermill": {
     "duration": 0.006558,
     "end_time": "2025-06-05T15:42:57.198499",
     "exception": false,
     "start_time": "2025-06-05T15:42:57.191941",
     "status": "completed"
    },
    "tags": []
   },
   "source": [
    "# Training Loop"
   ]
  },
  {
   "cell_type": "code",
   "execution_count": 15,
   "id": "5bff2aae",
   "metadata": {
    "execution": {
     "iopub.execute_input": "2025-06-05T15:42:57.213927Z",
     "iopub.status.busy": "2025-06-05T15:42:57.212989Z",
     "iopub.status.idle": "2025-06-05T15:43:16.119546Z",
     "shell.execute_reply": "2025-06-05T15:43:16.118720Z"
    },
    "papermill": {
     "duration": 18.915941,
     "end_time": "2025-06-05T15:43:16.121264",
     "exception": false,
     "start_time": "2025-06-05T15:42:57.205323",
     "status": "completed"
    },
    "tags": []
   },
   "outputs": [
    {
     "name": "stdout",
     "output_type": "stream",
     "text": [
      "\n",
      "Training on cpu\n",
      "Epoch [10/50], Loss: 0.5010\n",
      "Epoch [20/50], Loss: 0.2549\n",
      "Epoch [30/50], Loss: 0.1740\n",
      "Epoch [40/50], Loss: 0.1397\n",
      "Epoch [50/50], Loss: 0.1241\n"
     ]
    }
   ],
   "source": [
    "import torch\n",
    "import torch.nn as nn\n",
    "import torch.optim as optim\n",
    "\n",
    "# criterion = nn.CrossEntropyLoss()\n",
    "# optimizer = optim.Adam(model.parameters(), lr=0.01)  # Changed to Adam optimizer\n",
    "num_epochs = 50\n",
    "device = torch.device('cuda' if torch.cuda.is_available() else 'cpu')\n",
    "model.to(device)\n",
    "print(f\"\\nTraining on {device}\")\n",
    "\n",
    "for epoch in range(num_epochs):\n",
    "    model.train()\n",
    "    total_loss = 0\n",
    "    for data, labels in train_loader:\n",
    "        data, labels = data.to(device), labels.to(device)\n",
    "        optimizer.zero_grad()\n",
    "        outputs = model(data)\n",
    "        loss = criterion(outputs, labels)\n",
    "        loss.backward()\n",
    "        optimizer.step()\n",
    "        total_loss += loss.item()\n",
    "    if (epoch + 1) % 10 == 0:\n",
    "        print(f'Epoch [{epoch+1}/{num_epochs}], Loss: {total_loss/len(train_loader):.4f}')"
   ]
  },
  {
   "cell_type": "markdown",
   "id": "3f5d214f",
   "metadata": {
    "papermill": {
     "duration": 0.006794,
     "end_time": "2025-06-05T15:43:16.135427",
     "exception": false,
     "start_time": "2025-06-05T15:43:16.128633",
     "status": "completed"
    },
    "tags": []
   },
   "source": [
    "# Evaluate Model"
   ]
  },
  {
   "cell_type": "code",
   "execution_count": 16,
   "id": "dab9d714",
   "metadata": {
    "execution": {
     "iopub.execute_input": "2025-06-05T15:43:16.151168Z",
     "iopub.status.busy": "2025-06-05T15:43:16.150462Z",
     "iopub.status.idle": "2025-06-05T15:43:16.227736Z",
     "shell.execute_reply": "2025-06-05T15:43:16.226674Z"
    },
    "papermill": {
     "duration": 0.087016,
     "end_time": "2025-06-05T15:43:16.229342",
     "exception": false,
     "start_time": "2025-06-05T15:43:16.142326",
     "status": "completed"
    },
    "tags": []
   },
   "outputs": [
    {
     "name": "stdout",
     "output_type": "stream",
     "text": [
      "\n",
      "Test Accuracy: 85.82%\n"
     ]
    }
   ],
   "source": [
    "model.eval()\n",
    "correct = 0\n",
    "total = 0\n",
    "y_pred = []\n",
    "y_true = []\n",
    "with torch.no_grad():\n",
    "    for data, labels in test_loader:\n",
    "        data, labels = data.to(device), labels.to(device)\n",
    "        outputs = model(data)\n",
    "        _, predicted = torch.max(outputs, 1)\n",
    "        total += labels.size(0)\n",
    "        correct += (predicted == labels).sum().item()\n",
    "        y_pred.extend(predicted.cpu().numpy())\n",
    "        y_true.extend(labels.cpu().numpy())\n",
    "\n",
    "accuracy = 100 * correct / total\n",
    "print(f'\\nTest Accuracy: {accuracy:.2f}%')"
   ]
  },
  {
   "cell_type": "markdown",
   "id": "f343ab3a",
   "metadata": {
    "papermill": {
     "duration": 0.008194,
     "end_time": "2025-06-05T15:43:16.244831",
     "exception": false,
     "start_time": "2025-06-05T15:43:16.236637",
     "status": "completed"
    },
    "tags": []
   },
   "source": [
    "# Classification Report"
   ]
  },
  {
   "cell_type": "code",
   "execution_count": 17,
   "id": "447e373b",
   "metadata": {
    "execution": {
     "iopub.execute_input": "2025-06-05T15:43:16.260161Z",
     "iopub.status.busy": "2025-06-05T15:43:16.259847Z",
     "iopub.status.idle": "2025-06-05T15:43:16.275894Z",
     "shell.execute_reply": "2025-06-05T15:43:16.274705Z"
    },
    "papermill": {
     "duration": 0.025402,
     "end_time": "2025-06-05T15:43:16.277288",
     "exception": false,
     "start_time": "2025-06-05T15:43:16.251886",
     "status": "completed"
    },
    "tags": []
   },
   "outputs": [
    {
     "name": "stdout",
     "output_type": "stream",
     "text": [
      "\n",
      "Classification Report:\n",
      "                                 precision    recall  f1-score   support\n",
      "\n",
      "                          Adult       0.00      0.00      0.00         4\n",
      "             Business/Corporate       0.70      0.82      0.76        17\n",
      "       Computers and Technology       0.74      0.74      0.74        19\n",
      "                     E-Commerce       0.91      0.91      0.91        22\n",
      "                      Education       1.00      0.81      0.90        27\n",
      "                           Food       0.94      0.88      0.91        17\n",
      "                         Forums       0.00      0.00      0.00         2\n",
      "                          Games       0.95      0.86      0.90        22\n",
      "             Health and Fitness       0.81      1.00      0.90        13\n",
      "             Law and Government       1.00      0.96      0.98        23\n",
      "                           News       0.84      0.89      0.86        18\n",
      "                    Photography       0.90      0.90      0.90        20\n",
      "Social Networking and Messaging       0.93      0.72      0.81        18\n",
      "                         Sports       0.95      0.91      0.93        23\n",
      "             Streaming Services       0.53      0.94      0.68        18\n",
      "                         Travel       1.00      0.95      0.97        19\n",
      "\n",
      "                       accuracy                           0.86       282\n",
      "                      macro avg       0.76      0.77      0.76       282\n",
      "                   weighted avg       0.86      0.86      0.85       282\n",
      "\n"
     ]
    },
    {
     "name": "stderr",
     "output_type": "stream",
     "text": [
      "/usr/local/lib/python3.11/dist-packages/sklearn/metrics/_classification.py:1344: UndefinedMetricWarning: Precision and F-score are ill-defined and being set to 0.0 in labels with no predicted samples. Use `zero_division` parameter to control this behavior.\n",
      "  _warn_prf(average, modifier, msg_start, len(result))\n",
      "/usr/local/lib/python3.11/dist-packages/sklearn/metrics/_classification.py:1344: UndefinedMetricWarning: Precision and F-score are ill-defined and being set to 0.0 in labels with no predicted samples. Use `zero_division` parameter to control this behavior.\n",
      "  _warn_prf(average, modifier, msg_start, len(result))\n",
      "/usr/local/lib/python3.11/dist-packages/sklearn/metrics/_classification.py:1344: UndefinedMetricWarning: Precision and F-score are ill-defined and being set to 0.0 in labels with no predicted samples. Use `zero_division` parameter to control this behavior.\n",
      "  _warn_prf(average, modifier, msg_start, len(result))\n"
     ]
    }
   ],
   "source": [
    "print(\"\\nClassification Report:\")\n",
    "print(classification_report(y_true, y_pred, target_names=le.classes_))"
   ]
  },
  {
   "cell_type": "markdown",
   "id": "b7255b7c",
   "metadata": {
    "papermill": {
     "duration": 0.007211,
     "end_time": "2025-06-05T15:43:16.350962",
     "exception": false,
     "start_time": "2025-06-05T15:43:16.343751",
     "status": "completed"
    },
    "tags": []
   },
   "source": [
    "# Confusion Matrix Visualization"
   ]
  },
  {
   "cell_type": "code",
   "execution_count": 18,
   "id": "242fcbcd",
   "metadata": {
    "execution": {
     "iopub.execute_input": "2025-06-05T15:43:16.366831Z",
     "iopub.status.busy": "2025-06-05T15:43:16.366533Z",
     "iopub.status.idle": "2025-06-05T15:43:17.099967Z",
     "shell.execute_reply": "2025-06-05T15:43:17.099144Z"
    },
    "papermill": {
     "duration": 0.743914,
     "end_time": "2025-06-05T15:43:17.102190",
     "exception": false,
     "start_time": "2025-06-05T15:43:16.358276",
     "status": "completed"
    },
    "tags": []
   },
   "outputs": [
    {
     "data": {
      "image/png": "[encoded data removed]",
      "text/plain": [
       "<Figure size 1000x800 with 2 Axes>"
      ]
     },
     "metadata": {},
     "output_type": "display_data"
    }
   ],
   "source": [
    "cm = confusion_matrix(y_true, y_pred)\n",
    "plt.figure(figsize=(10, 8))\n",
    "sns.heatmap(cm, annot=True, fmt='d', cmap='Blues', xticklabels=le.classes_, yticklabels=le.classes_)\n",
    "plt.xlabel('Predicted')\n",
    "plt.ylabel('True')\n",
    "plt.title('Confusion Matrix')\n",
    "plt.show()"
   ]
  },
  {
   "cell_type": "markdown",
   "id": "e6b2625b",
   "metadata": {
    "papermill": {
     "duration": 0.008584,
     "end_time": "2025-06-05T15:43:17.120151",
     "exception": false,
     "start_time": "2025-06-05T15:43:17.111567",
     "status": "completed"
    },
    "tags": []
   },
   "source": [
    "# Real-Time Testing"
   ]
  },
  {
   "cell_type": "code",
   "execution_count": 19,
   "id": "10f80a7c",
   "metadata": {
    "execution": {
     "iopub.execute_input": "2025-06-05T15:43:17.139328Z",
     "iopub.status.busy": "2025-06-05T15:43:17.138672Z",
     "iopub.status.idle": "2025-06-05T15:43:17.151775Z",
     "shell.execute_reply": "2025-06-05T15:43:17.150860Z"
    },
    "papermill": {
     "duration": 0.024181,
     "end_time": "2025-06-05T15:43:17.153069",
     "exception": false,
     "start_time": "2025-06-05T15:43:17.128888",
     "status": "completed"
    },
    "tags": []
   },
   "outputs": [
    {
     "name": "stdout",
     "output_type": "stream",
     "text": [
      "\n",
      "Predictions for Test Cases:\n",
      "Text: Bangladesh have been the perennial underdogs in In... \n",
      "Predicted Category: Streaming Services\n",
      "\n",
      "Text: Naive Bayes classifiers are supervised machine lea... \n",
      "Predicted Category: Streaming Services\n",
      "\n",
      "Text: Would you like millions of new customers to enjoy ... \n",
      "Predicted Category: Streaming Services\n",
      "\n"
     ]
    }
   ],
   "source": [
    "testcase = [\n",
    "    \"Bangladesh have been the perennial underdogs in International cricket, but somehow seem to always compete hard at the upper echelons of the sport. The team have been on a patchy record of late. In their recent tour of the West Indies, they drew the Test series 1-1, then were whitewashed in the three ODI contests, but came back to win the T20I series 3-0.\",\n",
    "    \"Naive Bayes classifiers are supervised machine learning algorithms used for classification tasks, based on Bayes’ Theorem to find probabilities. This article will give you an overview as well as more advanced use and implementation of Naive Bayes in machine learning.\",\n",
    "    \"Would you like millions of new customers to enjoy your amazing food and groceries? So would we! It's simple: we list your menu and product lists online, help you process orders, pick them up, and deliver them to hungry pandas – in a heartbeat! Interested? Let's start our partnership today!\"\n",
    "]\n",
    "testcase_cv = cv.transform(testcase).toarray()\n",
    "testcase_tensor = torch.FloatTensor(testcase_cv).to(device)\n",
    "model.eval()\n",
    "with torch.no_grad():\n",
    "    outputs = model(testcase_tensor)\n",
    "    _, predicted = torch.max(outputs, 1)\n",
    "    predicted_labels = le.inverse_transform(predicted.cpu().numpy())\n",
    "print(\"\\nPredictions for Test Cases:\")\n",
    "for text, label in zip(testcase, predicted_labels):\n",
    "    print(f\"Text: {text[:50]}... \\nPredicted Category: {label}\\n\")"
   ]
  },
  {
   "cell_type": "code",
   "execution_count": null,
   "id": "38550abf",
   "metadata": {
    "papermill": {
     "duration": 0.008635,
     "end_time": "2025-06-05T15:43:17.170995",
     "exception": false,
     "start_time": "2025-06-05T15:43:17.162360",
     "status": "completed"
    },
    "tags": []
   },
   "outputs": [],
   "source": []
  }
 ],
 "metadata": {
  "kaggle": {
   "accelerator": "none",
   "dataSources": [
    {
     "datasetId": 1317934,
     "sourceId": 2194939,
     "sourceType": "datasetVersion"
    }
   ],
   "dockerImageVersionId": 31040,
   "isGpuEnabled": false,
   "isInternetEnabled": true,
   "language": "python",
   "sourceType": "notebook"
  },
  "kernelspec": {
   "display_name": "Python 3",
   "language": "python",
   "name": "python3"
  },
  "language_info": {
   "codemirror_mode": {
    "name": "ipython",
    "version": 3
   },
   "file_extension": ".py",
   "mimetype": "text/x-python",
   "name": "python",
   "nbconvert_exporter": "python",
   "pygments_lexer": "ipython3",
   "version": "3.11.11"
  },
  "papermill": {
   "default_parameters": {},
   "duration": 54.13009,
   "end_time": "2025-06-05T15:43:20.099224",
   "environment_variables": {},
   "exception": null,
   "input_path": "__notebook__.ipynb",
   "output_path": "__notebook__.ipynb",
   "parameters": {},
   "start_time": "2025-06-05T15:42:25.969134",
   "version": "2.6.0"
  },
  "widgets": {
   "application/vnd.jupyter.widget-state+json": {
    "state": {
     "1113fa61a9eb4d7d8676c776fea26ec7": {
      "model_module": "@jupyter-widgets/controls",
      "model_module_version": "2.0.0",
      "model_name": "ProgressStyleModel",
      "state": {
       "_model_module": "@jupyter-widgets/controls",
       "_model_module_version": "2.0.0",
       "_model_name": "ProgressStyleModel",
       "_view_count": null,
       "_view_module": "@jupyter-widgets/base",
       "_view_module_version": "2.0.0",
       "_view_name": "StyleView",
       "bar_color": null,
       "description_width": ""
      }
     },
     "121813ed2b3746b8977a06901a54b0e3": {
      "model_module": "@jupyter-widgets/base",
      "model_module_version": "2.0.0",
      "model_name": "LayoutModel",
      "state": {
       "_model_module": "@jupyter-widgets/base",
       "_model_module_version": "2.0.0",
       "_model_name": "LayoutModel",
       "_view_count": null,
       "_view_module": "@jupyter-widgets/base",
       "_view_module_version": "2.0.0",
       "_view_name": "LayoutView",
       "align_content": null,
       "align_items": null,
       "align_self": null,
       "border_bottom": null,
       "border_left": null,
       "border_right": null,
       "border_top": null,
       "bottom": null,
       "display": null,
       "flex": null,
       "flex_flow": null,
       "grid_area": null,
       "grid_auto_columns": null,
       "grid_auto_flow": null,
       "grid_auto_rows": null,
       "grid_column": null,
       "grid_gap": null,
       "grid_row": null,
       "grid_template_areas": null,
       "grid_template_columns": null,
       "grid_template_rows": null,
       "height": null,
       "justify_content": null,
       "justify_items": null,
       "left": null,
       "margin": null,
       "max_height": null,
       "max_width": null,
       "min_height": null,
       "min_width": null,
       "object_fit": null,
       "object_position": null,
       "order": null,
       "overflow": null,
       "padding": null,
       "right": null,
       "top": null,
       "visibility": null,
       "width": null
      }
     },
     "13eb874c63874cfca8428cde170b6f1b": {
      "model_module": "@jupyter-widgets/controls",
      "model_module_version": "2.0.0",
      "model_name": "HTMLModel",
      "state": {
       "_dom_classes": [],
       "_model_module": "@jupyter-widgets/controls",
       "_model_module_version": "2.0.0",
       "_model_name": "HTMLModel",
       "_view_count": null,
       "_view_module": "@jupyter-widgets/controls",
       "_view_module_version": "2.0.0",
       "_view_name": "HTMLView",
       "description": "",
       "description_allow_html": false,
       "layout": "IPY_MODEL_ddd91b4ccabd46be8d548891aed7a021",
       "placeholder": "​",
       "style": "IPY_MODEL_b350c915745744d3842b53dcca59c366",
       "tabbable": null,
       "tooltip": null,
       "value": "Render HTML: 100%"
      }
     },
     "1bca2d773cf3468a9d6bf9a4b1b61d7b": {
      "model_module": "@jupyter-widgets/controls",
      "model_module_version": "2.0.0",
      "model_name": "HTMLStyleModel",
      "state": {
       "_model_module": "@jupyter-widgets/controls",
       "_model_module_version": "2.0.0",
       "_model_name": "HTMLStyleModel",
       "_view_count": null,
       "_view_module": "@jupyter-widgets/base",
       "_view_module_version": "2.0.0",
       "_view_name": "StyleView",
       "background": null,
       "description_width": "",
       "font_size": null,
       "text_color": null
      }
     },
     "2565ad295b194d5db7ba0fa34fb417f8": {
      "model_module": "@jupyter-widgets/base",
      "model_module_version": "2.0.0",
      "model_name": "LayoutModel",
      "state": {
       "_model_module": "@jupyter-widgets/base",
       "_model_module_version": "2.0.0",
       "_model_name": "LayoutModel",
       "_view_count": null,
       "_view_module": "@jupyter-widgets/base",
       "_view_module_version": "2.0.0",
       "_view_name": "LayoutView",
       "align_content": null,
       "align_items": null,
       "align_self": null,
       "border_bottom": null,
       "border_left": null,
       "border_right": null,
       "border_top": null,
       "bottom": null,
       "display": null,
       "flex": null,
       "flex_flow": null,
       "grid_area": null,
       "grid_auto_columns": null,
       "grid_auto_flow": null,
       "grid_auto_rows": null,
       "grid_column": null,
       "grid_gap": null,
       "grid_row": null,
       "grid_template_areas": null,
       "grid_template_columns": null,
       "grid_template_rows": null,
       "height": null,
       "justify_content": null,
       "justify_items": null,
       "left": null,
       "margin": null,
       "max_height": null,
       "max_width": null,
       "min_height": null,
       "min_width": null,
       "object_fit": null,
       "object_position": null,
       "order": null,
       "overflow": null,
       "padding": null,
       "right": null,
       "top": null,
       "visibility": null,
       "width": null
      }
     },
     "25c65e55dea0419f81ba46f7aa63f87d": {
      "model_module": "@jupyter-widgets/base",
      "model_module_version": "2.0.0",
      "model_name": "LayoutModel",
      "state": {
       "_model_module": "@jupyter-widgets/base",
       "_model_module_version": "2.0.0",
       "_model_name": "LayoutModel",
       "_view_count": null,
       "_view_module": "@jupyter-widgets/base",
       "_view_module_version": "2.0.0",
       "_view_name": "LayoutView",
       "align_content": null,
       "align_items": null,
       "align_self": null,
       "border_bottom": null,
       "border_left": null,
       "border_right": null,
       "border_top": null,
       "bottom": null,
       "display": null,
       "flex": null,
       "flex_flow": null,
       "grid_area": null,
       "grid_auto_columns": null,
       "grid_auto_flow": null,
       "grid_auto_rows": null,
       "grid_column": null,
       "grid_gap": null,
       "grid_row": null,
       "grid_template_areas": null,
       "grid_template_columns": null,
       "grid_template_rows": null,
       "height": null,
       "justify_content": null,
       "justify_items": null,
       "left": null,
       "margin": null,
       "max_height": null,
       "max_width": null,
       "min_height": null,
       "min_width": null,
       "object_fit": null,
       "object_position": null,
       "order": null,
       "overflow": null,
       "padding": null,
       "right": null,
       "top": null,
       "visibility": null,
       "width": null
      }
     },
     "346784210d324cd5a8f49e5101d4ba67": {
      "model_module": "@jupyter-widgets/controls",
      "model_module_version": "2.0.0",
      "model_name": "ProgressStyleModel",
      "state": {
       "_model_module": "@jupyter-widgets/controls",
       "_model_module_version": "2.0.0",
       "_model_name": "ProgressStyleModel",
       "_view_count": null,
       "_view_module": "@jupyter-widgets/base",
       "_view_module_version": "2.0.0",
       "_view_name": "StyleView",
       "bar_color": null,
       "description_width": ""
      }
     },
     "3512741dd5534216ae0a5d51d18497e0": {
      "model_module": "@jupyter-widgets/controls",
      "model_module_version": "2.0.0",
      "model_name": "HTMLModel",
      "state": {
       "_dom_classes": [],
       "_model_module": "@jupyter-widgets/controls",
       "_model_module_version": "2.0.0",
       "_model_name": "HTMLModel",
       "_view_count": null,
       "_view_module": "@jupyter-widgets/controls",
       "_view_module_version": "2.0.0",
       "_view_name": "HTMLView",
       "description": "",
       "description_allow_html": false,
       "layout": "IPY_MODEL_121813ed2b3746b8977a06901a54b0e3",
       "placeholder": "​",
       "style": "IPY_MODEL_d0a961dffd1049f996bf9a94894ca8e4",
       "tabbable": null,
       "tooltip": null,
       "value": "Summarize dataset: 100%"
      }
     },
     "3ec9d3229dc04c21b3cd8cfe64414a53": {
      "model_module": "@jupyter-widgets/controls",
      "model_module_version": "2.0.0",
      "model_name": "HTMLModel",
      "state": {
       "_dom_classes": [],
       "_model_module": "@jupyter-widgets/controls",
       "_model_module_version": "2.0.0",
       "_model_name": "HTMLModel",
       "_view_count": null,
       "_view_module": "@jupyter-widgets/controls",
       "_view_module_version": "2.0.0",
       "_view_name": "HTMLView",
       "description": "",
       "description_allow_html": false,
       "layout": "IPY_MODEL_a92e0818ad7c472083204932c7b92cfd",
       "placeholder": "​",
       "style": "IPY_MODEL_95926e8e41104ea288fe4bd179c08524",
       "tabbable": null,
       "tooltip": null,
       "value": "Generate report structure: 100%"
      }
     },
     "43d8ea313ffd43948dfe24104d7ba2ad": {
      "model_module": "@jupyter-widgets/controls",
      "model_module_version": "2.0.0",
      "model_name": "HTMLStyleModel",
      "state": {
       "_model_module": "@jupyter-widgets/controls",
       "_model_module_version": "2.0.0",
       "_model_name": "HTMLStyleModel",
       "_view_count": null,
       "_view_module": "@jupyter-widgets/base",
       "_view_module_version": "2.0.0",
       "_view_name": "StyleView",
       "background": null,
       "description_width": "",
       "font_size": null,
       "text_color": null
      }
     },
     "44de22a5332545848c9b4b76f1f5f8fa": {
      "model_module": "@jupyter-widgets/controls",
      "model_module_version": "2.0.0",
      "model_name": "ProgressStyleModel",
      "state": {
       "_model_module": "@jupyter-widgets/controls",
       "_model_module_version": "2.0.0",
       "_model_name": "ProgressStyleModel",
       "_view_count": null,
       "_view_module": "@jupyter-widgets/base",
       "_view_module_version": "2.0.0",
       "_view_name": "StyleView",
       "bar_color": null,
       "description_width": ""
      }
     },
     "48567dd2506f4778ba70f6ff2134be41": {
      "model_module": "@jupyter-widgets/controls",
      "model_module_version": "2.0.0",
      "model_name": "FloatProgressModel",
      "state": {
       "_dom_classes": [],
       "_model_module": "@jupyter-widgets/controls",
       "_model_module_version": "2.0.0",
       "_model_name": "FloatProgressModel",
       "_view_count": null,
       "_view_module": "@jupyter-widgets/controls",
       "_view_module_version": "2.0.0",
       "_view_name": "ProgressView",
       "bar_style": "success",
       "description": "",
       "description_allow_html": false,
       "layout": "IPY_MODEL_2565ad295b194d5db7ba0fa34fb417f8",
       "max": 1.0,
       "min": 0.0,
       "orientation": "horizontal",
       "style": "IPY_MODEL_9882d78b4efe4d2e88a9a8def20a9611",
       "tabbable": null,
       "tooltip": null,
       "value": 1.0
      }
     },
     "4d3fb70a2d474bf2a485c9efeb500f7e": {
      "model_module": "@jupyter-widgets/controls",
      "model_module_version": "2.0.0",
      "model_name": "HTMLModel",
      "state": {
       "_dom_classes": [],
       "_model_module": "@jupyter-widgets/controls",
       "_model_module_version": "2.0.0",
       "_model_name": "HTMLModel",
       "_view_count": null,
       "_view_module": "@jupyter-widgets/controls",
       "_view_module_version": "2.0.0",
       "_view_name": "HTMLView",
       "description": "",
       "description_allow_html": false,
       "layout": "IPY_MODEL_8f2e2e650c0246739368d2dd783d2557",
       "placeholder": "​",
       "style": "IPY_MODEL_1bca2d773cf3468a9d6bf9a4b1b61d7b",
       "tabbable": null,
       "tooltip": null,
       "value": " 1/1 [00:00&lt;00:00,  2.71it/s]"
      }
     },
     "4d7f786d05d84bb6808963b78a22cc15": {
      "model_module": "@jupyter-widgets/controls",
      "model_module_version": "2.0.0",
      "model_name": "HTMLStyleModel",
      "state": {
       "_model_module": "@jupyter-widgets/controls",
       "_model_module_version": "2.0.0",
       "_model_name": "HTMLStyleModel",
       "_view_count": null,
       "_view_module": "@jupyter-widgets/base",
       "_view_module_version": "2.0.0",
       "_view_name": "StyleView",
       "background": null,
       "description_width": "",
       "font_size": null,
       "text_color": null
      }
     },
     "4e217d7605a74e39ac7993ffd48823a2": {
      "model_module": "@jupyter-widgets/base",
      "model_module_version": "2.0.0",
      "model_name": "LayoutModel",
      "state": {
       "_model_module": "@jupyter-widgets/base",
       "_model_module_version": "2.0.0",
       "_model_name": "LayoutModel",
       "_view_count": null,
       "_view_module": "@jupyter-widgets/base",
       "_view_module_version": "2.0.0",
       "_view_name": "LayoutView",
       "align_content": null,
       "align_items": null,
       "align_self": null,
       "border_bottom": null,
       "border_left": null,
       "border_right": null,
       "border_top": null,
       "bottom": null,
       "display": null,
       "flex": null,
       "flex_flow": null,
       "grid_area": null,
       "grid_auto_columns": null,
       "grid_auto_flow": null,
       "grid_auto_rows": null,
       "grid_column": null,
       "grid_gap": null,
       "grid_row": null,
       "grid_template_areas": null,
       "grid_template_columns": null,
       "grid_template_rows": null,
       "height": null,
       "justify_content": null,
       "justify_items": null,
       "left": null,
       "margin": null,
       "max_height": null,
       "max_width": null,
       "min_height": null,
       "min_width": null,
       "object_fit": null,
       "object_position": null,
       "order": null,
       "overflow": null,
       "padding": null,
       "right": null,
       "top": null,
       "visibility": null,
       "width": null
      }
     },
     "5865fdf808284412962089dc287d088e": {
      "model_module": "@jupyter-widgets/controls",
      "model_module_version": "2.0.0",
      "model_name": "HTMLStyleModel",
      "state": {
       "_model_module": "@jupyter-widgets/controls",
       "_model_module_version": "2.0.0",
       "_model_name": "HTMLStyleModel",
       "_view_count": null,
       "_view_module": "@jupyter-widgets/base",
       "_view_module_version": "2.0.0",
       "_view_name": "StyleView",
       "background": null,
       "description_width": "",
       "font_size": null,
       "text_color": null
      }
     },
     "59c6b2c758b14cd1aa12c8c181ebbf74": {
      "model_module": "@jupyter-widgets/controls",
      "model_module_version": "2.0.0",
      "model_name": "FloatProgressModel",
      "state": {
       "_dom_classes": [],
       "_model_module": "@jupyter-widgets/controls",
       "_model_module_version": "2.0.0",
       "_model_name": "FloatProgressModel",
       "_view_count": null,
       "_view_module": "@jupyter-widgets/controls",
       "_view_module_version": "2.0.0",
       "_view_name": "ProgressView",
       "bar_style": "success",
       "description": "",
       "description_allow_html": false,
       "layout": "IPY_MODEL_d89f6fc39f0b4987858fdafdb4637eda",
       "max": 1.0,
       "min": 0.0,
       "orientation": "horizontal",
       "style": "IPY_MODEL_1113fa61a9eb4d7d8676c776fea26ec7",
       "tabbable": null,
       "tooltip": null,
       "value": 1.0
      }
     },
     "5b05126e723f4fd1b7eb1d421c855ab3": {
      "model_module": "@jupyter-widgets/controls",
      "model_module_version": "2.0.0",
      "model_name": "FloatProgressModel",
      "state": {
       "_dom_classes": [],
       "_model_module": "@jupyter-widgets/controls",
       "_model_module_version": "2.0.0",
       "_model_name": "FloatProgressModel",
       "_view_count": null,
       "_view_module": "@jupyter-widgets/controls",
       "_view_module_version": "2.0.0",
       "_view_name": "ProgressView",
       "bar_style": "success",
       "description": "",
       "description_allow_html": false,
       "layout": "IPY_MODEL_e5e078f5a88d45f09a59dc51be2c3b4d",
       "max": 5.0,
       "min": 0.0,
       "orientation": "horizontal",
       "style": "IPY_MODEL_346784210d324cd5a8f49e5101d4ba67",
       "tabbable": null,
       "tooltip": null,
       "value": 5.0
      }
     },
     "5b43a00db18340fd9d7d46be7a9572c6": {
      "model_module": "@jupyter-widgets/controls",
      "model_module_version": "2.0.0",
      "model_name": "HTMLStyleModel",
      "state": {
       "_model_module": "@jupyter-widgets/controls",
       "_model_module_version": "2.0.0",
       "_model_name": "HTMLStyleModel",
       "_view_count": null,
       "_view_module": "@jupyter-widgets/base",
       "_view_module_version": "2.0.0",
       "_view_name": "StyleView",
       "background": null,
       "description_width": "",
       "font_size": null,
       "text_color": null
      }
     },
     "5c12124227e84828810db7af4e7033e2": {
      "model_module": "@jupyter-widgets/controls",
      "model_module_version": "2.0.0",
      "model_name": "HBoxModel",
      "state": {
       "_dom_classes": [],
       "_model_module": "@jupyter-widgets/controls",
       "_model_module_version": "2.0.0",
       "_model_name": "HBoxModel",
       "_view_count": null,
       "_view_module": "@jupyter-widgets/controls",
       "_view_module_version": "2.0.0",
       "_view_name": "HBoxView",
       "box_style": "",
       "children": [
        "IPY_MODEL_c5e949bba95141fba80c5318a01a7d9e",
        "IPY_MODEL_48567dd2506f4778ba70f6ff2134be41",
        "IPY_MODEL_844e945fe5294b3bb004a90831c4d2af"
       ],
       "layout": "IPY_MODEL_4e217d7605a74e39ac7993ffd48823a2",
       "tabbable": null,
       "tooltip": null
      }
     },
     "6c790650951f4e20b02c8fff4112199c": {
      "model_module": "@jupyter-widgets/controls",
      "model_module_version": "2.0.0",
      "model_name": "HBoxModel",
      "state": {
       "_dom_classes": [],
       "_model_module": "@jupyter-widgets/controls",
       "_model_module_version": "2.0.0",
       "_model_name": "HBoxModel",
       "_view_count": null,
       "_view_module": "@jupyter-widgets/controls",
       "_view_module_version": "2.0.0",
       "_view_name": "HBoxView",
       "box_style": "",
       "children": [
        "IPY_MODEL_13eb874c63874cfca8428cde170b6f1b",
        "IPY_MODEL_b22f59f0e87d4ce697510b93a14c38f4",
        "IPY_MODEL_4d3fb70a2d474bf2a485c9efeb500f7e"
       ],
       "layout": "IPY_MODEL_25c65e55dea0419f81ba46f7aa63f87d",
       "tabbable": null,
       "tooltip": null
      }
     },
     "805cba9ae1564424a6d1149ce35c6095": {
      "model_module": "@jupyter-widgets/base",
      "model_module_version": "2.0.0",
      "model_name": "LayoutModel",
      "state": {
       "_model_module": "@jupyter-widgets/base",
       "_model_module_version": "2.0.0",
       "_model_name": "LayoutModel",
       "_view_count": null,
       "_view_module": "@jupyter-widgets/base",
       "_view_module_version": "2.0.0",
       "_view_name": "LayoutView",
       "align_content": null,
       "align_items": null,
       "align_self": null,
       "border_bottom": null,
       "border_left": null,
       "border_right": null,
       "border_top": null,
       "bottom": null,
       "display": null,
       "flex": null,
       "flex_flow": null,
       "grid_area": null,
       "grid_auto_columns": null,
       "grid_auto_flow": null,
       "grid_auto_rows": null,
       "grid_column": null,
       "grid_gap": null,
       "grid_row": null,
       "grid_template_areas": null,
       "grid_template_columns": null,
       "grid_template_rows": null,
       "height": null,
       "justify_content": null,
       "justify_items": null,
       "left": null,
       "margin": null,
       "max_height": null,
       "max_width": null,
       "min_height": null,
       "min_width": null,
       "object_fit": null,
       "object_position": null,
       "order": null,
       "overflow": null,
       "padding": null,
       "right": null,
       "top": null,
       "visibility": null,
       "width": null
      }
     },
     "821b2e1d041c40d7b0cf5d3b6985beeb": {
      "model_module": "@jupyter-widgets/controls",
      "model_module_version": "2.0.0",
      "model_name": "HBoxModel",
      "state": {
       "_dom_classes": [],
       "_model_module": "@jupyter-widgets/controls",
       "_model_module_version": "2.0.0",
       "_model_name": "HBoxModel",
       "_view_count": null,
       "_view_module": "@jupyter-widgets/controls",
       "_view_module_version": "2.0.0",
       "_view_name": "HBoxView",
       "box_style": "",
       "children": [
        "IPY_MODEL_3512741dd5534216ae0a5d51d18497e0",
        "IPY_MODEL_5b05126e723f4fd1b7eb1d421c855ab3",
        "IPY_MODEL_c84d5457a0824346b3a709260718bef7"
       ],
       "layout": "IPY_MODEL_805cba9ae1564424a6d1149ce35c6095",
       "tabbable": null,
       "tooltip": null
      }
     },
     "844e945fe5294b3bb004a90831c4d2af": {
      "model_module": "@jupyter-widgets/controls",
      "model_module_version": "2.0.0",
      "model_name": "HTMLModel",
      "state": {
       "_dom_classes": [],
       "_model_module": "@jupyter-widgets/controls",
       "_model_module_version": "2.0.0",
       "_model_name": "HTMLModel",
       "_view_count": null,
       "_view_module": "@jupyter-widgets/controls",
       "_view_module_version": "2.0.0",
       "_view_name": "HTMLView",
       "description": "",
       "description_allow_html": false,
       "layout": "IPY_MODEL_c85632f3627146e895264750add910e1",
       "placeholder": "​",
       "style": "IPY_MODEL_43d8ea313ffd43948dfe24104d7ba2ad",
       "tabbable": null,
       "tooltip": null,
       "value": " 1/1 [00:00&lt;00:00, 86.97it/s]"
      }
     },
     "8f2e2e650c0246739368d2dd783d2557": {
      "model_module": "@jupyter-widgets/base",
      "model_module_version": "2.0.0",
      "model_name": "LayoutModel",
      "state": {
       "_model_module": "@jupyter-widgets/base",
       "_model_module_version": "2.0.0",
       "_model_name": "LayoutModel",
       "_view_count": null,
       "_view_module": "@jupyter-widgets/base",
       "_view_module_version": "2.0.0",
       "_view_name": "LayoutView",
       "align_content": null,
       "align_items": null,
       "align_self": null,
       "border_bottom": null,
       "border_left": null,
       "border_right": null,
       "border_top": null,
       "bottom": null,
       "display": null,
       "flex": null,
       "flex_flow": null,
       "grid_area": null,
       "grid_auto_columns": null,
       "grid_auto_flow": null,
       "grid_auto_rows": null,
       "grid_column": null,
       "grid_gap": null,
       "grid_row": null,
       "grid_template_areas": null,
       "grid_template_columns": null,
       "grid_template_rows": null,
       "height": null,
       "justify_content": null,
       "justify_items": null,
       "left": null,
       "margin": null,
       "max_height": null,
       "max_width": null,
       "min_height": null,
       "min_width": null,
       "object_fit": null,
       "object_position": null,
       "order": null,
       "overflow": null,
       "padding": null,
       "right": null,
       "top": null,
       "visibility": null,
       "width": null
      }
     },
     "91b4c8d41f694a9e8398a0be089c2380": {
      "model_module": "@jupyter-widgets/base",
      "model_module_version": "2.0.0",
      "model_name": "LayoutModel",
      "state": {
       "_model_module": "@jupyter-widgets/base",
       "_model_module_version": "2.0.0",
       "_model_name": "LayoutModel",
       "_view_count": null,
       "_view_module": "@jupyter-widgets/base",
       "_view_module_version": "2.0.0",
       "_view_name": "LayoutView",
       "align_content": null,
       "align_items": null,
       "align_self": null,
       "border_bottom": null,
       "border_left": null,
       "border_right": null,
       "border_top": null,
       "bottom": null,
       "display": null,
       "flex": null,
       "flex_flow": null,
       "grid_area": null,
       "grid_auto_columns": null,
       "grid_auto_flow": null,
       "grid_auto_rows": null,
       "grid_column": null,
       "grid_gap": null,
       "grid_row": null,
       "grid_template_areas": null,
       "grid_template_columns": null,
       "grid_template_rows": null,
       "height": null,
       "justify_content": null,
       "justify_items": null,
       "left": null,
       "margin": null,
       "max_height": null,
       "max_width": null,
       "min_height": null,
       "min_width": null,
       "object_fit": null,
       "object_position": null,
       "order": null,
       "overflow": null,
       "padding": null,
       "right": null,
       "top": null,
       "visibility": null,
       "width": null
      }
     },
     "95926e8e41104ea288fe4bd179c08524": {
      "model_module": "@jupyter-widgets/controls",
      "model_module_version": "2.0.0",
      "model_name": "HTMLStyleModel",
      "state": {
       "_model_module": "@jupyter-widgets/controls",
       "_model_module_version": "2.0.0",
       "_model_name": "HTMLStyleModel",
       "_view_count": null,
       "_view_module": "@jupyter-widgets/base",
       "_view_module_version": "2.0.0",
       "_view_name": "StyleView",
       "background": null,
       "description_width": "",
       "font_size": null,
       "text_color": null
      }
     },
     "9882d78b4efe4d2e88a9a8def20a9611": {
      "model_module": "@jupyter-widgets/controls",
      "model_module_version": "2.0.0",
      "model_name": "ProgressStyleModel",
      "state": {
       "_model_module": "@jupyter-widgets/controls",
       "_model_module_version": "2.0.0",
       "_model_name": "ProgressStyleModel",
       "_view_count": null,
       "_view_module": "@jupyter-widgets/base",
       "_view_module_version": "2.0.0",
       "_view_name": "StyleView",
       "bar_color": null,
       "description_width": ""
      }
     },
     "a92e0818ad7c472083204932c7b92cfd": {
      "model_module": "@jupyter-widgets/base",
      "model_module_version": "2.0.0",
      "model_name": "LayoutModel",
      "state": {
       "_model_module": "@jupyter-widgets/base",
       "_model_module_version": "2.0.0",
       "_model_name": "LayoutModel",
       "_view_count": null,
       "_view_module": "@jupyter-widgets/base",
       "_view_module_version": "2.0.0",
       "_view_name": "LayoutView",
       "align_content": null,
       "align_items": null,
       "align_self": null,
       "border_bottom": null,
       "border_left": null,
       "border_right": null,
       "border_top": null,
       "bottom": null,
       "display": null,
       "flex": null,
       "flex_flow": null,
       "grid_area": null,
       "grid_auto_columns": null,
       "grid_auto_flow": null,
       "grid_auto_rows": null,
       "grid_column": null,
       "grid_gap": null,
       "grid_row": null,
       "grid_template_areas": null,
       "grid_template_columns": null,
       "grid_template_rows": null,
       "height": null,
       "justify_content": null,
       "justify_items": null,
       "left": null,
       "margin": null,
       "max_height": null,
       "max_width": null,
       "min_height": null,
       "min_width": null,
       "object_fit": null,
       "object_position": null,
       "order": null,
       "overflow": null,
       "padding": null,
       "right": null,
       "top": null,
       "visibility": null,
       "width": null
      }
     },
     "a9a660ab656a498c8d712536fce01741": {
      "model_module": "@jupyter-widgets/base",
      "model_module_version": "2.0.0",
      "model_name": "LayoutModel",
      "state": {
       "_model_module": "@jupyter-widgets/base",
       "_model_module_version": "2.0.0",
       "_model_name": "LayoutModel",
       "_view_count": null,
       "_view_module": "@jupyter-widgets/base",
       "_view_module_version": "2.0.0",
       "_view_name": "LayoutView",
       "align_content": null,
       "align_items": null,
       "align_self": null,
       "border_bottom": null,
       "border_left": null,
       "border_right": null,
       "border_top": null,
       "bottom": null,
       "display": null,
       "flex": null,
       "flex_flow": null,
       "grid_area": null,
       "grid_auto_columns": null,
       "grid_auto_flow": null,
       "grid_auto_rows": null,
       "grid_column": null,
       "grid_gap": null,
       "grid_row": null,
       "grid_template_areas": null,
       "grid_template_columns": null,
       "grid_template_rows": null,
       "height": null,
       "justify_content": null,
       "justify_items": null,
       "left": null,
       "margin": null,
       "max_height": null,
       "max_width": null,
       "min_height": null,
       "min_width": null,
       "object_fit": null,
       "object_position": null,
       "order": null,
       "overflow": null,
       "padding": null,
       "right": null,
       "top": null,
       "visibility": null,
       "width": null
      }
     },
     "b22f59f0e87d4ce697510b93a14c38f4": {
      "model_module": "@jupyter-widgets/controls",
      "model_module_version": "2.0.0",
      "model_name": "FloatProgressModel",
      "state": {
       "_dom_classes": [],
       "_model_module": "@jupyter-widgets/controls",
       "_model_module_version": "2.0.0",
       "_model_name": "FloatProgressModel",
       "_view_count": null,
       "_view_module": "@jupyter-widgets/controls",
       "_view_module_version": "2.0.0",
       "_view_name": "ProgressView",
       "bar_style": "success",
       "description": "",
       "description_allow_html": false,
       "layout": "IPY_MODEL_cb5952a5f35241019a09fcec02e709dc",
       "max": 1.0,
       "min": 0.0,
       "orientation": "horizontal",
       "style": "IPY_MODEL_44de22a5332545848c9b4b76f1f5f8fa",
       "tabbable": null,
       "tooltip": null,
       "value": 1.0
      }
     },
     "b350c915745744d3842b53dcca59c366": {
      "model_module": "@jupyter-widgets/controls",
      "model_module_version": "2.0.0",
      "model_name": "HTMLStyleModel",
      "state": {
       "_model_module": "@jupyter-widgets/controls",
       "_model_module_version": "2.0.0",
       "_model_name": "HTMLStyleModel",
       "_view_count": null,
       "_view_module": "@jupyter-widgets/base",
       "_view_module_version": "2.0.0",
       "_view_name": "StyleView",
       "background": null,
       "description_width": "",
       "font_size": null,
       "text_color": null
      }
     },
     "c0bddb44ec024ddab811f6d30b7c7057": {
      "model_module": "@jupyter-widgets/controls",
      "model_module_version": "2.0.0",
      "model_name": "HTMLModel",
      "state": {
       "_dom_classes": [],
       "_model_module": "@jupyter-widgets/controls",
       "_model_module_version": "2.0.0",
       "_model_name": "HTMLModel",
       "_view_count": null,
       "_view_module": "@jupyter-widgets/controls",
       "_view_module_version": "2.0.0",
       "_view_name": "HTMLView",
       "description": "",
       "description_allow_html": false,
       "layout": "IPY_MODEL_91b4c8d41f694a9e8398a0be089c2380",
       "placeholder": "​",
       "style": "IPY_MODEL_4d7f786d05d84bb6808963b78a22cc15",
       "tabbable": null,
       "tooltip": null,
       "value": " 1/1 [00:01&lt;00:00,  1.84s/it]"
      }
     },
     "c389378538eb4be396c7fa2ece59dbe1": {
      "model_module": "@jupyter-widgets/base",
      "model_module_version": "2.0.0",
      "model_name": "LayoutModel",
      "state": {
       "_model_module": "@jupyter-widgets/base",
       "_model_module_version": "2.0.0",
       "_model_name": "LayoutModel",
       "_view_count": null,
       "_view_module": "@jupyter-widgets/base",
       "_view_module_version": "2.0.0",
       "_view_name": "LayoutView",
       "align_content": null,
       "align_items": null,
       "align_self": null,
       "border_bottom": null,
       "border_left": null,
       "border_right": null,
       "border_top": null,
       "bottom": null,
       "display": null,
       "flex": null,
       "flex_flow": null,
       "grid_area": null,
       "grid_auto_columns": null,
       "grid_auto_flow": null,
       "grid_auto_rows": null,
       "grid_column": null,
       "grid_gap": null,
       "grid_row": null,
       "grid_template_areas": null,
       "grid_template_columns": null,
       "grid_template_rows": null,
       "height": null,
       "justify_content": null,
       "justify_items": null,
       "left": null,
       "margin": null,
       "max_height": null,
       "max_width": null,
       "min_height": null,
       "min_width": null,
       "object_fit": null,
       "object_position": null,
       "order": null,
       "overflow": null,
       "padding": null,
       "right": null,
       "top": null,
       "visibility": null,
       "width": null
      }
     },
     "c5e949bba95141fba80c5318a01a7d9e": {
      "model_module": "@jupyter-widgets/controls",
      "model_module_version": "2.0.0",
      "model_name": "HTMLModel",
      "state": {
       "_dom_classes": [],
       "_model_module": "@jupyter-widgets/controls",
       "_model_module_version": "2.0.0",
       "_model_name": "HTMLModel",
       "_view_count": null,
       "_view_module": "@jupyter-widgets/controls",
       "_view_module_version": "2.0.0",
       "_view_name": "HTMLView",
       "description": "",
       "description_allow_html": false,
       "layout": "IPY_MODEL_c389378538eb4be396c7fa2ece59dbe1",
       "placeholder": "​",
       "style": "IPY_MODEL_5865fdf808284412962089dc287d088e",
       "tabbable": null,
       "tooltip": null,
       "value": "Export report to file: 100%"
      }
     },
     "c84d5457a0824346b3a709260718bef7": {
      "model_module": "@jupyter-widgets/controls",
      "model_module_version": "2.0.0",
      "model_name": "HTMLModel",
      "state": {
       "_dom_classes": [],
       "_model_module": "@jupyter-widgets/controls",
       "_model_module_version": "2.0.0",
       "_model_name": "HTMLModel",
       "_view_count": null,
       "_view_module": "@jupyter-widgets/controls",
       "_view_module_version": "2.0.0",
       "_view_name": "HTMLView",
       "description": "",
       "description_allow_html": false,
       "layout": "IPY_MODEL_fd21ff069050427782177ab38e48e203",
       "placeholder": "​",
       "style": "IPY_MODEL_5b43a00db18340fd9d7d46be7a9572c6",
       "tabbable": null,
       "tooltip": null,
       "value": " 14/14 [00:02&lt;00:00,  4.06it/s, Completed]"
      }
     },
     "c85632f3627146e895264750add910e1": {
      "model_module": "@jupyter-widgets/base",
      "model_module_version": "2.0.0",
      "model_name": "LayoutModel",
      "state": {
       "_model_module": "@jupyter-widgets/base",
       "_model_module_version": "2.0.0",
       "_model_name": "LayoutModel",
       "_view_count": null,
       "_view_module": "@jupyter-widgets/base",
       "_view_module_version": "2.0.0",
       "_view_name": "LayoutView",
       "align_content": null,
       "align_items": null,
       "align_self": null,
       "border_bottom": null,
       "border_left": null,
       "border_right": null,
       "border_top": null,
       "bottom": null,
       "display": null,
       "flex": null,
       "flex_flow": null,
       "grid_area": null,
       "grid_auto_columns": null,
       "grid_auto_flow": null,
       "grid_auto_rows": null,
       "grid_column": null,
       "grid_gap": null,
       "grid_row": null,
       "grid_template_areas": null,
       "grid_template_columns": null,
       "grid_template_rows": null,
       "height": null,
       "justify_content": null,
       "justify_items": null,
       "left": null,
       "margin": null,
       "max_height": null,
       "max_width": null,
       "min_height": null,
       "min_width": null,
       "object_fit": null,
       "object_position": null,
       "order": null,
       "overflow": null,
       "padding": null,
       "right": null,
       "top": null,
       "visibility": null,
       "width": null
      }
     },
     "cb5952a5f35241019a09fcec02e709dc": {
      "model_module": "@jupyter-widgets/base",
      "model_module_version": "2.0.0",
      "model_name": "LayoutModel",
      "state": {
       "_model_module": "@jupyter-widgets/base",
       "_model_module_version": "2.0.0",
       "_model_name": "LayoutModel",
       "_view_count": null,
       "_view_module": "@jupyter-widgets/base",
       "_view_module_version": "2.0.0",
       "_view_name": "LayoutView",
       "align_content": null,
       "align_items": null,
       "align_self": null,
       "border_bottom": null,
       "border_left": null,
       "border_right": null,
       "border_top": null,
       "bottom": null,
       "display": null,
       "flex": null,
       "flex_flow": null,
       "grid_area": null,
       "grid_auto_columns": null,
       "grid_auto_flow": null,
       "grid_auto_rows": null,
       "grid_column": null,
       "grid_gap": null,
       "grid_row": null,
       "grid_template_areas": null,
       "grid_template_columns": null,
       "grid_template_rows": null,
       "height": null,
       "justify_content": null,
       "justify_items": null,
       "left": null,
       "margin": null,
       "max_height": null,
       "max_width": null,
       "min_height": null,
       "min_width": null,
       "object_fit": null,
       "object_position": null,
       "order": null,
       "overflow": null,
       "padding": null,
       "right": null,
       "top": null,
       "visibility": null,
       "width": null
      }
     },
     "d0a961dffd1049f996bf9a94894ca8e4": {
      "model_module": "@jupyter-widgets/controls",
      "model_module_version": "2.0.0",
      "model_name": "HTMLStyleModel",
      "state": {
       "_model_module": "@jupyter-widgets/controls",
       "_model_module_version": "2.0.0",
       "_model_name": "HTMLStyleModel",
       "_view_count": null,
       "_view_module": "@jupyter-widgets/base",
       "_view_module_version": "2.0.0",
       "_view_name": "StyleView",
       "background": null,
       "description_width": "",
       "font_size": null,
       "text_color": null
      }
     },
     "d89f6fc39f0b4987858fdafdb4637eda": {
      "model_module": "@jupyter-widgets/base",
      "model_module_version": "2.0.0",
      "model_name": "LayoutModel",
      "state": {
       "_model_module": "@jupyter-widgets/base",
       "_model_module_version": "2.0.0",
       "_model_name": "LayoutModel",
       "_view_count": null,
       "_view_module": "@jupyter-widgets/base",
       "_view_module_version": "2.0.0",
       "_view_name": "LayoutView",
       "align_content": null,
       "align_items": null,
       "align_self": null,
       "border_bottom": null,
       "border_left": null,
       "border_right": null,
       "border_top": null,
       "bottom": null,
       "display": null,
       "flex": null,
       "flex_flow": null,
       "grid_area": null,
       "grid_auto_columns": null,
       "grid_auto_flow": null,
       "grid_auto_rows": null,
       "grid_column": null,
       "grid_gap": null,
       "grid_row": null,
       "grid_template_areas": null,
       "grid_template_columns": null,
       "grid_template_rows": null,
       "height": null,
       "justify_content": null,
       "justify_items": null,
       "left": null,
       "margin": null,
       "max_height": null,
       "max_width": null,
       "min_height": null,
       "min_width": null,
       "object_fit": null,
       "object_position": null,
       "order": null,
       "overflow": null,
       "padding": null,
       "right": null,
       "top": null,
       "visibility": null,
       "width": null
      }
     },
     "ddd91b4ccabd46be8d548891aed7a021": {
      "model_module": "@jupyter-widgets/base",
      "model_module_version": "2.0.0",
      "model_name": "LayoutModel",
      "state": {
       "_model_module": "@jupyter-widgets/base",
       "_model_module_version": "2.0.0",
       "_model_name": "LayoutModel",
       "_view_count": null,
       "_view_module": "@jupyter-widgets/base",
       "_view_module_version": "2.0.0",
       "_view_name": "LayoutView",
       "align_content": null,
       "align_items": null,
       "align_self": null,
       "border_bottom": null,
       "border_left": null,
       "border_right": null,
       "border_top": null,
       "bottom": null,
       "display": null,
       "flex": null,
       "flex_flow": null,
       "grid_area": null,
       "grid_auto_columns": null,
       "grid_auto_flow": null,
       "grid_auto_rows": null,
       "grid_column": null,
       "grid_gap": null,
       "grid_row": null,
       "grid_template_areas": null,
       "grid_template_columns": null,
       "grid_template_rows": null,
       "height": null,
       "justify_content": null,
       "justify_items": null,
       "left": null,
       "margin": null,
       "max_height": null,
       "max_width": null,
       "min_height": null,
       "min_width": null,
       "object_fit": null,
       "object_position": null,
       "order": null,
       "overflow": null,
       "padding": null,
       "right": null,
       "top": null,
       "visibility": null,
       "width": null
      }
     },
     "e5e078f5a88d45f09a59dc51be2c3b4d": {
      "model_module": "@jupyter-widgets/base",
      "model_module_version": "2.0.0",
      "model_name": "LayoutModel",
      "state": {
       "_model_module": "@jupyter-widgets/base",
       "_model_module_version": "2.0.0",
       "_model_name": "LayoutModel",
       "_view_count": null,
       "_view_module": "@jupyter-widgets/base",
       "_view_module_version": "2.0.0",
       "_view_name": "LayoutView",
       "align_content": null,
       "align_items": null,
       "align_self": null,
       "border_bottom": null,
       "border_left": null,
       "border_right": null,
       "border_top": null,
       "bottom": null,
       "display": null,
       "flex": null,
       "flex_flow": null,
       "grid_area": null,
       "grid_auto_columns": null,
       "grid_auto_flow": null,
       "grid_auto_rows": null,
       "grid_column": null,
       "grid_gap": null,
       "grid_row": null,
       "grid_template_areas": null,
       "grid_template_columns": null,
       "grid_template_rows": null,
       "height": null,
       "justify_content": null,
       "justify_items": null,
       "left": null,
       "margin": null,
       "max_height": null,
       "max_width": null,
       "min_height": null,
       "min_width": null,
       "object_fit": null,
       "object_position": null,
       "order": null,
       "overflow": null,
       "padding": null,
       "right": null,
       "top": null,
       "visibility": null,
       "width": null
      }
     },
     "fc730acb85aa47028a412495375e0fdb": {
      "model_module": "@jupyter-widgets/controls",
      "model_module_version": "2.0.0",
      "model_name": "HBoxModel",
      "state": {
       "_dom_classes": [],
       "_model_module": "@jupyter-widgets/controls",
       "_model_module_version": "2.0.0",
       "_model_name": "HBoxModel",
       "_view_count": null,
       "_view_module": "@jupyter-widgets/controls",
       "_view_module_version": "2.0.0",
       "_view_name": "HBoxView",
       "box_style": "",
       "children": [
        "IPY_MODEL_3ec9d3229dc04c21b3cd8cfe64414a53",
        "IPY_MODEL_59c6b2c758b14cd1aa12c8c181ebbf74",
        "IPY_MODEL_c0bddb44ec024ddab811f6d30b7c7057"
       ],
       "layout": "IPY_MODEL_a9a660ab656a498c8d712536fce01741",
       "tabbable": null,
       "tooltip": null
      }
     },
     "fd21ff069050427782177ab38e48e203": {
      "model_module": "@jupyter-widgets/base",
      "model_module_version": "2.0.0",
      "model_name": "LayoutModel",
      "state": {
       "_model_module": "@jupyter-widgets/base",
       "_model_module_version": "2.0.0",
       "_model_name": "LayoutModel",
       "_view_count": null,
       "_view_module": "@jupyter-widgets/base",
       "_view_module_version": "2.0.0",
       "_view_name": "LayoutView",
       "align_content": null,
       "align_items": null,
       "align_self": null,
       "border_bottom": null,
       "border_left": null,
       "border_right": null,
       "border_top": null,
       "bottom": null,
       "display": null,
       "flex": null,
       "flex_flow": null,
       "grid_area": null,
       "grid_auto_columns": null,
       "grid_auto_flow": null,
       "grid_auto_rows": null,
       "grid_column": null,
       "grid_gap": null,
       "grid_row": null,
       "grid_template_areas": null,
       "grid_template_columns": null,
       "grid_template_rows": null,
       "height": null,
       "justify_content": null,
       "justify_items": null,
       "left": null,
       "margin": null,
       "max_height": null,
       "max_width": null,
       "min_height": null,
       "min_width": null,
       "object_fit": null,
       "object_position": null,
       "order": null,
       "overflow": null,
       "padding": null,
       "right": null,
       "top": null,
       "visibility": null,
       "width": null
      }
     }
    },
    "version_major": 2,
    "version_minor": 0
   }
  }
 },
 "nbformat": 4,
 "nbformat_minor": 5
}
