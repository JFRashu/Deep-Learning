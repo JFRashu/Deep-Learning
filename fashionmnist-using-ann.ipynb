{
 "cells": [
  {
   "cell_type": "markdown",
   "id": "28e9adea",
   "metadata": {
    "papermill": {
     "duration": 0.004855,
     "end_time": "2025-06-05T18:15:24.257932",
     "exception": false,
     "start_time": "2025-06-05T18:15:24.253077",
     "status": "completed"
    },
    "tags": []
   },
   "source": [
    "# Import Torch"
   ]
  },
  {
   "cell_type": "code",
   "execution_count": 1,
   "id": "ca427d6a",
   "metadata": {
    "execution": {
     "iopub.execute_input": "2025-06-05T18:15:24.268511Z",
     "iopub.status.busy": "2025-06-05T18:15:24.268062Z",
     "iopub.status.idle": "2025-06-05T18:15:39.090762Z",
     "shell.execute_reply": "2025-06-05T18:15:39.089504Z"
    },
    "papermill": {
     "duration": 14.829547,
     "end_time": "2025-06-05T18:15:39.092662",
     "exception": false,
     "start_time": "2025-06-05T18:15:24.263115",
     "status": "completed"
    },
    "tags": []
   },
   "outputs": [],
   "source": [
    "import torch\n",
    "from torch import nn\n",
    "from torch.utils.data import DataLoader\n",
    "from torchvision import datasets\n",
    "from torchvision.transforms import ToTensor\n",
    "from sklearn.metrics import classification_report\n",
    "import numpy as np"
   ]
  },
  {
   "cell_type": "markdown",
   "id": "7f4bbd8b",
   "metadata": {
    "papermill": {
     "duration": 0.003424,
     "end_time": "2025-06-05T18:15:39.100246",
     "exception": false,
     "start_time": "2025-06-05T18:15:39.096822",
     "status": "completed"
    },
    "tags": []
   },
   "source": [
    "# Download training & Test Data"
   ]
  },
  {
   "cell_type": "code",
   "execution_count": 2,
   "id": "f7a9bf4b",
   "metadata": {
    "execution": {
     "iopub.execute_input": "2025-06-05T18:15:39.109953Z",
     "iopub.status.busy": "2025-06-05T18:15:39.109325Z",
     "iopub.status.idle": "2025-06-05T18:15:40.589588Z",
     "shell.execute_reply": "2025-06-05T18:15:40.588347Z"
    },
    "papermill": {
     "duration": 1.487379,
     "end_time": "2025-06-05T18:15:40.591279",
     "exception": false,
     "start_time": "2025-06-05T18:15:39.103900",
     "status": "completed"
    },
    "tags": []
   },
   "outputs": [
    {
     "name": "stderr",
     "output_type": "stream",
     "text": [
      "100%|██████████| 26.4M/26.4M [00:00<00:00, 112MB/s]\n",
      "100%|██████████| 29.5k/29.5k [00:00<00:00, 4.28MB/s]\n",
      "100%|██████████| 4.42M/4.42M [00:00<00:00, 58.0MB/s]\n",
      "100%|██████████| 5.15k/5.15k [00:00<00:00, 9.46MB/s]\n"
     ]
    }
   ],
   "source": [
    "# Download training data from open datasets.\n",
    "training_data = datasets.FashionMNIST(\n",
    "    root=\"data\",\n",
    "    train=True,\n",
    "    download=True,\n",
    "    transform=ToTensor(),\n",
    ")\n",
    "\n",
    "# Download test data from open datasets.\n",
    "test_data = datasets.FashionMNIST(\n",
    "    root=\"data\",\n",
    "    train=False,\n",
    "    download=True,\n",
    "    transform=ToTensor(),\n",
    ")"
   ]
  },
  {
   "cell_type": "markdown",
   "id": "a30c4a01",
   "metadata": {
    "papermill": {
     "duration": 0.004141,
     "end_time": "2025-06-05T18:15:40.600264",
     "exception": false,
     "start_time": "2025-06-05T18:15:40.596123",
     "status": "completed"
    },
    "tags": []
   },
   "source": [
    "# Create data loaders"
   ]
  },
  {
   "cell_type": "code",
   "execution_count": 3,
   "id": "15794771",
   "metadata": {
    "execution": {
     "iopub.execute_input": "2025-06-05T18:15:40.610890Z",
     "iopub.status.busy": "2025-06-05T18:15:40.610544Z",
     "iopub.status.idle": "2025-06-05T18:15:40.649038Z",
     "shell.execute_reply": "2025-06-05T18:15:40.647493Z"
    },
    "papermill": {
     "duration": 0.04619,
     "end_time": "2025-06-05T18:15:40.651114",
     "exception": false,
     "start_time": "2025-06-05T18:15:40.604924",
     "status": "completed"
    },
    "tags": []
   },
   "outputs": [
    {
     "name": "stdout",
     "output_type": "stream",
     "text": [
      "Shape of X [N, C, H, W]: torch.Size([64, 1, 28, 28])\n",
      "Shape of y: torch.Size([64]) torch.int64\n"
     ]
    }
   ],
   "source": [
    "batch_size = 64\n",
    "\n",
    "# Create data loaders.\n",
    "train_dataloader = DataLoader(training_data, batch_size=batch_size)\n",
    "test_dataloader = DataLoader(test_data, batch_size=batch_size)\n",
    "\n",
    "for X, y in test_dataloader:\n",
    "    print(f\"Shape of X [N, C, H, W]: {X.shape}\")\n",
    "    print(f\"Shape of y: {y.shape} {y.dtype}\")\n",
    "    break"
   ]
  },
  {
   "cell_type": "markdown",
   "id": "bdbb381b",
   "metadata": {
    "papermill": {
     "duration": 0.004262,
     "end_time": "2025-06-05T18:15:40.660081",
     "exception": false,
     "start_time": "2025-06-05T18:15:40.655819",
     "status": "completed"
    },
    "tags": []
   },
   "source": [
    "# Creating Models"
   ]
  },
  {
   "cell_type": "code",
   "execution_count": 4,
   "id": "f1783556",
   "metadata": {
    "execution": {
     "iopub.execute_input": "2025-06-05T18:15:40.671366Z",
     "iopub.status.busy": "2025-06-05T18:15:40.670295Z",
     "iopub.status.idle": "2025-06-05T18:15:40.690336Z",
     "shell.execute_reply": "2025-06-05T18:15:40.689164Z"
    },
    "papermill": {
     "duration": 0.027508,
     "end_time": "2025-06-05T18:15:40.692172",
     "exception": false,
     "start_time": "2025-06-05T18:15:40.664664",
     "status": "completed"
    },
    "tags": []
   },
   "outputs": [
    {
     "name": "stdout",
     "output_type": "stream",
     "text": [
      "Using cpu device\n",
      "NeuralNetwork(\n",
      "  (flatten): Flatten(start_dim=1, end_dim=-1)\n",
      "  (linear_leakyrelu_stack): Sequential(\n",
      "    (0): Linear(in_features=784, out_features=250, bias=True)\n",
      "    (1): BatchNorm1d(250, eps=1e-05, momentum=0.1, affine=True, track_running_stats=True)\n",
      "    (2): LeakyReLU(negative_slope=0.01)\n",
      "    (3): Dropout(p=0.2, inplace=False)\n",
      "    (4): Linear(in_features=250, out_features=125, bias=True)\n",
      "    (5): BatchNorm1d(125, eps=1e-05, momentum=0.1, affine=True, track_running_stats=True)\n",
      "    (6): LeakyReLU(negative_slope=0.01)\n",
      "    (7): Dropout(p=0.2, inplace=False)\n",
      "    (8): Linear(in_features=125, out_features=75, bias=True)\n",
      "    (9): BatchNorm1d(75, eps=1e-05, momentum=0.1, affine=True, track_running_stats=True)\n",
      "    (10): LeakyReLU(negative_slope=0.01)\n",
      "    (11): Dropout(p=0.2, inplace=False)\n",
      "    (12): Linear(in_features=75, out_features=10, bias=True)\n",
      "  )\n",
      ")\n"
     ]
    }
   ],
   "source": [
    "import torch\n",
    "import torch.nn as nn\n",
    "\n",
    "device = torch.accelerator.current_accelerator().type if torch.accelerator.is_available() else \"cpu\"\n",
    "print(f\"Using {device} device\")\n",
    "\n",
    "class NeuralNetwork(nn.Module):\n",
    "    def __init__(self):\n",
    "        super().__init__()\n",
    "        self.flatten = nn.Flatten()\n",
    "        self.linear_leakyrelu_stack = nn.Sequential(\n",
    "            nn.Linear(28*28, 250),\n",
    "            nn.BatchNorm1d(250),\n",
    "            nn.LeakyReLU(negative_slope=0.01),\n",
    "            nn.Dropout(0.2),  # Added dropout\n",
    "            nn.Linear(250, 125),\n",
    "            nn.BatchNorm1d(125),\n",
    "            nn.LeakyReLU(negative_slope=0.01),\n",
    "            nn.Dropout(0.2),  # Added dropout\n",
    "            nn.Linear(125, 75),\n",
    "            nn.BatchNorm1d(75),\n",
    "            nn.LeakyReLU(negative_slope=0.01),\n",
    "            nn.Dropout(0.2),  # Added dropout\n",
    "            nn.Linear(75, 10),\n",
    "        )\n",
    "\n",
    "    def forward(self, x):\n",
    "        x = self.flatten(x)\n",
    "        logits = self.linear_leakyrelu_stack(x)\n",
    "        return logits\n",
    "        \n",
    "model = NeuralNetwork().to(device)\n",
    "print(model)"
   ]
  },
  {
   "cell_type": "markdown",
   "id": "f47ee667",
   "metadata": {
    "papermill": {
     "duration": 0.004348,
     "end_time": "2025-06-05T18:15:40.701218",
     "exception": false,
     "start_time": "2025-06-05T18:15:40.696870",
     "status": "completed"
    },
    "tags": []
   },
   "source": [
    "# Code to Check Dataset Size"
   ]
  },
  {
   "cell_type": "code",
   "execution_count": 5,
   "id": "b006a9ed",
   "metadata": {
    "execution": {
     "iopub.execute_input": "2025-06-05T18:15:40.712004Z",
     "iopub.status.busy": "2025-06-05T18:15:40.711246Z",
     "iopub.status.idle": "2025-06-05T18:15:40.716905Z",
     "shell.execute_reply": "2025-06-05T18:15:40.715914Z"
    },
    "papermill": {
     "duration": 0.012572,
     "end_time": "2025-06-05T18:15:40.718304",
     "exception": false,
     "start_time": "2025-06-05T18:15:40.705732",
     "status": "completed"
    },
    "tags": []
   },
   "outputs": [
    {
     "name": "stdout",
     "output_type": "stream",
     "text": [
      "Total training samples: 60000\n",
      "Total test samples: 10000\n",
      "Total dataset size: 70000\n"
     ]
    }
   ],
   "source": [
    "# Print total number of samples in training and test datasets\n",
    "print(f\"Total training samples: {len(training_data)}\")\n",
    "print(f\"Total test samples: {len(test_data)}\")\n",
    "print(f\"Total dataset size: {len(training_data) + len(test_data)}\")"
   ]
  },
  {
   "cell_type": "markdown",
   "id": "6d24380a",
   "metadata": {
    "papermill": {
     "duration": 0.005087,
     "end_time": "2025-06-05T18:15:40.728117",
     "exception": false,
     "start_time": "2025-06-05T18:15:40.723030",
     "status": "completed"
    },
    "tags": []
   },
   "source": [
    "# Display Data"
   ]
  },
  {
   "cell_type": "code",
   "execution_count": 6,
   "id": "d9e09f22",
   "metadata": {
    "execution": {
     "iopub.execute_input": "2025-06-05T18:15:40.738484Z",
     "iopub.status.busy": "2025-06-05T18:15:40.738147Z",
     "iopub.status.idle": "2025-06-05T18:15:41.224728Z",
     "shell.execute_reply": "2025-06-05T18:15:41.223562Z"
    },
    "papermill": {
     "duration": 0.49399,
     "end_time": "2025-06-05T18:15:41.226700",
     "exception": false,
     "start_time": "2025-06-05T18:15:40.732710",
     "status": "completed"
    },
    "tags": []
   },
   "outputs": [
    {
     "data": {
      "image/png": "[encoded data removed]",
      "text/plain": [
       "<Figure size 1000x600 with 6 Axes>"
      ]
     },
     "metadata": {},
     "output_type": "display_data"
    }
   ],
   "source": [
    "import matplotlib.pyplot as plt\n",
    "import numpy as np\n",
    "\n",
    "# Define class labels for FashionMNIST\n",
    "class_names = ['T-shirt/top', 'Trouser', 'Pullover', 'Dress', 'Coat',\n",
    "               'Sandal', 'Shirt', 'Sneaker', 'Bag', 'Ankle boot']\n",
    "\n",
    "# Get one batch of images and labels from the test dataloader\n",
    "images, labels = next(iter(test_dataloader))\n",
    "\n",
    "# Plot the first 6 images\n",
    "plt.figure(figsize=(10, 6))\n",
    "for i in range(6):\n",
    "    plt.subplot(2, 3, i+1)\n",
    "    # Convert tensor to numpy and remove channel dimension\n",
    "    image = images[i].numpy().squeeze()\n",
    "    plt.imshow(image, cmap='gray')\n",
    "    plt.title(class_names[labels[i]])\n",
    "    plt.axis('off')\n",
    "plt.show()"
   ]
  },
  {
   "cell_type": "markdown",
   "id": "6766c8a0",
   "metadata": {
    "papermill": {
     "duration": 0.004881,
     "end_time": "2025-06-05T18:15:41.236810",
     "exception": false,
     "start_time": "2025-06-05T18:15:41.231929",
     "status": "completed"
    },
    "tags": []
   },
   "source": [
    "# Optimizing the Model Parameters"
   ]
  },
  {
   "cell_type": "code",
   "execution_count": 7,
   "id": "1d6ac277",
   "metadata": {
    "execution": {
     "iopub.execute_input": "2025-06-05T18:15:41.249293Z",
     "iopub.status.busy": "2025-06-05T18:15:41.248996Z",
     "iopub.status.idle": "2025-06-05T18:15:41.254692Z",
     "shell.execute_reply": "2025-06-05T18:15:41.253465Z"
    },
    "papermill": {
     "duration": 0.014257,
     "end_time": "2025-06-05T18:15:41.256771",
     "exception": false,
     "start_time": "2025-06-05T18:15:41.242514",
     "status": "completed"
    },
    "tags": []
   },
   "outputs": [],
   "source": [
    "loss_fn = nn.CrossEntropyLoss()\n",
    "optimizer = torch.optim.SGD(model.parameters(), lr=0.001)"
   ]
  },
  {
   "cell_type": "markdown",
   "id": "d5223fd0",
   "metadata": {
    "papermill": {
     "duration": 0.004811,
     "end_time": "2025-06-05T18:15:41.267367",
     "exception": false,
     "start_time": "2025-06-05T18:15:41.262556",
     "status": "completed"
    },
    "tags": []
   },
   "source": [
    "# Optimizing the Model using Adamoptimizer"
   ]
  },
  {
   "cell_type": "code",
   "execution_count": 8,
   "id": "414c3c7f",
   "metadata": {
    "execution": {
     "iopub.execute_input": "2025-06-05T18:15:41.280783Z",
     "iopub.status.busy": "2025-06-05T18:15:41.280395Z",
     "iopub.status.idle": "2025-06-05T18:15:41.287141Z",
     "shell.execute_reply": "2025-06-05T18:15:41.285812Z"
    },
    "papermill": {
     "duration": 0.015475,
     "end_time": "2025-06-05T18:15:41.289222",
     "exception": false,
     "start_time": "2025-06-05T18:15:41.273747",
     "status": "completed"
    },
    "tags": []
   },
   "outputs": [],
   "source": [
    "criterion = nn.CrossEntropyLoss()\n",
    "optimizer = torch.optim.Adam(model.parameters(), lr=0.001) "
   ]
  },
  {
   "cell_type": "markdown",
   "id": "fb8b88ee",
   "metadata": {
    "papermill": {
     "duration": 0.005054,
     "end_time": "2025-06-05T18:15:41.299732",
     "exception": false,
     "start_time": "2025-06-05T18:15:41.294678",
     "status": "completed"
    },
    "tags": []
   },
   "source": [
    "# Train Function"
   ]
  },
  {
   "cell_type": "code",
   "execution_count": 9,
   "id": "e824810a",
   "metadata": {
    "execution": {
     "iopub.execute_input": "2025-06-05T18:15:41.311574Z",
     "iopub.status.busy": "2025-06-05T18:15:41.311188Z",
     "iopub.status.idle": "2025-06-05T18:15:41.318574Z",
     "shell.execute_reply": "2025-06-05T18:15:41.317521Z"
    },
    "papermill": {
     "duration": 0.015161,
     "end_time": "2025-06-05T18:15:41.320117",
     "exception": false,
     "start_time": "2025-06-05T18:15:41.304956",
     "status": "completed"
    },
    "tags": []
   },
   "outputs": [],
   "source": [
    "def train(dataloader, model, loss_fn, optimizer):\n",
    "    size = len(dataloader.dataset)\n",
    "    model.train()\n",
    "    for batch, (X, y) in enumerate(dataloader):\n",
    "        X, y = X.to(device), y.to(device)\n",
    "\n",
    "        # Compute prediction error\n",
    "        pred = model(X)\n",
    "        loss = loss_fn(pred, y)\n",
    "\n",
    "        # Backpropagation\n",
    "        loss.backward()\n",
    "        optimizer.step()\n",
    "        optimizer.zero_grad()\n",
    "\n",
    "        if batch % 100 == 0:\n",
    "            loss, current = loss.item(), (batch + 1) * len(X)\n",
    "           "
   ]
  },
  {
   "cell_type": "markdown",
   "id": "c2ac1ff9",
   "metadata": {
    "papermill": {
     "duration": 0.004729,
     "end_time": "2025-06-05T18:15:41.330077",
     "exception": false,
     "start_time": "2025-06-05T18:15:41.325348",
     "status": "completed"
    },
    "tags": []
   },
   "source": [
    "# Test Function"
   ]
  },
  {
   "cell_type": "code",
   "execution_count": 10,
   "id": "cbab3c73",
   "metadata": {
    "execution": {
     "iopub.execute_input": "2025-06-05T18:15:41.342143Z",
     "iopub.status.busy": "2025-06-05T18:15:41.341836Z",
     "iopub.status.idle": "2025-06-05T18:15:41.350085Z",
     "shell.execute_reply": "2025-06-05T18:15:41.349144Z"
    },
    "papermill": {
     "duration": 0.016473,
     "end_time": "2025-06-05T18:15:41.352008",
     "exception": false,
     "start_time": "2025-06-05T18:15:41.335535",
     "status": "completed"
    },
    "tags": []
   },
   "outputs": [],
   "source": [
    "def test(dataloader, model, loss_fn):\n",
    "    size = len(dataloader.dataset)\n",
    "    num_batches = len(dataloader)\n",
    "    model.eval()\n",
    "    test_loss, correct = 0, 0\n",
    "    all_preds = []\n",
    "    all_labels = []\n",
    "    \n",
    "    with torch.no_grad():\n",
    "        for X, y in dataloader:\n",
    "            X, y = X.to(device), y.to(device)\n",
    "            pred = model(X)\n",
    "            test_loss += loss_fn(pred, y).item()\n",
    "            predictions = pred.argmax(1)\n",
    "            correct += (predictions == y).type(torch.float).sum().item()\n",
    "            all_preds.extend(predictions.cpu().numpy())  # Collect predictions\n",
    "            all_labels.extend(y.cpu().numpy())  # Collect true labels\n",
    "    \n",
    "    test_loss /= num_batches\n",
    "    correct /= size\n",
    "    \n",
    "    # Generate classification report\n",
    "    class_names = ['T-shirt/top', 'Trouser', 'Pullover', 'Dress', 'Coat',\n",
    "                   'Sandal', 'Shirt', 'Sneaker', 'Bag', 'Ankle boot']\n",
    "    print(f\"Test Error: \\n Accuracy: {(100*correct):>0.1f}%, Avg loss: {test_loss:>8f} \\n\")\n",
    "    print(\"Classification Report:\\n\")\n",
    "    print(classification_report(all_labels, all_preds, target_names=class_names))"
   ]
  },
  {
   "cell_type": "markdown",
   "id": "02338165",
   "metadata": {
    "papermill": {
     "duration": 0.004951,
     "end_time": "2025-06-05T18:15:41.362438",
     "exception": false,
     "start_time": "2025-06-05T18:15:41.357487",
     "status": "completed"
    },
    "tags": []
   },
   "source": [
    "# Train Data"
   ]
  },
  {
   "cell_type": "code",
   "execution_count": 11,
   "id": "f2d421a7",
   "metadata": {
    "execution": {
     "iopub.execute_input": "2025-06-05T18:15:41.373790Z",
     "iopub.status.busy": "2025-06-05T18:15:41.373479Z",
     "iopub.status.idle": "2025-06-05T18:16:46.519253Z",
     "shell.execute_reply": "2025-06-05T18:16:46.518153Z"
    },
    "papermill": {
     "duration": 65.153619,
     "end_time": "2025-06-05T18:16:46.521126",
     "exception": false,
     "start_time": "2025-06-05T18:15:41.367507",
     "status": "completed"
    },
    "tags": []
   },
   "outputs": [
    {
     "name": "stdout",
     "output_type": "stream",
     "text": [
      "Epoch 1\n",
      "-------------------------------\n",
      "Test Error: \n",
      " Accuracy: 83.5%, Avg loss: 0.434986 \n",
      "\n",
      "Classification Report:\n",
      "\n",
      "              precision    recall  f1-score   support\n",
      "\n",
      " T-shirt/top       0.81      0.82      0.81      1000\n",
      "     Trouser       0.99      0.94      0.97      1000\n",
      "    Pullover       0.83      0.57      0.67      1000\n",
      "       Dress       0.86      0.87      0.87      1000\n",
      "        Coat       0.73      0.70      0.72      1000\n",
      "      Sandal       0.98      0.86      0.92      1000\n",
      "       Shirt       0.53      0.72      0.61      1000\n",
      "     Sneaker       0.88      0.94      0.91      1000\n",
      "         Bag       0.95      0.97      0.96      1000\n",
      "  Ankle boot       0.91      0.95      0.93      1000\n",
      "\n",
      "    accuracy                           0.84     10000\n",
      "   macro avg       0.85      0.84      0.84     10000\n",
      "weighted avg       0.85      0.84      0.84     10000\n",
      "\n",
      "Epoch 2\n",
      "-------------------------------\n",
      "Test Error: \n",
      " Accuracy: 85.9%, Avg loss: 0.383253 \n",
      "\n",
      "Classification Report:\n",
      "\n",
      "              precision    recall  f1-score   support\n",
      "\n",
      " T-shirt/top       0.83      0.83      0.83      1000\n",
      "     Trouser       1.00      0.95      0.97      1000\n",
      "    Pullover       0.85      0.64      0.73      1000\n",
      "       Dress       0.89      0.89      0.89      1000\n",
      "        Coat       0.75      0.79      0.76      1000\n",
      "      Sandal       0.96      0.91      0.94      1000\n",
      "       Shirt       0.61      0.72      0.66      1000\n",
      "     Sneaker       0.88      0.96      0.92      1000\n",
      "         Bag       0.94      0.98      0.96      1000\n",
      "  Ankle boot       0.96      0.93      0.94      1000\n",
      "\n",
      "    accuracy                           0.86     10000\n",
      "   macro avg       0.86      0.86      0.86     10000\n",
      "weighted avg       0.86      0.86      0.86     10000\n",
      "\n",
      "Epoch 3\n",
      "-------------------------------\n",
      "Test Error: \n",
      " Accuracy: 84.7%, Avg loss: 0.406401 \n",
      "\n",
      "Classification Report:\n",
      "\n",
      "              precision    recall  f1-score   support\n",
      "\n",
      " T-shirt/top       0.83      0.82      0.82      1000\n",
      "     Trouser       1.00      0.95      0.97      1000\n",
      "    Pullover       0.88      0.58      0.70      1000\n",
      "       Dress       0.85      0.90      0.87      1000\n",
      "        Coat       0.76      0.69      0.72      1000\n",
      "      Sandal       0.98      0.92      0.95      1000\n",
      "       Shirt       0.52      0.75      0.62      1000\n",
      "     Sneaker       0.91      0.95      0.93      1000\n",
      "         Bag       0.96      0.96      0.96      1000\n",
      "  Ankle boot       0.94      0.95      0.95      1000\n",
      "\n",
      "    accuracy                           0.85     10000\n",
      "   macro avg       0.86      0.85      0.85     10000\n",
      "weighted avg       0.86      0.85      0.85     10000\n",
      "\n",
      "Epoch 4\n",
      "-------------------------------\n",
      "Test Error: \n",
      " Accuracy: 86.6%, Avg loss: 0.366929 \n",
      "\n",
      "Classification Report:\n",
      "\n",
      "              precision    recall  f1-score   support\n",
      "\n",
      " T-shirt/top       0.81      0.84      0.83      1000\n",
      "     Trouser       0.99      0.95      0.97      1000\n",
      "    Pullover       0.85      0.69      0.76      1000\n",
      "       Dress       0.89      0.88      0.89      1000\n",
      "        Coat       0.77      0.77      0.77      1000\n",
      "      Sandal       0.98      0.92      0.95      1000\n",
      "       Shirt       0.62      0.72      0.67      1000\n",
      "     Sneaker       0.89      0.95      0.92      1000\n",
      "         Bag       0.96      0.98      0.97      1000\n",
      "  Ankle boot       0.95      0.95      0.95      1000\n",
      "\n",
      "    accuracy                           0.87     10000\n",
      "   macro avg       0.87      0.87      0.87     10000\n",
      "weighted avg       0.87      0.87      0.87     10000\n",
      "\n",
      "Epoch 5\n",
      "-------------------------------\n",
      "Test Error: \n",
      " Accuracy: 87.0%, Avg loss: 0.360477 \n",
      "\n",
      "Classification Report:\n",
      "\n",
      "              precision    recall  f1-score   support\n",
      "\n",
      " T-shirt/top       0.86      0.80      0.83      1000\n",
      "     Trouser       0.99      0.96      0.98      1000\n",
      "    Pullover       0.85      0.66      0.74      1000\n",
      "       Dress       0.89      0.90      0.89      1000\n",
      "        Coat       0.76      0.79      0.78      1000\n",
      "      Sandal       0.98      0.93      0.95      1000\n",
      "       Shirt       0.61      0.76      0.68      1000\n",
      "     Sneaker       0.92      0.95      0.94      1000\n",
      "         Bag       0.96      0.98      0.97      1000\n",
      "  Ankle boot       0.94      0.96      0.95      1000\n",
      "\n",
      "    accuracy                           0.87     10000\n",
      "   macro avg       0.88      0.87      0.87     10000\n",
      "weighted avg       0.88      0.87      0.87     10000\n",
      "\n",
      "Done!\n"
     ]
    }
   ],
   "source": [
    "epochs = 5\n",
    "for t in range(epochs):\n",
    "    print(f\"Epoch {t+1}\\n-------------------------------\")\n",
    "    train(train_dataloader, model, loss_fn, optimizer)\n",
    "    test(test_dataloader, model, loss_fn)\n",
    "print(\"Done!\")"
   ]
  }
 ],
 "metadata": {
  "kaggle": {
   "accelerator": "none",
   "dataSources": [],
   "dockerImageVersionId": 31040,
   "isGpuEnabled": false,
   "isInternetEnabled": true,
   "language": "python",
   "sourceType": "notebook"
  },
  "kernelspec": {
   "display_name": "Python 3",
   "language": "python",
   "name": "python3"
  },
  "language_info": {
   "codemirror_mode": {
    "name": "ipython",
    "version": 3
   },
   "file_extension": ".py",
   "mimetype": "text/x-python",
   "name": "python",
   "nbconvert_exporter": "python",
   "pygments_lexer": "ipython3",
   "version": "3.11.11"
  },
  "papermill": {
   "default_parameters": {},
   "duration": 90.247084,
   "end_time": "2025-06-05T18:16:49.466698",
   "environment_variables": {},
   "exception": null,
   "input_path": "__notebook__.ipynb",
   "output_path": "__notebook__.ipynb",
   "parameters": {},
   "start_time": "2025-06-05T18:15:19.219614",
   "version": "2.6.0"
  }
 },
 "nbformat": 4,
 "nbformat_minor": 5
}
